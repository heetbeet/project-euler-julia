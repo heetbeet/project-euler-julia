{
 "cells": [
  {
   "outputs": [],
   "cell_type": "code",
   "source": [
    "include((@__DIR__)*\"/shared.jl\");"
   ],
   "metadata": {},
   "execution_count": null
  },
  {
   "cell_type": "markdown",
   "source": [
    "<h2>Problem 476: Circle Packing II</h2>\n",
    "<p>Let <var>R</var>(<var>a</var>, <var>b</var>, <var>c</var>) be the maximum area covered by three non-overlapping circles inside a triangle with edge lengths <var>a</var>, <var>b</var> and <var>c</var>.</p>\n",
    "<p>Let <var>S</var>(<var>n</var>) be the average value of <var>R</var>(<var>a</var>, <var>b</var>, <var>c</var>) over all integer triplets (<var>a</var>, <var>b</var>, <var>c</var>) such that 1 ≤ <var>a</var> ≤ <var>b</var> ≤ <var>c</var> &lt; <var>a</var> + <var>b</var> ≤ <var>n</var></p>\n",
    "<p>You are given <var>S</var>(2) = <var>R</var>(1, 1, 1) ≈ 0.31998, <var>S</var>(5) ≈ 1.25899.</p>\n",
    "<p>Find <var>S</var>(1803) rounded to 5 decimal places behind the decimal point.</p>"
   ],
   "metadata": {}
  },
  {
   "outputs": [],
   "cell_type": "code",
   "source": [
    "submit_answer(nothing; prob_num=476)"
   ],
   "metadata": {},
   "execution_count": null
  },
  {
   "cell_type": "markdown",
   "source": [
    "<h2>Problem 477: Number Sequence Game</h2>\n",
    "<p>The number sequence game starts with a sequence <var>S</var> of <var>N</var> numbers written on a line.</p>\n",
    "<p>Two players alternate turns. The players on their respective turns must select and remove either the first or the last number remaining in the sequence.</p>\n",
    "<p>A player's own score is (determined by) the sum of all the numbers that player has taken. Each player attempts to maximize their own sum.</p>\n",
    "If <var>N</var> = 4 and <var>S</var> = {1, 2, 10, 3}, then each player maximizes their own score as follows:\n",
    "<ul><li>Player 1: removes the first number (1)</li>\n",
    "<li>Player 2: removes the last number from the remaining sequence (3)</li>\n",
    "<li>Player 1: removes the last number from the remaining sequence (10)</li>\n",
    "<li>Player 2: removes the remaining number (2)</li>\n",
    "</ul><p>Player 1 score is 1 + 10 = 11.</p>\n",
    "<p>Let <var>F</var>(<var>N</var>) be the score of player 1 if both players follow the optimal strategy for the sequence <var>S</var> = {<var>s</var><sub>1</sub>, <var>s</var><sub>2</sub>, ..., <var>s<sub>N</sub></var>} defined as:</p>\n",
    "<ul><li><var>s</var><sub>1</sub> = 0</li>\n",
    "<li><var>s</var><sub><var>i</var>+1</sub> = (<var>s<sub>i</sub></var><sup>2</sup> + 45) modulo 1 000 000 007</li>\n",
    "</ul><p>The sequence begins with <var>S</var> = {0, 45, 2070, 4284945, 753524550, 478107844, 894218625, ...}.</p>\n",
    "<p>You are given <var>F</var>(2) = 45, <var>F</var>(4) = 4284990, <var>F</var>(100) = 26365463243, <var>F</var>(10<sup>4</sup>) = 2495838522951.</p>\n",
    "<p>Find <var>F</var>(10<sup>8</sup>).</p>"
   ],
   "metadata": {}
  },
  {
   "outputs": [],
   "cell_type": "code",
   "source": [
    "submit_answer(nothing; prob_num=477)"
   ],
   "metadata": {},
   "execution_count": null
  },
  {
   "cell_type": "markdown",
   "source": [
    "<h2>Problem 478: Mixtures</h2>\n",
    "<p>Let us consider <b>mixtures</b> of three substances: <b>A</b>, <b>B</b> and <b>C</b>. A mixture can be described by a ratio of the amounts of <b>A</b>, <b>B</b>, and <b>C</b> in it, i.e., (<var>a</var> : <var>b</var> : <var>c</var>). For example, a mixture described by the ratio (2 : 3 : 5) contains 20% <b>A</b>, 30% <b>B</b> and 50% <b>C</b>.</p>\n",
    "\n",
    "<p>For the purposes of this problem, we cannot separate the individual components from a mixture. However, we can combine different amounts of different mixtures to form mixtures with new ratios.</p>\n",
    "\n",
    "<p>For example, say we have three mixtures with ratios (3 : 0 : 2), (3 : 6 : 11) and (3 : 3 : 4). By mixing 10 units of the first, 20 units of the second and 30 units of the third, we get a new mixture with ratio (6 : 5 : 9), since:<br />\n",
    "(10·<sup>3</sup>/<sub>5</sub> + 20·<sup>3</sup>/<sub>20</sub> + 30·<sup>3</sup>/<sub>10</sub> : 10·<sup>0</sup>/<sub>5</sub> + 20·<sup>6</sup>/<sub>20</sub> + 30·<sup>3</sup>/<sub>10</sub> : 10·<sup>2</sup>/<sub>5</sub> + 20·<sup>11</sup>/<sub>20</sub> + 30·<sup>4</sup>/<sub>10</sub>)\n",
    "= (18 : 15 : 27) = (6 : 5 : 9)</p>\n",
    "\n",
    "<p>However, with the same three mixtures, it is impossible to form the ratio (3 : 2 : 1), since the amount of <b>B</b> is always less than the amount of <b>C</b>.</p>\n",
    "\n",
    "<p>Let <var>n</var> be a positive integer. Suppose that for every triple of integers (<var>a</var>, <var>b</var>, <var>c</var>) with 0 ≤ <var>a</var>, <var>b</var>, <var>c</var> ≤ <var>n</var> and gcd(<var>a</var>, <var>b</var>, <var>c</var>) = 1, we have a mixture with ratio (<var>a</var> : <var>b</var> : <var>c</var>). Let M(<var>n</var>) be the set of all such mixtures.</p>\n",
    "\n",
    "<p>For example, M(2) contains the 19 mixtures with the following ratios:<br />\n",
    "{(0 : 0 : 1), (0 : 1 : 0), (0 : 1 : 1), (0 : 1 : 2), (0 : 2 : 1), <br />\n",
    "(1 : 0 : 0), (1 : 0 : 1), (1 : 0 : 2), (1 : 1 : 0), (1 : 1 : 1), <br />\n",
    "(1 : 1 : 2), (1 : 2 : 0), (1 : 2 : 1), (1 : 2 : 2), (2 : 0 : 1), <br />\n",
    "(2 : 1 : 0), (2 : 1 : 1), (2 : 1 : 2), (2 : 2 : 1)}.</p>\n",
    "\n",
    "<p>Let E(<var>n</var>) be the number of subsets of M(<var>n</var>) which can produce the mixture with ratio (1 : 1 : 1), i.e., the mixture with equal parts <b>A</b>, <b>B</b> and <b>C</b>. <br />\n",
    "We can verify that E(1) = 103, E(2) = 520447, E(10) mod 11<sup>8</sup> = 82608406 and E(500) mod 11<sup>8</sup> = 13801403.<br />\n",
    "Find E(10 000 000) mod 11<sup>8</sup>.</p>"
   ],
   "metadata": {}
  },
  {
   "outputs": [],
   "cell_type": "code",
   "source": [
    "submit_answer(nothing; prob_num=478)"
   ],
   "metadata": {},
   "execution_count": null
  },
  {
   "cell_type": "markdown",
   "source": [
    "<h2>Problem 479: Roots on the Rise</h2>\n",
    "<p>Let $a_k$, $b_k$, and $c_k$ represent the three solutions (real or complex numbers) to the equation\n",
    "$\\frac 1 x = (\\frac k x)^2(k+x^2)-k x$.</p>\n",
    "\n",
    "<p>For instance, for $k=5$, we see that $\\{a_5, b_5, c_5 \\}$ is approximately $\\{5.727244, -0.363622+2.057397i, -0.363622-2.057397i\\}$.</p>\n",
    "\n",
    "<p>Let $\\displaystyle S(n) = \\sum_{p=1}^n\\sum_{k=1}^n(a_k+b_k)^p(b_k+c_k)^p(c_k+a_k)^p$. </p>\n",
    "\n",
    "<p>Interestingly, $S(n)$ is always an integer. For example, $S(4) = 51160$.</p>\n",
    "\n",
    "<p>Find $S(10^6)$ modulo $1\\,000\\,000\\,007$.</p>"
   ],
   "metadata": {}
  },
  {
   "outputs": [],
   "cell_type": "code",
   "source": [
    "submit_answer(nothing; prob_num=479)"
   ],
   "metadata": {},
   "execution_count": null
  },
  {
   "cell_type": "markdown",
   "source": [
    "<h2>Problem 480: The Last Question</h2>\n",
    "<p>Consider all the words which can be formed by selecting letters, in any order, from the phrase:</p>\n",
    "<p></p><div class=\"center\"><b>thereisasyetinsufficientdataforameaningfulanswer</b></div>\n",
    "<p>Suppose those with 15 letters or less are listed in <b>alphabetical order</b> and numbered sequentially starting at 1.<br />\n",
    "The list would include:</p>\n",
    "<ul style=\"list-style-type:none;\"><li>1 : a</li>\n",
    "<li>2 : aa</li>\n",
    "<li>3 : aaa</li>\n",
    "<li>4 : aaaa</li>\n",
    "<li>5 : aaaaa</li>\n",
    "<li>6 : aaaaaa</li>\n",
    "<li>7 : aaaaaac</li>\n",
    "<li>8 : aaaaaacd</li>\n",
    "<li>9 : aaaaaacde</li>\n",
    "<li>10 : aaaaaacdee</li>\n",
    "<li>11 : aaaaaacdeee</li>\n",
    "<li>12 : aaaaaacdeeee</li>\n",
    "<li>13 : aaaaaacdeeeee</li>\n",
    "<li>14 : aaaaaacdeeeeee</li>\n",
    "<li>15 : aaaaaacdeeeeeef</li>\n",
    "<li>16 : aaaaaacdeeeeeeg</li>\n",
    "<li>17 : aaaaaacdeeeeeeh</li>\n",
    "<li>...</li>\n",
    "<li>28 : aaaaaacdeeeeeey</li>\n",
    "<li>29 : aaaaaacdeeeeef</li>\n",
    "<li>30 : aaaaaacdeeeeefe</li>\n",
    "<li>...</li>\n",
    "<li>115246685191495242: euleoywuttttsss</li>\n",
    "<li>115246685191495243: euler</li>\n",
    "<li>115246685191495244: eulera</li>\n",
    "<li>...</li>\n",
    "<li>525069350231428029: ywuuttttssssrrr</li></ul><p>Define <var>P</var>(<var>w</var>) as the position of the word <var>w</var>.<br />\n",
    "Define <var>W</var>(<var>p</var>) as the word in position <var>p</var>.<br />\n",
    "We can see that <var>P</var>(<var>w</var>) and <var>W</var>(<var>p</var>) are inverses: <var>P</var>(<var>W</var>(<var>p</var>)) = <var>p</var> and <var>W</var>(<var>P</var>(<var>w</var>)) = <var>w</var>.</p>\n",
    "<p>Examples:</p>\n",
    "<ul style=\"list-style-type:none;\"><li><var>W</var>(10) = aaaaaacdee</li>\n",
    "<li><var>P</var>(aaaaaacdee) = 10</li>\n",
    "<li><var>W</var>(115246685191495243) = euler</li>\n",
    "<li><var>P</var>(euler) = 115246685191495243</li></ul><p>Find <var>W</var>(<var>P</var>(legionary) + <var>P</var>(calorimeters) - <var>P</var>(annihilate) + <var>P</var>(orchestrated) - <var>P</var>(fluttering)).<br />\n",
    "Give your answer using lowercase characters (no punctuation or space).</p>"
   ],
   "metadata": {}
  },
  {
   "outputs": [],
   "cell_type": "code",
   "source": [
    "submit_answer(nothing; prob_num=480)"
   ],
   "metadata": {},
   "execution_count": null
  },
  {
   "cell_type": "markdown",
   "source": [
    "<h2>Problem 481: Chef Showdown</h2>\n",
    "<p>A group of chefs (numbered #1, #2, etc) participate in a turn-based strategic cooking competition. On each chef's turn, he/she cooks up a dish to the best of his/her ability and gives it to a separate panel of judges for taste-testing. Let S(<var>k</var>) represent chef #<var>k</var>'s skill level (which is publicly known). More specifically, S(<var>k</var>) is the probability that chef #<var>k</var>'s dish will be assessed favorably by the judges (on any/all turns). If the dish receives a favorable rating, then the chef must choose one other chef to be eliminated from the competition. The last chef remaining in the competition is the winner.</p>\n",
    "\n",
    "<p>The game always begins with chef #1, with the turn order iterating sequentially over the rest of the chefs still in play. Then the cycle repeats from the lowest-numbered chef. All chefs aim to optimize their chances of winning within the rules as stated, assuming that the other chefs behave in the same manner. In the event that a chef has more than one equally-optimal elimination choice, assume that the chosen chef is always the one with the next-closest turn.</p>\n",
    "\n",
    "<p>Define W<sub>n</sub>(<var>k</var>) as the probability that chef #<var>k</var> wins in a competition with <var>n</var> chefs. If we have S(1) = 0.25, S(2) = 0.5, and S(3) = 1, then W<sub>3</sub>(1) = 0.29375.</p>\n",
    "\n",
    "<p>Going forward, we assign S(<var>k</var>) = F<sub>k</sub>/F<sub>n+1</sub> over all 1 ≤ <var>k</var> ≤ <var>n</var>, where F<sub>k</sub> is a Fibonacci number: F<sub>k</sub> = F<sub>k-1</sub> + F<sub>k-2</sub> with base cases F<sub>1</sub> = F<sub>2</sub> = 1. Then, for example, when considering a competition with <var>n</var> = 7 chefs, we have W<sub>7</sub>(1) = 0.08965042, W<sub>7</sub>(2) = 0.20775702, W<sub>7</sub>(3) = 0.15291406, W<sub>7</sub>(4) = 0.14554098, W<sub>7</sub>(5) = 0.15905291, W<sub>7</sub>(6) = 0.10261412, and W<sub>7</sub>(7) = 0.14247050, rounded to 8 decimal places each.</p>\n",
    "\n",
    "<p>Let E(<var>n</var>) represent the expected number of dishes cooked in a competition with <var>n</var> chefs. For instance, E(7) = 42.28176050.</p>\n",
    "\n",
    "<p>Find E(14) rounded to 8 decimal places.</p>"
   ],
   "metadata": {}
  },
  {
   "outputs": [],
   "cell_type": "code",
   "source": [
    "submit_answer(nothing; prob_num=481)"
   ],
   "metadata": {},
   "execution_count": null
  },
  {
   "cell_type": "markdown",
   "source": [
    "<h2>Problem 482: The incenter of a triangle</h2>\n",
    "<p>\n",
    "ABC is an integer sided triangle with incenter I and perimeter p.<br />\n",
    "The segments IA, IB and IC have integral length as well.\n",
    "</p>\n",
    "<p>\n",
    "Let L = p + |IA| + |IB| + |IC|.\n",
    "</p>\n",
    "<p>\n",
    "Let S(P) = <span style=\"font-size:larger;\"><span style=\"font-size:larger;\">∑</span></span> L for all such triangles where p ≤ P. For example, S(10<sup>3</sup>) = 3619.\n",
    "</p>\n",
    "<p>\n",
    "Find S(10<sup>7</sup>).\n",
    "</p>"
   ],
   "metadata": {}
  },
  {
   "outputs": [],
   "cell_type": "code",
   "source": [
    "submit_answer(nothing; prob_num=482)"
   ],
   "metadata": {},
   "execution_count": null
  },
  {
   "cell_type": "markdown",
   "source": [
    "<h2>Problem 483: Repeated permutation</h2>\n",
    "<p>\n",
    "We define a <i>permutation</i> as an operation that rearranges the order of the elements {1, 2, 3, ..., n}.\n",
    "There are n! such permutations, one of which leaves the elements in their initial order.\n",
    "For n = 3 we have 3! = 6 permutations:<br />\n",
    "- P<sub>1</sub> = keep the initial order<br />\n",
    "- P<sub>2</sub> = exchange the 1<sup>st</sup> and 2<sup>nd</sup> elements<br />\n",
    "- P<sub>3</sub> = exchange the 1<sup>st</sup> and 3<sup>rd</sup> elements<br />\n",
    "- P<sub>4</sub> = exchange the 2<sup>nd</sup> and 3<sup>rd</sup> elements<br />\n",
    "- P<sub>5</sub> = rotate the elements to the right<br />\n",
    "- P<sub>6</sub> = rotate the elements to the left\n",
    "</p>\n",
    "<p>\n",
    "If we select one of these permutations, and we re-apply the <span style=\"text-decoration:underline;\">same</span> permutation repeatedly, we eventually restore the initial order.<br />For a permutation P<sub>i</sub>, let f(P<sub>i</sub>) be the number of steps required to restore the initial order by applying the permutation P<sub>i</sub> repeatedly.<br />For n = 3, we obtain:<br />- f(P<sub>1</sub>) = 1 : (1,2,3) → (1,2,3)<br />- f(P<sub>2</sub>) = 2 : (1,2,3) → (2,1,3) → (1,2,3)<br />- f(P<sub>3</sub>) = 2 : (1,2,3) → (3,2,1) → (1,2,3)<br />- f(P<sub>4</sub>) = 2 : (1,2,3) → (1,3,2) → (1,2,3)<br />- f(P<sub>5</sub>) = 3 : (1,2,3) → (3,1,2) → (2,3,1) → (1,2,3)<br />- f(P<sub>6</sub>) = 3 : (1,2,3) → (2,3,1) → (3,1,2) → (1,2,3)\n",
    "</p>\n",
    "<p>\n",
    "Let g(n) be the average value of f<sup>2</sup>(P<sub>i</sub>) over all permutations P<sub>i</sub> of length n.<br />g(3) = (1<sup>2</sup> + 2<sup>2</sup> + 2<sup>2</sup> + 2<sup>2</sup> + 3<sup>2</sup> + 3<sup>2</sup>)/3! = 31/6 ≈ 5.166666667e0<br />g(5) = 2081/120 ≈ 1.734166667e1<br />g(20) = 12422728886023769167301/2432902008176640000 ≈ 5.106136147e3\n",
    "</p>\n",
    "<p>\n",
    "Find g(350) and write the answer in scientific notation rounded to 10 significant digits, using a lowercase e to separate mantissa and exponent, as in the examples above.\n",
    "</p>"
   ],
   "metadata": {}
  },
  {
   "outputs": [],
   "cell_type": "code",
   "source": [
    "submit_answer(nothing; prob_num=483)"
   ],
   "metadata": {},
   "execution_count": null
  },
  {
   "cell_type": "markdown",
   "source": [
    "<h2>Problem 484: Arithmetic Derivative</h2>\n",
    "<p>The <strong>arithmetic derivative</strong> is defined by</p>\n",
    "<ul><li><var>p'</var> = 1 for any prime <var>p</var></li>\n",
    "<li>(<var>ab</var>)<var>'</var> = <var>a'b</var> + <var>ab'</var> for all integers <var>a</var>, <var>b</var> (Leibniz rule)</li>\n",
    "</ul><p>For example, 20<var>'</var> = 24.</p>\n",
    "\n",
    "<p>Find <span style=\"font-size:larger;\"><span style=\"font-size:larger;\">∑</span></span> <strong>gcd</strong>(<var>k</var>,<var>k'</var>) for 1 &lt; <var>k</var> ≤ 5×10<sup>15</sup>.</p>\n",
    "\n",
    "<p><span style=\"font-size:smaller;\">Note: <strong>gcd</strong>(<var>x</var>,<var>y</var>) denotes the greatest common divisor of <var>x</var> and <var>y</var>.</span></p>"
   ],
   "metadata": {}
  },
  {
   "outputs": [],
   "cell_type": "code",
   "source": [
    "submit_answer(nothing; prob_num=484)"
   ],
   "metadata": {},
   "execution_count": null
  },
  {
   "cell_type": "markdown",
   "source": [
    "<h2>Problem 485: Maximum number of divisors</h2>\n",
    "<p>\n",
    "Let d(n) be the number of divisors of n.<br />\n",
    "Let M(n,k) be the maximum value of d(j) for n ≤ j ≤ n+k-1.<br />\n",
    "Let S(u,k) be the sum of M(n,k) for 1 ≤ n ≤ u-k+1.\n",
    "</p>\n",
    "<p>\n",
    "You are given that S(1000,10)=17176.\n",
    "</p>\n",
    "<p>\n",
    "Find S(100 000 000,100 000).\n",
    "</p>"
   ],
   "metadata": {}
  },
  {
   "outputs": [],
   "cell_type": "code",
   "source": [
    "submit_answer(nothing; prob_num=485)"
   ],
   "metadata": {},
   "execution_count": null
  },
  {
   "cell_type": "markdown",
   "source": [
    "<h2>Problem 486: Palindrome-containing strings</h2>\n",
    "<p>Let F<sub>5</sub>(<var>n</var>) be the number of strings <var>s</var> such that:</p>\n",
    "<ul><li><var>s</var> consists only of '0's and '1's,\n",
    "</li><li><var>s</var> has length at most <var>n</var>, and\n",
    "</li><li><var>s</var> contains a palindromic substring of length at least 5.\n",
    "</li></ul><p>For example, F<sub>5</sub>(4) = 0, F<sub>5</sub>(5) = 8,\n",
    "F<sub>5</sub>(6) = 42 and F<sub>5</sub>(11) = 3844.</p>\n",
    "\n",
    "<p>Let D(<var>L</var>) be the number of integers <var>n</var> such that\n",
    "5 ≤ <var>n</var> ≤ <var>L</var> and F<sub>5</sub>(<var>n</var>) is divisible by 87654321.</p>\n",
    "\n",
    "<p>For example, D(10<sup>7</sup>) = 0 and D(5·10<sup>9</sup>) = 51.</p>\n",
    "\n",
    "<p>Find D(10<sup>18</sup>).</p>"
   ],
   "metadata": {}
  },
  {
   "outputs": [],
   "cell_type": "code",
   "source": [
    "submit_answer(nothing; prob_num=486)"
   ],
   "metadata": {},
   "execution_count": null
  },
  {
   "cell_type": "markdown",
   "source": [
    "<h2>Problem 487: Sums of power sums</h2>\n",
    "<p>Let f<sub>k</sub>(<var>n</var>) be the sum of the <var>k</var><sup>th</sup> powers of the first <var>n</var> positive integers.</p>\n",
    "\n",
    "<p>For example, f<sub>2</sub>(10) = 1<sup>2</sup> + 2<sup>2</sup> + 3<sup>2</sup> + 4<sup>2</sup> + 5<sup>2</sup> + 6<sup>2</sup> + 7<sup>2</sup> + 8<sup>2</sup> + 9<sup>2</sup> + 10<sup>2</sup> = 385.</p>\n",
    "\n",
    "<p>Let S<sub>k</sub>(<var>n</var>) be the sum of f<sub>k</sub>(<var>i</var>) for 1 ≤ <var>i</var> ≤ <var>n</var>. For example, S<sub>4</sub>(100) = 35375333830.</p>\n",
    "\n",
    "<p>What is <span style=\"font-size:larger;\"><span style=\"font-size:larger;\">∑</span></span> (S<sub>10000</sub>(10<sup>12</sup>) mod p) over all primes <var>p</var> between 2 ⋅ 10<sup>9</sup> and 2 ⋅ 10<sup>9</sup> + 2000?</p>"
   ],
   "metadata": {}
  },
  {
   "outputs": [],
   "cell_type": "code",
   "source": [
    "submit_answer(nothing; prob_num=487)"
   ],
   "metadata": {},
   "execution_count": null
  },
  {
   "cell_type": "markdown",
   "source": [
    "<h2>Problem 488: Unbalanced Nim</h2>\n",
    "<p>Alice and Bob have enjoyed playing <b>Nim</b> every day. However, they finally got bored of playing ordinary three-heap Nim.<br />\n",
    "So, they added an extra rule:</p>\n",
    "\n",
    "<p>- Must not make two heaps of the same size.</p>\n",
    "\n",
    "<p>The triple (<var>a</var>,<var>b</var>,<var>c</var>) indicates the size of three heaps.<br />\n",
    "Under this extra rule, (2,4,5) is one of the losing positions for the next player.</p>\n",
    "\n",
    "<p>To illustrate:<br />\n",
    "- Alice moves to (2,4,3)<br />\n",
    "- Bob   moves to (0,4,3)<br />\n",
    "- Alice moves to (0,2,3)<br />\n",
    "- Bob   moves to (0,2,1)</p>\n",
    "\n",
    "<p>Unlike ordinary three-heap Nim, (0,1,2) and its permutations are the end states of this game.</p>\n",
    "\n",
    "<p>For an integer <var>N</var>, we define F(<var>N</var>) as the sum of <var>a</var>+<var>b</var>+<var>c</var> for all the losing positions for the next player, with 0 &lt; <var>a</var> &lt; <var>b</var> &lt; <var>c</var> &lt; <var>N</var>.</p>\n",
    "\n",
    "<p>For example, F(8) = 42, because there are 4 losing positions for the next player, (1,3,5), (1,4,6), (2,3,6) and (2,4,5).<br />\n",
    "We can also verify that F(128) = 496062.</p>\n",
    "\n",
    "<p>Find the last 9 digits of F(10<sup>18</sup>).</p>"
   ],
   "metadata": {}
  },
  {
   "outputs": [],
   "cell_type": "code",
   "source": [
    "submit_answer(nothing; prob_num=488)"
   ],
   "metadata": {},
   "execution_count": null
  },
  {
   "cell_type": "markdown",
   "source": [
    "<h2>Problem 489: Common factors between two sequences</h2>\n",
    "<p>Let <var>G</var>(<var>a</var>, <var>b</var>) be the smallest non-negative integer <var>n</var> for which <dfn title=\"Greatest common divisor\">gcd</dfn>(<var>n</var><sup>3</sup> + <var>b</var>, (<var>n</var> + <var>a</var>)<sup>3</sup> + <var>b</var>) is maximized.<br />\n",
    "For example, <var>G</var>(1, 1) = 5 because gcd(<var>n</var><sup>3</sup> + 1, (<var>n</var> + 1)<sup>3</sup> + 1) reaches its maximum value of 7 for <var>n</var> = 5, and is smaller for 0 ≤ n &lt; 5.<br />\n",
    "Let <var>H</var>(<var>m</var>, <var>n</var>) = <span style=\"font-size:larger;\"><span style=\"font-size:larger;\">∑</span></span> <var>G</var>(<var>a</var>, <var>b</var>) for 1 ≤ <var>a</var> ≤ <var>m</var>, 1 ≤ <var>b</var> ≤ <var>n</var>.<br />\n",
    "You are given <var>H</var>(5, 5) = 128878 and <var>H</var>(10, 10) = 32936544.\n",
    "</p><p>Find <var>H</var>(18, 1900).</p>"
   ],
   "metadata": {}
  },
  {
   "outputs": [],
   "cell_type": "code",
   "source": [
    "submit_answer(nothing; prob_num=489)"
   ],
   "metadata": {},
   "execution_count": null
  },
  {
   "cell_type": "markdown",
   "source": [
    "<h2>Problem 490: Jumping frog</h2>\n",
    "<p>There are <var>n</var> stones in a pond, numbered 1 to <var>n</var>. Consecutive stones are spaced one unit apart.</p>\n",
    "\n",
    "<p>A frog sits on stone 1. He wishes to visit each stone exactly once, stopping on stone <var>n</var>. However, he can only jump from one stone to another if they are at most 3 units apart. In other words, from stone <var>i</var>, he can reach a stone <var>j</var> if 1 ≤ <var>j</var> ≤ <var>n</var> and <var>j</var> is in the set {<var>i</var>-3, <var>i</var>-2, <var>i</var>-1, <var>i</var>+1, <var>i</var>+2, <var>i</var>+3}.</p>\n",
    "\n",
    "<p>Let f(<var>n</var>) be the number of ways he can do this. For example, f(6) = 14, as shown below:<br />\n",
    "1 → 2 → 3 → 4 → 5 → 6 <br />\n",
    "1 → 2 → 3 → 5 → 4 → 6 <br />\n",
    "1 → 2 → 4 → 3 → 5 → 6 <br />\n",
    "1 → 2 → 4 → 5 → 3 → 6 <br />\n",
    "1 → 2 → 5 → 3 → 4 → 6 <br />\n",
    "1 → 2 → 5 → 4 → 3 → 6 <br />\n",
    "1 → 3 → 2 → 4 → 5 → 6 <br />\n",
    "1 → 3 → 2 → 5 → 4 → 6 <br />\n",
    "1 → 3 → 4 → 2 → 5 → 6 <br />\n",
    "1 → 3 → 5 → 2 → 4 → 6 <br />\n",
    "1 → 4 → 2 → 3 → 5 → 6 <br />\n",
    "1 → 4 → 2 → 5 → 3 → 6 <br />\n",
    "1 → 4 → 3 → 2 → 5 → 6 <br />\n",
    "1 → 4 → 5 → 2 → 3 → 6</p>\n",
    "\n",
    "<p>Other examples are f(10) = 254 and f(40) = 1439682432976.</p>\n",
    "\n",
    "<p>Let S(<var>L</var>) = ∑ f(<var>n</var>)<sup>3</sup> for 1 ≤ <var>n</var> ≤ <var>L</var>.<br />\n",
    "Examples:<br />\n",
    "S(10) = 18230635<br />\n",
    "S(20) = 104207881192114219<br />\n",
    "S(1 000) mod 10<sup>9</sup> = 225031475<br />\n",
    "S(1 000 000) mod 10<sup>9</sup> = 363486179</p>\n",
    "\n",
    "<p>Find S(10<sup>14</sup>) mod 10<sup>9</sup>.</p>"
   ],
   "metadata": {}
  },
  {
   "outputs": [],
   "cell_type": "code",
   "source": [
    "submit_answer(nothing; prob_num=490)"
   ],
   "metadata": {},
   "execution_count": null
  },
  {
   "cell_type": "markdown",
   "source": [
    "<h2>Problem 491: Double pandigital number divisible by 11</h2>\n",
    "<p>We call a positive integer <i>double pandigital</i> if it uses all the digits 0 to 9 exactly twice (with no leading zero). For example, 40561817703823564929 is one such number.</p>\n",
    "\n",
    "<p>How many double pandigital numbers are divisible by 11?</p>"
   ],
   "metadata": {}
  },
  {
   "outputs": [],
   "cell_type": "code",
   "source": [
    "submit_answer(nothing; prob_num=491)"
   ],
   "metadata": {},
   "execution_count": null
  },
  {
   "cell_type": "markdown",
   "source": [
    "<h2>Problem 492: Exploding sequence</h2>\n",
    "<p>Define the sequence a<sub>1</sub>, a<sub>2</sub>, a<sub>3</sub>, ... as:</p>\n",
    "<ul><li>a<sub>1</sub> = 1</li>\n",
    "<li>a<sub><var>n</var>+1</sub> = 6a<sub><var>n</var></sub><sup>2</sup> + 10a<sub><var>n</var></sub> + 3 for <var>n</var> ≥ 1.</li>\n",
    "</ul><p>\n",
    "Examples:<br />\n",
    "a<sub>3</sub> = 2359<br />\n",
    "a<sub>6</sub> = 269221280981320216750489044576319<br />\n",
    "a<sub>6</sub> mod 1 000 000 007 = 203064689<br />\n",
    "a<sub>100</sub> mod 1 000 000 007 = 456482974\n",
    "</p>\n",
    "\n",
    "<p>\n",
    "Define B(<var>x</var>,<var>y</var>,<var>n</var>) as ∑ (a<sub><var>n</var></sub> mod <var>p</var>) for every prime <var>p</var> such that <var>x</var> ≤ <var>p</var> ≤ <var>x</var>+<var>y</var>.\n",
    "</p>\n",
    "\n",
    "<p>\n",
    "Examples:<br />\n",
    "B(10<sup>9</sup>, 10<sup>3</sup>, 10<sup>3</sup>) = 23674718882<br />\n",
    "B(10<sup>9</sup>, 10<sup>3</sup>, 10<sup>15</sup>) = 20731563854\n",
    "</p>\n",
    "\n",
    "<p>Find B(10<sup>9</sup>, 10<sup>7</sup>, 10<sup>15</sup>).</p>"
   ],
   "metadata": {}
  },
  {
   "outputs": [],
   "cell_type": "code",
   "source": [
    "submit_answer(nothing; prob_num=492)"
   ],
   "metadata": {},
   "execution_count": null
  },
  {
   "cell_type": "markdown",
   "source": [
    "<h2>Problem 493: Under The Rainbow</h2>\n",
    "<p>70 coloured balls are placed in an urn, 10 for each of the seven rainbow colours.</p>\n",
    "<p>What is the expected number of distinct colours in 20 randomly picked balls?</p>\n",
    "<p>Give your answer with nine digits after the decimal point (a.bcdefghij).</p>"
   ],
   "metadata": {}
  },
  {
   "outputs": [],
   "cell_type": "code",
   "source": [
    "submit_answer(nothing; prob_num=493)"
   ],
   "metadata": {},
   "execution_count": null
  },
  {
   "cell_type": "markdown",
   "source": [
    "<h2>Problem 494: Collatz prefix families</h2>\n",
    "<p>\n",
    "The Collatz sequence is defined as:\n",
    "$a_{i+1} = \\left\\{  \\large{\\frac {a_i} 2 \\atop 3 a_i+1} {\\text{if }a_i\\text{ is even} \\atop \\text{if }a_i\\text{ is odd}} \\right.$.\n",
    "</p>\n",
    "<p>\n",
    "The Collatz conjecture states that starting from any positive integer, the sequence eventually reaches the cycle 1,4,2,1....<br />\n",
    "We shall define the sequence prefix <var>p(n)</var> for the Collatz sequence starting with <var>a<sub>1</sub> = n</var> as the sub-sequence of all numbers not a power of 2 (2<sup>0</sup>=1 is considered a power of 2 for this problem). For example:<br /><var>p</var>(13) = {13, 40, 20, 10, 5} <br /><var>p</var>(8) = {}<br />\n",
    "Any number invalidating the conjecture would have an infinite length sequence prefix.\n",
    "</p>\n",
    "<p>\n",
    "Let <var>S<sub>m</sub></var> be the set of all sequence prefixes of length <var>m</var>. Two sequences {a<sub>1</sub>, a<sub>2</sub>, ..., a<sub><var>m</var></sub>} and {b<sub>1</sub>, b<sub>2</sub>, ..., b<sub><var>m</var></sub>} in <var>S<sub>m</sub></var> are said to belong to the same prefix family if a<sub>i</sub> &lt; a<sub>j</sub> if and only if b<sub>i</sub> &lt; b<sub>j</sub> for all 1 ≤ i,j ≤<var> m</var>.\n",
    "</p>\n",
    "<p>\n",
    "For example, in <var>S</var><sub>4</sub>, {6, 3, 10, 5} is in the same family as {454, 227, 682, 341}, but not {113, 340, 170, 85}.<br />\n",
    "Let <var>f(m)</var> be the number of distinct prefix families in <var>S<sub>m</sub></var>.<br />\n",
    "You are given <var>f</var>(5) = 5, <var>f</var>(10) = 55, <var>f</var>(20) = 6771.\n",
    "</p>\n",
    "<p>\n",
    "Find f(90).\n",
    "</p>"
   ],
   "metadata": {}
  },
  {
   "outputs": [],
   "cell_type": "code",
   "source": [
    "submit_answer(nothing; prob_num=494)"
   ],
   "metadata": {},
   "execution_count": null
  },
  {
   "cell_type": "markdown",
   "source": [
    "<h2>Problem 495: Writing n as the product of k distinct positive integers</h2>\n",
    "<p>Let <var>W</var>(<var>n</var>,<var>k</var>) be the number of ways in which <var>n</var> can be written as the product of <var>k</var> distinct positive integers.</p>\n",
    "<p>For example, <var>W</var>(144,4) = 7. There are 7 ways in which 144 can be written as a product of 4 distinct positive integers:</p>\n",
    "<p></p><ul><li>144 = 1×2×4×18</li>\n",
    "<li>144 = 1×2×8×9</li>\n",
    "<li>144 = 1×2×3×24</li>\n",
    "<li>144 = 1×2×6×12</li>\n",
    "<li>144 = 1×3×4×12</li>\n",
    "<li>144 = 1×3×6×8</li>\n",
    "<li>144 = 2×3×4×6</li>\n",
    "</ul><p>Note that permutations of the integers themselves are not considered distinct.</p>\n",
    "<p>Furthermore, <var>W</var>(100!,10) modulo 1 000 000 007 = 287549200.</p>\n",
    "<p>Find <var>W</var>(10000!,30) modulo 1 000 000 007.</p>"
   ],
   "metadata": {}
  },
  {
   "outputs": [],
   "cell_type": "code",
   "source": [
    "submit_answer(nothing; prob_num=495)"
   ],
   "metadata": {},
   "execution_count": null
  },
  {
   "cell_type": "markdown",
   "source": [
    "<h2>Problem 496: Incenter and circumcenter of triangle</h2>\n",
    "<p>Given an integer sided triangle ABC:<br />\n",
    "Let I be the incenter of ABC.<br />\n",
    "Let D be the intersection between the line AI and the circumcircle of ABC (A ≠ D).</p>\n",
    "\n",
    "<p>We define F(<var>L</var>) as the sum of BC for the triangles ABC that satisfy AC = DI and BC ≤ <var>L</var>.</p>\n",
    "\n",
    "<p>For example, F(15) = 45 because the triangles ABC with (BC,AC,AB) = (6,4,5), (12,8,10), (12,9,7), (15,9,16) satisfy the conditions.</p>\n",
    "\n",
    "<p>Find F(10<sup>9</sup>).</p>"
   ],
   "metadata": {}
  },
  {
   "outputs": [],
   "cell_type": "code",
   "source": [
    "submit_answer(nothing; prob_num=496)"
   ],
   "metadata": {},
   "execution_count": null
  },
  {
   "cell_type": "markdown",
   "source": [
    "<h2>Problem 497: Drunken Tower of Hanoi</h2>\n",
    "<p>Bob is very familiar with the famous mathematical puzzle/game, \"Tower of Hanoi,\" which consists of three upright rods and disks of different sizes that can slide onto any of the rods. The game begins with a stack of <var>n</var> disks placed on the leftmost rod in descending order by size. The objective of the game is to move all of the disks from the leftmost rod to the rightmost rod, given the following restrictions:</p>\n",
    "\n",
    "<ol><li>Only one disk can be moved at a time.</li>\n",
    "<li>A valid move consists of taking the top disk from one stack and placing it onto another stack (or an empty rod).</li>\n",
    "<li>No disk can be placed on top of a smaller disk.</li>\n",
    "</ol><p>Moving on to a variant of this game, consider a long room <var>k</var> units (square tiles) wide, labeled from 1 to <var>k</var> in ascending order. Three rods are placed at squares <var>a</var>, <var>b</var>, and <var>c</var>, and a stack of <var>n</var> disks is placed on the rod at square <var>a</var>.</p>\n",
    "\n",
    "<p>Bob begins the game standing at square <var>b</var>. His objective is to play the Tower of Hanoi game by moving all of the disks to the rod at square <var>c</var>. However, Bob can only pick up or set down a disk if he is on the same square as the rod / stack in question.</p>\n",
    "\n",
    "<p>Unfortunately, Bob is also drunk. On a given move, Bob will either stumble one square to the left or one square to the right with equal probability, unless Bob is at either end of the room, in which case he can only move in one direction. Despite Bob's inebriated state, he is still capable of following the rules of the game itself, as well as choosing when to pick up or put down a disk.</p>\n",
    "\n",
    "<p>The following animation depicts a side-view of a sample game for <var>n</var> = 3, <var>k</var> = 7, <var>a</var> = 2, <var>b</var> = 4, and <var>c</var> = 6:</p>\n",
    "\n",
    "<p align=\"center\"><img src=\"project/images/p497_hanoi.gif\" alt=\"p497_hanoi.gif\" /></p>\n",
    "\n",
    "<p>Let E(<var>n</var>,<var>k</var>,<var>a</var>,<var>b</var>,<var>c</var>) be the expected number of squares that Bob travels during a single optimally-played game. A game is played optimally if the number of disk-pickups is minimized.</p>\n",
    "\n",
    "<p>Interestingly enough, the result is always an integer. For example, E(2,5,1,3,5) = 60 and E(3,20,4,9,17) = 2358.</p>\n",
    "\n",
    "<p>Find the last nine digits of ∑<sub>1≤<var>n</var>≤10000</sub> E(<var>n</var>,10<sup><var>n</var></sup>,3<sup><var>n</var></sup>,6<sup><var>n</var></sup>,9<sup><var>n</var></sup>).</p>"
   ],
   "metadata": {}
  },
  {
   "outputs": [],
   "cell_type": "code",
   "source": [
    "submit_answer(nothing; prob_num=497)"
   ],
   "metadata": {},
   "execution_count": null
  },
  {
   "cell_type": "markdown",
   "source": [
    "<h2>Problem 498: Remainder of polynomial division</h2>\n",
    "<p>For positive integers <var>n</var> and <var>m</var>, we define two polynomials F<sub><var>n</var></sub>(<var>x</var>) = <var>x</var><sup><var>n</var></sup> and G<sub><var>m</var></sub>(<var>x</var>) = (<var>x</var>-1)<sup><var>m</var></sup>.<br />\n",
    "We also define a polynomial R<sub><var>n</var>,<var>m</var></sub>(<var>x</var>) as the remainder of the division of F<sub><var>n</var></sub>(<var>x</var>) by G<sub><var>m</var></sub>(<var>x</var>).<br />\n",
    "For example, R<sub>6,3</sub>(<var>x</var>) = 15<var>x</var><sup>2</sup> - 24<var>x</var> + 10.</p>\n",
    "\n",
    "<p>Let C(<var>n</var>, <var>m</var>, <var>d</var>) be the absolute value of the coefficient of the <var>d</var>-th degree term of R<sub><var>n</var>,<var>m</var></sub>(<var>x</var>).<br />\n",
    "We can verify that C(6, 3, 1) = 24 and C(100, 10, 4) = 227197811615775.</p>\n",
    "\n",
    "<p>Find C(10<sup>13</sup>, 10<sup>12</sup>, 10<sup>4</sup>) mod 999999937.</p>"
   ],
   "metadata": {}
  },
  {
   "outputs": [],
   "cell_type": "code",
   "source": [
    "submit_answer(nothing; prob_num=498)"
   ],
   "metadata": {},
   "execution_count": null
  },
  {
   "cell_type": "markdown",
   "source": [
    "<h2>Problem 499: St. Petersburg Lottery</h2>\n",
    "<p>A gambler decides to participate in a special lottery. In this lottery the gambler plays a series of one or more games.<br />\n",
    "Each game costs <var>m</var> pounds to play and starts with an initial pot of 1 pound. The gambler flips an unbiased coin. Every time a head appears, the pot is doubled and the gambler continues. When a tail appears, the game ends and the gambler collects the current value of the pot. The gambler is certain to win at least 1 pound, the starting value of the pot, at the cost of <var>m</var> pounds, the initial fee.</p>\n",
    "\n",
    "<p>The game ends if the gambler's fortune falls below <var>m</var> pounds.\n",
    "Let <var>p<sub>m</sub></var>(<var>s</var>) denote the probability that the gambler will never run out of money in this lottery given an initial fortune <var>s</var> and the cost per game <var>m</var>.<br />\n",
    "For example <var>p</var><sub>2</sub>(2) ≈ 0.2522, <var>p</var><sub>2</sub>(5) ≈ 0.6873 and <var>p</var><sub>6</sub>(10 000) ≈ 0.9952 (note: <var>p<sub>m</sub></var>(<var>s</var>) = 0 for <var>s</var> &lt; <var>m</var>).</p>\n",
    "\n",
    "<p>Find <var>p</var><sub>15</sub>(10<sup>9</sup>) and give your answer rounded to 7 decimal places behind the decimal point in the form 0.abcdefg.</p>"
   ],
   "metadata": {}
  },
  {
   "outputs": [],
   "cell_type": "code",
   "source": [
    "submit_answer(nothing; prob_num=499)"
   ],
   "metadata": {},
   "execution_count": null
  },
  {
   "cell_type": "markdown",
   "source": [
    "<h2>Problem 500: Problem 500!!!</h2>\n",
    "<p>The number of divisors of 120 is 16.<br />\n",
    "In fact 120 is the smallest number having 16 divisors.\n",
    "</p>\n",
    "<p>\n",
    "Find the smallest number with 2<sup>500500</sup> divisors.<br />\n",
    "Give your answer modulo 500500507.\n",
    "</p>"
   ],
   "metadata": {}
  },
  {
   "outputs": [],
   "cell_type": "code",
   "source": [
    "submit_answer(nothing; prob_num=500)"
   ],
   "metadata": {},
   "execution_count": null
  },
  {
   "cell_type": "markdown",
   "source": [
    "---\n",
    "\n",
    "*This notebook was generated using [Literate.jl](https://github.com/fredrikekre/Literate.jl).*"
   ],
   "metadata": {}
  }
 ],
 "nbformat_minor": 3,
 "metadata": {
  "language_info": {
   "file_extension": ".jl",
   "mimetype": "application/julia",
   "name": "julia",
   "version": "1.6.0-beta1.0"
  },
  "kernelspec": {
   "name": "julia-1.6",
   "display_name": "Julia 1.6.0-beta1.0",
   "language": "julia"
  }
 },
 "nbformat": 4
}
