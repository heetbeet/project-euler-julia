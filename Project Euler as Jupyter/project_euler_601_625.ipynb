{
 "cells": [
  {
   "outputs": [],
   "cell_type": "code",
   "source": [
    "include((@__DIR__)*\"/shared.jl\");"
   ],
   "metadata": {},
   "execution_count": null
  },
  {
   "cell_type": "markdown",
   "source": [
    "<h2>Problem 601: Divisibility streaks</h2>\n",
    "<p>\n",
    "For every positive number $n$ we define the function  $streak(n)=k$   as the smallest positive integer $k$ such that $n+k$ is not divisible by $k+1$.<br />\n",
    "E.g:<br />\n",
    "13 is divisible by 1 <br />\n",
    "14 is divisible by 2 <br />\n",
    "15 is divisible by 3 <br />\n",
    "16 is divisible by 4 <br />\n",
    "17 is NOT divisible by 5 <br />\n",
    "So $streak(13) = 4$. <br />\n",
    "Similarly:<br />\n",
    "120 is divisible by 1 <br />\n",
    "121 is NOT divisible by 2 <br />\n",
    "So $streak(120) = 1$.</p>\n",
    "<p>\n",
    "\n",
    "Define $P(s, N)$ to be the number of integers $n$, $1 &lt; n &lt; N$, for which $streak(n) = s$.<br />\n",
    "So $P(3, 14) = 1$ and $P(6, 10^6) = 14286$.\n",
    "</p>\n",
    "<p>\n",
    "Find the sum, as $i$ ranges from 1 to 31, of $P(i, 4^i)$.\n",
    "</p>"
   ],
   "metadata": {}
  },
  {
   "outputs": [],
   "cell_type": "code",
   "source": [
    "submit_answer(nothing; prob_num=601)"
   ],
   "metadata": {},
   "execution_count": null
  },
  {
   "cell_type": "markdown",
   "source": [
    "<h2>Problem 602: Product of Head Counts</h2>\n",
    "<p>\n",
    "Alice enlists the help of some friends to generate a random number, using a single unfair coin. She and her friends sit around a table and, starting with Alice, they take it in turns to toss the coin. Everyone keeps a count of how many heads they obtain individually. The process ends as soon as Alice obtains a Head. At this point, Alice multiplies all her friends' Head counts together to obtain her random number.\n",
    "</p>\n",
    "<p>\n",
    "As an illustration, suppose Alice is assisted by Bob, Charlie, and Dawn, who are seated round the table in that order, and that they obtain the sequence of Head/Tail outcomes <b>THHH—TTTT—THHT—H</b> beginning and ending with Alice. Then Bob and Charlie each obtain 2 heads, and Dawn obtains 1 head. Alice's random number is therefore $2\\times 2\\times 1 = 4$.\n",
    "</p>\n",
    "<p>\n",
    "Define $e(n, p)$ to be the expected value of Alice's random number, where $n$ is the number of friends helping (excluding Alice herself), and $p$ is the probability of the coin coming up Tails.\n",
    "</p>\n",
    "<p>\n",
    "It turns out that, for any fixed $n$, $e(n, p)$ is always a polynomial in $p$. For example, $e(3, p) = p^3 + 4p^2 + p$.\n",
    "</p>\n",
    "<p>\n",
    "Define $c(n, k)$ to be the coefficient of $p^k$ in the polynomial $e(n, p)$. So $c(3, 1) = 1$, $c(3, 2) = 4$, and $c(3, 3) = 1$.\n",
    "</p>\n",
    "<p>\n",
    "You are given that $c(100, 40) \\equiv 986699437 \\text{ } (\\text{mod } 10^9+7)$.\n",
    "</p>\n",
    "<p>\n",
    "Find $c(10000000, 4000000) \\mod 10^9+7$.\n",
    "</p>"
   ],
   "metadata": {}
  },
  {
   "outputs": [],
   "cell_type": "code",
   "source": [
    "submit_answer(nothing; prob_num=602)"
   ],
   "metadata": {},
   "execution_count": null
  },
  {
   "cell_type": "markdown",
   "source": [
    "<h2>Problem 603: Substring sums of prime concatenations</h2>\n",
    "<p>Let $S(n)$ be the sum of all contiguous integer-substrings that can be formed from the integer $n$. The substrings need not be distinct. </p>\n",
    "\n",
    "<p>For example, $S(2024) = 2 + 0 + 2 + 4 + 20 + 02 + 24 + 202 + 024 + 2024 = 2304$.</p>\n",
    "\n",
    "<p>Let $P(n)$ be the integer formed by concatenating the first $n$ primes together. For example, $P(7) = 2357111317$.</p>\n",
    "\n",
    "<p>Let $C(n, k)$ be the integer formed by concatenating $k$ copies of $P(n)$ together. For example, $C(7, 3) = 235711131723571113172357111317$.</p>\n",
    "\n",
    "<p>Evaluate $S(C(10^6, 10^{12}))$ mod $(10^9 + 7)$.</p>"
   ],
   "metadata": {}
  },
  {
   "outputs": [],
   "cell_type": "code",
   "source": [
    "submit_answer(nothing; prob_num=603)"
   ],
   "metadata": {},
   "execution_count": null
  },
  {
   "cell_type": "markdown",
   "source": [
    "<h2>Problem 604: Convex path in square</h2>\n",
    "<p>\n",
    "Let $F(N)$ be the maximum number of lattice points in an axis-aligned $N\\times N$ square that the graph of a single <b>strictly convex</b> increasing function can pass through.\n",
    "</p>\n",
    "<p>\n",
    "You are given that $F(1) = 2$, $F(3) = 3$,  $F(9) = 6$, $F(11) = 7$, $F(100) = 30$ and $F(50000) = 1898$.<br />\n",
    "Below is the graph of a function reaching the maximum 3 for $N=3$:\n",
    "</p>\n",
    "<div class=\"center\">\n",
    "<img src=\"project/images/p604_convex3.png\" alt=\"p604_convex3.png\" /></div>\n",
    "<p>\n",
    "Find $F(10^{18})$.\n",
    "</p>"
   ],
   "metadata": {}
  },
  {
   "outputs": [],
   "cell_type": "code",
   "source": [
    "submit_answer(nothing; prob_num=604)"
   ],
   "metadata": {},
   "execution_count": null
  },
  {
   "cell_type": "markdown",
   "source": [
    "<h2>Problem 605: Pairwise Coin-Tossing Game</h2>\n",
    "<p>Consider an $n$-player game played in consecutive pairs: Round $1$ takes place between players $1$ and $2$, round $2$ takes place between players $2$ and $3$, and so on and so forth, all the way up to round $n$, which takes place between players $n$ and $1$. Then round $n+1$ takes place between players $1$ and $2$ as the entire cycle starts again.</p>\n",
    "\n",
    "<p>In other words, during round $r$, player $((r-1) \\bmod n) + 1$ faces off against player $(r \\bmod n) + 1$.</p>\n",
    "\n",
    "<p>During each round, a fair coin is tossed to decide which of the two players wins that round. If any given player wins both rounds $r$ and $r+1$, then that player wins the entire game.</p>\n",
    "\n",
    "<p>Let $P_n(k)$ be the probability that player $k$ wins in an $n$-player game, in the form of a reduced fraction. For example, $P_3(1) = 12/49$ and $P_6(2) = 368/1323$.</p>\n",
    "\n",
    "<p>Let $M_n(k)$ be the product of the reduced numerator and denominator of $P_n(k)$. For example, $M_3(1) = 588$ and $M_6(2) = 486864$.</p>\n",
    "\n",
    "<p>Find the last $8$ digits of $M_{10^8+7}(10^4+7)$.</p>"
   ],
   "metadata": {}
  },
  {
   "outputs": [],
   "cell_type": "code",
   "source": [
    "submit_answer(nothing; prob_num=605)"
   ],
   "metadata": {},
   "execution_count": null
  },
  {
   "cell_type": "markdown",
   "source": [
    "<h2>Problem 606: Gozinta Chains II</h2>\n",
    "<p>\n",
    "A <b>gozinta chain</b> for <var>n</var> is a sequence {1,a,b,...,<var>n</var>} where each element properly divides the next. <br />\n",
    "For example, there are eight distinct gozinta chains for 12: <br />\n",
    "{1,12}, {1,2,12}, {1,2,4,12}, {1,2,6,12}, {1,3,12}, {1,3,6,12}, {1,4,12} and {1,6,12}.\n",
    "</p>\n",
    "<p>\n",
    "Let S(<var>n</var>) be the sum of all numbers, <var>k</var>, not exceeding <var>n</var>, which have 252 distinct gozinta chains. <br />\n",
    "You are given S(10<sup>6</sup>)=8462952 and S(10<sup>12</sup>)=623291998881978.\n",
    "</p>\n",
    "<p>\n",
    "Find S(10<sup>36</sup>), giving the last nine digits of your answer.\n",
    "</p>"
   ],
   "metadata": {}
  },
  {
   "outputs": [],
   "cell_type": "code",
   "source": [
    "submit_answer(nothing; prob_num=606)"
   ],
   "metadata": {},
   "execution_count": null
  },
  {
   "cell_type": "markdown",
   "source": [
    "<h2>Problem 607: Marsh Crossing</h2>\n",
    "<p>\n",
    "Frodo and Sam need to travel 100 leagues due East from point A to point B. On normal terrain, they can cover 10 leagues per day, and so the journey would take 10 days. However, their path is crossed by a long marsh which runs exactly South-West to North-East, and walking through the marsh will slow them down. The marsh is 50 leagues wide at all points, and the mid-point of AB is located in the middle of the marsh. A map of the region is shown in the diagram below:\n",
    "</p>\n",
    "\n",
    "<div class=\"center\">\n",
    "<img src=\"project/images/p607_marsh.png\" alt=\"p607_marsh.png\" /></div>\n",
    "\n",
    "\n",
    "<p>\n",
    "The marsh consists of 5 distinct regions, each 10 leagues across, as shown by the shading in the map. The strip closest to point A is relatively light marsh, and can be crossed at a speed of 9 leagues per day. However, each strip becomes progressively harder to navigate, the speeds going down to 8, 7, 6 and finally 5 leagues per day for the final region of marsh, before it ends and the terrain becomes easier again, with the speed going back to 10 leagues per day.\n",
    "</p>\n",
    "<p>\n",
    "If Frodo and Sam were to head directly East for point B, they would travel exactly 100 leagues, and the journey would take approximately 13.4738 days. However, this time can be shortened if they deviate from the direct path.\n",
    "</p>\n",
    "<p>\n",
    "Find the shortest possible time required to travel from point A to B, and give your answer in days, rounded to 10 decimal places.\n",
    "</p>"
   ],
   "metadata": {}
  },
  {
   "outputs": [],
   "cell_type": "code",
   "source": [
    "submit_answer(nothing; prob_num=607)"
   ],
   "metadata": {},
   "execution_count": null
  },
  {
   "cell_type": "markdown",
   "source": [
    "<h2>Problem 608: Divisor Sums</h2>\n",
    "<p>Let $D(m,n)=\\displaystyle\\sum_{d|m}\\sum_{k=1}^n\\sigma_{\\small 0}(kd)$ where $d$ runs through all divisors of $m$ and $\\sigma_{\\small 0}(n)$ is the number of divisors of $n$.<br />\n",
    "You are given $D(3!,10^2)=3398$ and $D(4!,10^6)=268882292$.</p>\n",
    "\n",
    "<p>Find $D(200!,10^{12}) \\text{ mod } (10^9 + 7)$.</p>"
   ],
   "metadata": {}
  },
  {
   "outputs": [],
   "cell_type": "code",
   "source": [
    "submit_answer(nothing; prob_num=608)"
   ],
   "metadata": {},
   "execution_count": null
  },
  {
   "cell_type": "markdown",
   "source": [
    "<h2>Problem 609: π sequences</h2>\n",
    "<p>\n",
    "For every $n \\ge 1$ the <b>prime-counting</b> function $\\pi(n)$ is equal to the number of primes\n",
    "not exceeding $n$.<br />\n",
    "E.g. $\\pi(6)=3$ and $\\pi(100)=25$.\n",
    "</p>\n",
    "<p>\n",
    "We say that a sequence of integers $u  = (u_0,\\cdots,u_m)$ is a <i>$\\pi$ sequence</i> if\n",
    "</p><ul>\n",
    "<li> $u_n \\ge 1$ for every $n$\n",
    "</li><li> $u_{n+1}= \\pi(u_n)$\n",
    "</li><li> $u$ has two or more elements\n",
    "</li></ul>\n",
    "<p>\n",
    "For $u_0=10$ there are three distinct $\\pi$ sequences: (10,4),  (10,4,2) and (10,4,2,1).\n",
    "</p>\n",
    "<p>\n",
    "Let  $c(u)$ be the number of elements of $u$ that are not prime.<br />\n",
    "Let $p(n,k)$ be the number of $\\pi$ sequences $u$  for which $u_0\\le n$ and $c(u)=k$.<br />\n",
    "Let $P(n)$ be the product of all $p(n,k)$ that are larger than 0.<br />\n",
    "You are given: P(10)=3×8×9×3=648 and P(100)=31038676032.\n",
    "</p>\n",
    "<p>\n",
    "Find $P(10^8)$. Give your answer modulo 1000000007.\n",
    "</p>"
   ],
   "metadata": {}
  },
  {
   "outputs": [],
   "cell_type": "code",
   "source": [
    "submit_answer(nothing; prob_num=609)"
   ],
   "metadata": {},
   "execution_count": null
  },
  {
   "cell_type": "markdown",
   "source": [
    "<h2>Problem 610: Roman Numerals II</h2>\n",
    "<p>A random generator produces a sequence of symbols drawn from the set {<span style=\"font-family:'courier new', monospace;\">I</span>, <span style=\"font-family:'courier new', monospace;\">V</span>, <span style=\"font-family:'courier new', monospace;\">X</span>, <span style=\"font-family:'courier new', monospace;\">L</span>, <span style=\"font-family:'courier new', monospace;\">C</span>, <span style=\"font-family:'courier new', monospace;\">D</span>, <span style=\"font-family:'courier new', monospace;\">M</span>, <span style=\"font-family:'courier new', monospace;\">#</span>}. Each item in the sequence is determined by selecting one of these symbols at random, independently of the other items in the sequence. At each step, the seven letters are equally likely to be selected, with probability 14% each, but the <span style=\"font-family:'courier new', monospace;\">#</span> symbol only has a 2% chance of selection.</p>\n",
    "\n",
    "<p>We write down the sequence of letters from left to right as they are generated, and we stop at the first occurrence of the <span style=\"font-family:'courier new', monospace;\">#</span> symbol (without writing it). However, we stipulate that what we have written down must always (when non-empty) be a valid Roman numeral representation in minimal form. If appending the next letter would contravene this then we simply skip it and try again with the next symbol generated.</p>\n",
    "\n",
    "<p>Please take careful note of <a href=\"about=roman_numerals\">About... Roman Numerals</a> for the definitive rules for this problem on what constitutes a \"valid Roman numeral representation\" and \"minimal form\". For example, the (only) sequence that represents 49 is <span style=\"font-family:'courier new', monospace;\">XLIX</span>. The subtractive combination <span style=\"font-family:'courier new', monospace;\">IL</span> is invalid because of rule (ii), while <span style=\"font-family:'courier new', monospace;\">XXXXIX</span> is valid but not minimal. The rules do not place any restriction on the number of occurrences of <span style=\"font-family:'courier new', monospace;\">M</span>, so all positive integers have a valid representation. These are the same rules as were used in <a href=\"problem=89\">Problem 89</a>, and members are invited to solve that problem first.</p>\n",
    "\n",
    "<p>Find the expected value of the number represented by what we have written down when we stop. (If nothing is written down then count that as zero.) Give your answer rounded to 8 places after the decimal point.</p>"
   ],
   "metadata": {}
  },
  {
   "outputs": [],
   "cell_type": "code",
   "source": [
    "submit_answer(nothing; prob_num=610)"
   ],
   "metadata": {},
   "execution_count": null
  },
  {
   "cell_type": "markdown",
   "source": [
    "<h2>Problem 611: Hallway of square steps</h2>\n",
    "<p>Peter moves in a hallway with <var>N</var>+1 doors consecutively numbered from 0 through <var>N</var>. All doors are initially closed. Peter starts in front of door 0, and repeatedly performs the following steps:</p>\n",
    "<ul><li>First, he walks a positive square number of doors away from his position.</li>\n",
    "<li>Then he walks another, larger square number of doors away from his new position.</li>\n",
    "<li>He toggles the door he faces (opens it if closed, closes it if open).</li>\n",
    "<li>And finally returns to door 0.</li>\n",
    "</ul><p>We call an action any sequence of those steps. Peter never performs the exact same action twice, and makes sure to perform all possible actions that don't bring him past the last door.</p>\n",
    "<p>Let <var>F</var>(<var>N</var>) be the number of doors that are open after Peter has performed all possible actions. You are given that <var>F</var>(5) = 1, <var>F</var>(100) = 27, <var>F</var>(1000) = 233 and <var>F</var>(10<sup>6</sup>) = 112168.</p>\n",
    "<p>Find <var>F</var>(10<sup>12</sup>).</p>"
   ],
   "metadata": {}
  },
  {
   "outputs": [],
   "cell_type": "code",
   "source": [
    "submit_answer(nothing; prob_num=611)"
   ],
   "metadata": {},
   "execution_count": null
  },
  {
   "cell_type": "markdown",
   "source": [
    "<h2>Problem 612: Friend numbers</h2>\n",
    "<p>\n",
    "Let's call two numbers  <i>friend numbers</i> if their representation in base 10 has at least one common digit.<br /> E.g. 1123 and 3981 are friend numbers.\n",
    "</p>\n",
    "<p>\n",
    "Let $f(n)$ be the number of pairs $(p,q)$ with $1\\le p \\lt q \\lt n$ such that $p$ and $q$ are friend numbers.<br />\n",
    "$f(100)=1539$.\n",
    "</p>\n",
    "<p>\n",
    "Find $f(10^{18})$ mod $1000267129$.\n",
    "</p>"
   ],
   "metadata": {}
  },
  {
   "outputs": [],
   "cell_type": "code",
   "source": [
    "submit_answer(nothing; prob_num=612)"
   ],
   "metadata": {},
   "execution_count": null
  },
  {
   "cell_type": "markdown",
   "source": [
    "<h2>Problem 613: Pythagorean Ant</h2>\n",
    "<p>Dave is doing his homework on the balcony and, preparing a presentation about Pythagorean triangles, has just cut out a triangle with side lengths 30cm, 40cm and 50cm from some cardboard, when a gust of wind blows the triangle down into the garden.<br />\n",
    "Another gust blows a small ant straight onto this triangle. The poor ant is completely disoriented and starts to crawl straight ahead in random direction in order to get back into the grass.</p>\n",
    "\n",
    "<p>Assuming that all possible positions of the ant within the triangle and all possible directions of moving on are equiprobable, what is the probability that the ant leaves the triangle along its longest side?<br />\n",
    "Give your answer rounded to 10 digits after the decimal point.</p>"
   ],
   "metadata": {}
  },
  {
   "outputs": [],
   "cell_type": "code",
   "source": [
    "submit_answer(nothing; prob_num=613)"
   ],
   "metadata": {},
   "execution_count": null
  },
  {
   "cell_type": "markdown",
   "source": [
    "<h2>Problem 614: Special partitions 2</h2>\n",
    "<p>An <b>integer partition</b> of a number $n$ is a way of writing $n$ as a sum of positive integers. Partitions that differ only by the order of their summands are considered the same.</p>\n",
    "\n",
    "<p>We call an integer partition <i>special</i> if 1) all its summands are distinct, and 2) all its even summands are also divisible by 4. <br />For example, the special partitions of $10$ are: \\[10 = 1+4+5=3+7=1+9\\]\n",
    "The number $10$ admits many more integer partitions (a total of 42), but only those three are special.</p>\n",
    "\n",
    "<p>Let be $P(n)$ the number of special integer partitions of $n$. You are given that $P(1) = 1$, $P(2) = 0$, $P(3) = 1$, $P(6) = 1$, $P(10)=3$, $P(100) = 37076$ and $P(1000)=3699177285485660336$.</p>\n",
    "\n",
    "<p>Find $\\displaystyle \\sum_{i=1}^{10^7}{P(i)}$. Give the result modulo $10^9+7$.</p>"
   ],
   "metadata": {}
  },
  {
   "outputs": [],
   "cell_type": "code",
   "source": [
    "submit_answer(nothing; prob_num=614)"
   ],
   "metadata": {},
   "execution_count": null
  },
  {
   "cell_type": "markdown",
   "source": [
    "<h2>Problem 615: The millionth number with at least one million prime factors</h2>\n",
    "<p>\n",
    "Consider the natural numbers having at least 5 prime factors, which don't have to be distinct.<br /> Sorting these numbers by size gives a list which starts with:\n",
    "</p>\n",
    "<ul style=\"list-style:none;\"><li>32=2⋅2⋅2⋅2⋅2</li>\n",
    "<li>48=2⋅2⋅2⋅2⋅3</li>\n",
    "<li>64=2⋅2⋅2⋅2⋅2⋅2</li>\n",
    "<li>72=2⋅2⋅2⋅3⋅3</li>\n",
    "<li>80=2⋅2⋅2⋅2⋅5</li>\n",
    "<li>96=2⋅2⋅2⋅2⋅2⋅3</li>\n",
    "<li>   ...</li></ul>\n",
    "<p>\n",
    "So, for example, the fifth number with at least 5 prime factors is 80.\n",
    "</p>\n",
    "<p>\n",
    "Find the millionth number with at least one million prime factors.<br />  Give your answer modulo 123454321.\n",
    "</p>"
   ],
   "metadata": {}
  },
  {
   "outputs": [],
   "cell_type": "code",
   "source": [
    "submit_answer(nothing; prob_num=615)"
   ],
   "metadata": {},
   "execution_count": null
  },
  {
   "cell_type": "markdown",
   "source": [
    "<h2>Problem 616: Creative numbers</h2>\n",
    "<p>Alice plays the following game, she starts with a list of integers $L$ and on each step she can either:\n",
    "</p><ul><li>remove two elements $a$ and $b$ from $L$ and add $a^b$ to $L$</li>\n",
    "<li>or conversely remove an element $c$ from $L$ that can be written as $a^b$, with $a$ and $b$ being two integers such that $a, b &gt; 1$, and add both $a$ and $b$ to $L$</li></ul>\n",
    "<p>For example starting from the list $L=\\{8\\}$, Alice can remove $8$ and add $2$ and $3$ resulting in $L=\\{2,3\\}$ in a first step. Then she can obtain $L=\\{9\\}$ in a second step.</p>\n",
    "\n",
    "<p>Note that the same integer is allowed to appear multiple times in the list.</p>\n",
    "\n",
    "<p>An integer $n&gt;1$ is said to be <i>creative</i> if for any integer $m&gt;1$ Alice can obtain a list that contains $m$ starting from $L=\\{n\\}$.\n",
    "\n",
    "</p><p>Find the sum of all creative integers less than or equal to $10^{12}$.</p>"
   ],
   "metadata": {}
  },
  {
   "outputs": [],
   "cell_type": "code",
   "source": [
    "submit_answer(nothing; prob_num=616)"
   ],
   "metadata": {},
   "execution_count": null
  },
  {
   "cell_type": "markdown",
   "source": [
    "<h2>Problem 617: Mirror Power Sequence</h2>\n",
    "<p>For two integers $n,e &gt; 1$, we define a $(n,e)$-<i>MPS (Mirror Power Sequence)</i> to be an infinite sequence of integers $(a_i)_{i\\ge 0}$ such that for all $i\\ge 0$, $a_{i+1} = min(a_i^e,n-a_i^e)$ and $a_i &gt; 1$.<br /> Examples of such sequences are the two $(18,2)$-MPS sequences made of alternating $2$ and $4$.</p>\n",
    "\n",
    "<p>Note that even though such a sequence is uniquely determined by $n,e$ and $a_0$, for most values such a sequence does not exist. For example, no $(n,e)$-MPS exists for $n &lt; 6$.</p>\n",
    "\n",
    "<p>Define $C(n)$ to be the number of $(n,e)$-MPS for some $e$, and $\\displaystyle D(N) = \\sum_{n=2}^N {C(n)}$.\n",
    "<br />You are given that $D(10) = 2$, $D(100) = 21$, $D(1000) = 69$, $D(10^6) = 1303$ and $D(10^{12}) = 1014800$.</p>\n",
    "\n",
    "<p>Find $D(10^{18})$.</p>"
   ],
   "metadata": {}
  },
  {
   "outputs": [],
   "cell_type": "code",
   "source": [
    "submit_answer(nothing; prob_num=617)"
   ],
   "metadata": {},
   "execution_count": null
  },
  {
   "cell_type": "markdown",
   "source": [
    "<h2>Problem 618: Numbers with a given prime factor sum</h2>\n",
    "<p>Consider the numbers 15, 16 and 18:<br />\n",
    "$15=3\\times 5$ and $3+5=8$.<br />\n",
    "$16 = 2\\times 2\\times 2\\times 2$ and $2+2+2+2=8$.<br />\n",
    "$18 = 2\\times 3\\times 3$ and $2+3+3=8$.<br />\n",
    "\n",
    "15, 16 and 18 are the only numbers that have 8 as sum of the prime factors (counted with multiplicity).</p>\n",
    "<p>\n",
    "We define $S(k)$ to be the sum of all numbers $n$ where the sum of the prime factors (with multiplicity)  of $n$ is $k$.<br />\n",
    "Hence $S(8) = 15+16+18 = 49$.<br />\n",
    "Other examples: $S(1) = 0$, $S(2) = 2$, $S(3) = 3$, $S(5) = 5 + 6 = 11$.</p>\n",
    "<p>\n",
    "The Fibonacci sequence is $F_1 = 1, F_2 = 1, F_3 = 2, F_4 = 3, F_5 = 5$, ....<br />\n",
    "Find the last nine digits of $\\displaystyle\\sum_{k=2}^{24}{S(F_k)}$.</p>"
   ],
   "metadata": {}
  },
  {
   "outputs": [],
   "cell_type": "code",
   "source": [
    "submit_answer(nothing; prob_num=618)"
   ],
   "metadata": {},
   "execution_count": null
  },
  {
   "cell_type": "markdown",
   "source": [
    "<h2>Problem 619: Square subsets</h2>\n",
    "<p>For a set of positive integers $\\{a, a+1, a+2, \\dots , b\\}$, let $C(a,b)$ be the number of non-empty subsets in which the product of all elements is a perfect square.</p>\n",
    "<p>For example $C(5,10)=3$, since the products of all elements of $\\{5, 8, 10\\}$, $\\{5, 8, 9, 10\\}$ and $\\{9\\}$ are perfect squares, and no other subsets of $\\{5, 6, 7, 8, 9, 10\\}$ have this property.</p>\n",
    "<p>You are given that $C(40,55) =15$, and $C(1000,1234) \\text{ mod } 1000000007=975523611$.</p>\n",
    "\n",
    "<p>Find $C(1000000,1234567) \\text{ mod } 1000000007$.</p>"
   ],
   "metadata": {}
  },
  {
   "outputs": [],
   "cell_type": "code",
   "source": [
    "submit_answer(nothing; prob_num=619)"
   ],
   "metadata": {},
   "execution_count": null
  },
  {
   "cell_type": "markdown",
   "source": [
    "<h2>Problem 620: Planetary Gears</h2>\n",
    "<p>A circle $C$ of circumference $c$ centimetres has a smaller circle $S$ of circumference $s$ centimetres lying off-centre within it. Four other distinct circles, which we call \"planets\", with circumferences $p$, $p$, $q$, $q$ centimetres respectively ($p&lt;q$), are inscribed within $C$ but outside $S$, with each planet touching both $C$ and $S$ tangentially. The planets are permitted to overlap one another, but the boundaries of $S$ and $C$ must be at least 1cm apart at their closest point.</p>\n",
    "\n",
    "<p>Now suppose that these circles are actually gears with perfectly meshing teeth at a pitch of 1cm. $C$ is an internal gear with teeth on the inside. We require that $c$, $s$, $p$, $q$ are all integers (as they are the numbers of teeth), and we further stipulate that any gear must have at least 5 teeth.</p>\n",
    "\n",
    "<p>Note that \"perfectly meshing\" means that as the gears rotate, the ratio between their angular velocities remains constant, and the teeth of one gear perfectly align with the groves of the other gear and vice versa. Only for certain gear sizes and positions will it be possible for $S$ and $C$ each to mesh perfectly with all the planets. Arrangements where not all gears mesh perfectly are not valid.</p>\n",
    "\n",
    "<p>Define $g(c,s,p,q)$ to be the number of such gear arrangements for given values of $c$, $s$, $p$, $q$: it turns out that this is finite as only certain discrete arrangements are possible satisfying the above conditions. For example, $g(16,5,5,6)=9$.</p>\n",
    "\n",
    "<p>Here is one such arrangement:</p>\n",
    "<div align=\"center\"><img src=\"project/images/p620_planetary_gears.png\" alt=\"Example arrangement\" /></div>\n",
    "\n",
    "<p>Let $G(n) = \\sum_{s+p+q\\le n} g(s+p+q,s,p,q)$ where the sum only includes cases with $p&lt;q$, $p\\ge 5$, and $s\\ge 5$, all integers. You are given that $G(16)=9$ and $G(20)=205$.</p>\n",
    "\n",
    "<p>Find $G(500)$.</p>"
   ],
   "metadata": {}
  },
  {
   "outputs": [],
   "cell_type": "code",
   "source": [
    "submit_answer(nothing; prob_num=620)"
   ],
   "metadata": {},
   "execution_count": null
  },
  {
   "cell_type": "markdown",
   "source": [
    "<h2>Problem 621: Expressing an integer as the sum of triangular numbers</h2>\n",
    "<p>Gauss famously proved that every positive integer can be expressed as the sum of three <b>triangular numbers</b> (including 0 as the lowest triangular number).  In fact most numbers can be expressed as a sum of three triangular numbers in several ways.</p>\n",
    "<p>\n",
    "Let $G(n)$ be the number of ways of expressing $n$ as the sum of three triangular numbers, regarding different arrangements of the terms of the sum as distinct.</p>\n",
    "<p>\n",
    "For example, $G(9) = 7$, as 9 can be expressed as:  3+3+3, 0+3+6, 0+6+3, 3+0+6, 3+6+0, 6+0+3, 6+3+0.<br />\n",
    "You are given $G(1000) = 78$ and $G(10^6) = 2106$.</p>\n",
    "<p>\n",
    "Find $G(17 526 \\times 10^9)$.</p>"
   ],
   "metadata": {}
  },
  {
   "outputs": [],
   "cell_type": "code",
   "source": [
    "submit_answer(nothing; prob_num=621)"
   ],
   "metadata": {},
   "execution_count": null
  },
  {
   "cell_type": "markdown",
   "source": [
    "<h2>Problem 622: Riffle Shuffles</h2>\n",
    "<p>\n",
    "A riffle shuffle is executed as follows: a deck of cards is split into two equal halves, with the top half taken in the left hand and the bottom half taken in the right hand. Next, the cards are interleaved exactly, with the top card in the right half inserted just after the top card in the left half, the 2nd card in the right half just after the 2nd card in the left half, etc. (Note that this process preserves the location of the top and bottom card of the deck)\n",
    "</p>\n",
    "<p>\n",
    "Let $s(n)$ be the minimum number of consecutive riffle shuffles needed to restore a deck of size $n$ to its original configuration, where $n$ is a positive even number.</p>\n",
    "<p>\n",
    "Amazingly, a standard deck of $52$ cards will first return to its original configuration after only $8$ perfect shuffles, so $s(52) = 8$. It can be verified that a deck of $86$ cards will also return to its original configuration after exactly $8$ shuffles, and the sum of all values of $n$ that satisfy $s(n) = 8$ is $412$.\n",
    "</p>\n",
    "<p>\n",
    "Find the sum of all values of n that satisfy $s(n) = 60$.\n",
    "</p>"
   ],
   "metadata": {}
  },
  {
   "outputs": [],
   "cell_type": "code",
   "source": [
    "submit_answer(nothing; prob_num=622)"
   ],
   "metadata": {},
   "execution_count": null
  },
  {
   "cell_type": "markdown",
   "source": [
    "<h2>Problem 623: Lambda Count</h2>\n",
    "<p>The <i>lambda-calculus</i> is a universal model of computation at the core of functional programming languages. It is based on <i>lambda-terms</i>, a minimal programming language featuring only function definitions, function calls and variables. Lambda-terms are built according to the following rules:</p>\n",
    "<ul>\n",
    "<li>Any <i>variable</i> $x$ (single letter, from some infinite alphabet) is a lambda-term.</li>\n",
    "<li>If $M$ and $N$ are lambda-terms, then $(M N)$ is a lambda-term, called the <i>application</i> of $M$ to $N$.</li>\n",
    "<li>If $x$ is a variable and $M$ is a term, then $(\\lambda x. M)$ is a lambda-term, called an <i>abstraction</i>. An abstraction defines an anonymous function, taking $x$ as parameter and sending back $M$.</li>\n",
    "</ul>\n",
    "\n",
    "<p>A lambda-term $T$ is said to be <i>closed</i> if for all variables $x$, all occurrences of $x$ within $T$ are contained within some abstraction $(\\lambda x. M)$ in $T$. The smallest such abstraction is said to <i>bind</i> the occurrence of the variable $x$. In other words, a lambda-term is closed if all its variables are bound to parameters of enclosing functions definitions. For example, the term $(\\lambda x. x)$ is closed, while the term $(\\lambda x. (x y))$ is not because $y$ is not bound.</p>\n",
    "\n",
    "<p>Also, we can rename variables as long as no binding abstraction changes. This means that $(\\lambda x. x)$ and $(\\lambda y. y)$ should be considered equivalent since we merely renamed a parameter. Two terms equivalent modulo such renaming are called <i>$\\alpha$-equivalent</i>. Note that $(\\lambda x. (\\lambda y. (x y)))$ and $(\\lambda x. (\\lambda x. (x x)))$ are not $\\alpha$-equivalent, since the abstraction binding the first variable was the outer one and becomes the inner one. However, $(\\lambda x. (\\lambda y. (x y)))$ and $(\\lambda y. (\\lambda x. (y x)))$ are $\\alpha$-equivalent.</p>\n",
    "\n",
    "<p>The following table regroups the lambda-terms that can be written with at most $15$ symbols, symbols being parenthesis, $\\lambda$, dot and variables.</p>\n",
    "\n",
    "\\[\\begin{array}{|c|c|c|c|}\n",
    "\\hline\n",
    "(\\lambda x.x) &amp; (\\lambda x.(x x)) &amp; (\\lambda x.(\\lambda y.x)) &amp; (\\lambda x.(\\lambda y.y)) \\\\\n",
    "\\hline\n",
    "(\\lambda x.(x (x x))) &amp; (\\lambda x.((x x) x)) &amp; (\\lambda x.(\\lambda y.(x x))) &amp; (\\lambda x.(\\lambda y.(x y))) \\\\\n",
    "\\hline\n",
    "(\\lambda x.(\\lambda y.(y x))) &amp; (\\lambda x.(\\lambda y.(y y))) &amp; (\\lambda x.(x (\\lambda y.x))) &amp; (\\lambda x.(x (\\lambda y.y))) \\\\\n",
    "\\hline\n",
    "(\\lambda x.((\\lambda y.x) x)) &amp; (\\lambda x.((\\lambda y.y) x)) &amp; ((\\lambda x.x) (\\lambda x.x)) &amp; (\\lambda x.(x (x (x x)))) \\\\\n",
    "\\hline\n",
    "(\\lambda x.(x ((x x) x))) &amp; (\\lambda x.((x x) (x x))) &amp; (\\lambda x.((x (x x)) x)) &amp; (\\lambda x.(((x x) x) x)) \\\\\n",
    "\\hline\n",
    "\\end{array}\\]\n",
    "\n",
    "<p>Let be $\\Lambda(n)$ the number of distinct closed lambda-terms that can be written using at most $n$ symbols, where terms that are $\\alpha$-equivalent to one another should be counted only once. You are given that $\\Lambda(6) = 1$, $\\Lambda(9) = 2$, $\\Lambda(15) = 20$ and $\\Lambda(35) = 3166438$.</p>\n",
    "<p>Find $\\Lambda(2000)$. Give the answer modulo $1\\,000\\,000\\,007$.</p>"
   ],
   "metadata": {}
  },
  {
   "outputs": [],
   "cell_type": "code",
   "source": [
    "submit_answer(nothing; prob_num=623)"
   ],
   "metadata": {},
   "execution_count": null
  },
  {
   "cell_type": "markdown",
   "source": [
    "<h2>Problem 624: Two heads are better than one</h2>\n",
    "<p>\n",
    "An unbiased coin is tossed repeatedly until two consecutive heads are obtained. Suppose these occur on the $(M-1)$th and $M$th toss.<br />\n",
    "Let $P(n)$ be the probability that $M$ is divisible by $n$. For example, the outcomes HH, HTHH, and THTTHH all count towards $P(2)$, but THH and HTTHH do not.</p>\n",
    "<p>\n",
    "You are given that $P(2) =\\frac 3 5$ and $P(3)=\\frac 9  {31}$. Indeed, it can be shown that $P(n)$ is always a rational number.</p>\n",
    "<p>\n",
    "For a prime $p$ and a fully reduced fraction $\\frac a b$, define $Q(\\frac a b,p)$ to be the smallest positive $q$ for which $a \\equiv b q \\pmod{p}$.<br />\n",
    "For example $Q(P(2), 109) = Q(\\frac 3 5, 109) = 66$, because $5 \\cdot 66 = 330 \\equiv 3 \\pmod{109}$ and 66 is the smallest positive such number.<br />\n",
    "Similarly $Q(P(3),109) = 46$.</p>\n",
    "<p>\n",
    "Find $Q(P(10^{18}),1\\,000\\,000\\,009)$.</p>"
   ],
   "metadata": {}
  },
  {
   "outputs": [],
   "cell_type": "code",
   "source": [
    "submit_answer(nothing; prob_num=624)"
   ],
   "metadata": {},
   "execution_count": null
  },
  {
   "cell_type": "markdown",
   "source": [
    "<h2>Problem 625: Gcd sum</h2>\n",
    "<p>\n",
    "$G(N)=\\sum_{j=1}^N\\sum_{i=1}^j \\text{gcd}(i,j)$. <br />\n",
    "You are given: $G(10)=122$.</p>\n",
    "<p>\n",
    "Find $G(10^{11})$. Give your answer modulo 998244353\n",
    "</p>"
   ],
   "metadata": {}
  },
  {
   "outputs": [],
   "cell_type": "code",
   "source": [
    "submit_answer(nothing; prob_num=625)"
   ],
   "metadata": {},
   "execution_count": null
  },
  {
   "cell_type": "markdown",
   "source": [
    "---\n",
    "\n",
    "*This notebook was generated using [Literate.jl](https://github.com/fredrikekre/Literate.jl).*"
   ],
   "metadata": {}
  }
 ],
 "nbformat_minor": 3,
 "metadata": {
  "language_info": {
   "file_extension": ".jl",
   "mimetype": "application/julia",
   "name": "julia",
   "version": "1.6.0-beta1.0"
  },
  "kernelspec": {
   "name": "julia-1.6",
   "display_name": "Julia 1.6.0-beta1.0",
   "language": "julia"
  }
 },
 "nbformat": 4
}
