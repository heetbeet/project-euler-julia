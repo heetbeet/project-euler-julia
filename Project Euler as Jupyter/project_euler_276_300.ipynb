{
 "cells": [
  {
   "outputs": [],
   "cell_type": "code",
   "source": [
    "include((@__DIR__)*\"/shared.jl\");"
   ],
   "metadata": {},
   "execution_count": null
  },
  {
   "cell_type": "markdown",
   "source": [
    "<h2>Problem 276: Primitive Triangles</h2>\n",
    "<p>Consider the triangles with integer sides a, b and c with a ≤ b ≤ c.<br />\n",
    "An integer sided triangle (a,b,c) is called primitive if <dfn title=\"gcd(a,b,c)=gcd(a,gcd(b,c))\"> gcd(a,b,c)</dfn>=1. <br />\n",
    "How many primitive integer sided triangles exist with a perimeter not exceeding 10 000 000?\n",
    "</p>"
   ],
   "metadata": {}
  },
  {
   "outputs": [],
   "cell_type": "code",
   "source": [
    "submit_answer(nothing; prob_num=276)"
   ],
   "metadata": {},
   "execution_count": null
  },
  {
   "cell_type": "markdown",
   "source": [
    "<h2>Problem 277: A Modified Collatz sequence</h2>\n",
    "<p>\n",
    "A modified Collatz sequence of integers is obtained from a starting value $a_1$ in the following way:</p>\n",
    "<p>\n",
    "$a_{n+1} = \\, \\,\\, \\frac {a_n} 3 \\quad$ if $a_n$ is divisible by $3$. We shall denote this as a large downward step, \"D\".</p>\n",
    "<p>\n",
    "$a_{n+1} = \\frac {4 a_n+2} 3 \\, \\,$ if $a_n$ divided by $3$ gives a remainder of $1$. We shall denote this as an upward step, \"U\".\n",
    "</p>\n",
    "<p>\n",
    "$a_{n+1} = \\frac {2 a_n -1} 3 \\, \\,$ if $a_n$ divided by $3$ gives a remainder of $2$. We shall denote this as a small downward step, \"d\".\n",
    "</p>\n",
    "\n",
    "\n",
    "<p>\n",
    "The sequence terminates when some $a_n = 1$.\n",
    "</p>\n",
    "<p>\n",
    "Given any integer, we can list out the sequence of steps.<br />\n",
    "For instance if $a_1=231$, then the sequence $\\{a_n\\}=\\{231,77,51,17,11,7,10,14,9,3,1\\}$ corresponds to the steps \"DdDddUUdDD\".\n",
    "</p>\n",
    "<p>\n",
    "Of course, there are other sequences that begin with that same sequence \"DdDddUUdDD....\".<br />\n",
    "For instance, if $a_1=1004064$, then the sequence is DdDddUUdDDDdUDUUUdDdUUDDDUdDD.<br />\n",
    "In fact, $1004064$ is the smallest possible $a_1 &gt; 10^6$ that begins with the sequence DdDddUUdDD.\n",
    "</p>\n",
    "<p>\n",
    "What is the smallest $a_1 &gt; 10^{15}$ that begins with the sequence \"UDDDUdddDDUDDddDdDddDDUDDdUUDd\"?\n",
    "</p>"
   ],
   "metadata": {}
  },
  {
   "outputs": [],
   "cell_type": "code",
   "source": [
    "submit_answer(nothing; prob_num=277)"
   ],
   "metadata": {},
   "execution_count": null
  },
  {
   "cell_type": "markdown",
   "source": [
    "<h2>Problem 278: Linear Combinations of Semiprimes</h2>\n",
    "<p>\n",
    "Given the values of integers $1 &lt; a_1 &lt; a_2 &lt; \\dots &lt; a_n$, consider the linear combination<br />\n",
    "$q_1 a_1+q_2 a_2 + \\dots + q_n a_n=b$, using only integer values $q_k \\ge 0$.\n",
    "</p>\n",
    "<p>\n",
    "Note that for a given set of $a_k$, it may be that not all values of $b$ are possible.<br />\n",
    "For instance, if $a_1=5$ and $a_2=7$, there are no $q_1 \\ge 0$ and $q_2 \\ge 0$ such that $b$ could be<br />\n",
    "$1, 2, 3, 4, 6, 8, 9, 11, 13, 16, 18$ or $23$.\n",
    "<br />\n",
    "In fact, $23$ is the largest impossible value of $b$ for $a_1=5$ and $a_2=7$.<br /> We therefore call $f(5, 7) = 23$.<br /> Similarly, it can be shown that $f(6, 10, 15)=29$ and $f(14, 22, 77) = 195$.\n",
    "</p>\n",
    "<p>\n",
    "Find $\\displaystyle \\sum f( p\\, q,p \\, r, q \\, r)$, where $p$, $q$ and $r$ are prime numbers and $p &lt; q &lt; r &lt; 5000$.\n",
    "</p>"
   ],
   "metadata": {}
  },
  {
   "outputs": [],
   "cell_type": "code",
   "source": [
    "submit_answer(nothing; prob_num=278)"
   ],
   "metadata": {},
   "execution_count": null
  },
  {
   "cell_type": "markdown",
   "source": [
    "<h2>Problem 279: Triangles with integral sides and an integral angle </h2>\n",
    "<p>\n",
    "How many triangles are there with integral sides, at least one integral angle (measured in degrees), and a perimeter that does not exceed 10<sup>8</sup>?\n",
    "</p>"
   ],
   "metadata": {}
  },
  {
   "outputs": [],
   "cell_type": "code",
   "source": [
    "submit_answer(nothing; prob_num=279)"
   ],
   "metadata": {},
   "execution_count": null
  },
  {
   "cell_type": "markdown",
   "source": [
    "<h2>Problem 280: Ant and seeds</h2>\n",
    "<p>A laborious ant walks randomly on a 5x5 grid. The walk starts from the central square. At each step, the ant moves to an adjacent square at random, without leaving the grid; thus there are 2, 3 or 4 possible moves at each step depending on the ant's position.</p>\n",
    "\n",
    "<p>At the start of the walk, a seed is placed on each square of the lower row. When the ant isn't carrying a seed and reaches a square of the lower row containing a seed, it will start to carry the seed. The ant will drop the seed on the first empty square of the upper row it eventually reaches.</p>\n",
    "\n",
    "<p>What's the expected number of steps until all seeds have been dropped in the top row? <br />\n",
    "Give your answer rounded to 6 decimal places.</p>"
   ],
   "metadata": {}
  },
  {
   "outputs": [],
   "cell_type": "code",
   "source": [
    "submit_answer(nothing; prob_num=280)"
   ],
   "metadata": {},
   "execution_count": null
  },
  {
   "cell_type": "markdown",
   "source": [
    "<h2>Problem 281: Pizza Toppings</h2>\n",
    "<p>You are given a pizza (perfect circle) that has been cut into <var>m</var>·<var>n</var> equal pieces and you want to have exactly one topping on each slice.</p>\n",
    "\n",
    "<p>Let <var>f</var>(<var>m</var>,<var>n</var>) denote the number of ways you can have toppings on the pizza with <var>m</var> different toppings (<var>m</var> ≥ 2), using each topping on exactly <var>n</var> slices (<var>n</var> ≥ 1). <br />Reflections are considered distinct, rotations are not. </p>\n",
    "\n",
    "<p>Thus, for instance, <var>f</var>(2,1) = 1, <var>f</var>(2,2) = <var>f</var>(3,1) = 2 and <var>f</var>(3,2) = 16. <br /><var>f</var>(3,2) is shown below:</p>\n",
    "\n",
    "<div align=\"center\"><img src=\"project/images/p281_pizza.gif\" class=\"dark_img\" alt=\"p281_pizza.gif\" /></div>\n",
    "\n",
    "<p>Find the sum of all <var>f</var>(<var>m</var>,<var>n</var>) such that <var>f</var>(<var>m</var>,<var>n</var>) ≤ 10<sup>15</sup>.</p>"
   ],
   "metadata": {}
  },
  {
   "outputs": [],
   "cell_type": "code",
   "source": [
    "submit_answer(nothing; prob_num=281)"
   ],
   "metadata": {},
   "execution_count": null
  },
  {
   "cell_type": "markdown",
   "source": [
    "<h2>Problem 282: The Ackermann function</h2>\n",
    "$\\def\\htmltext#1{\\style{font-family:inherit;}{\\text{#1}}}$\n",
    "<p>\n",
    "For non-negative integers $m$, $n$, the Ackermann function $A(m,n)$ is defined as follows:\n",
    "\n",
    "$$\n",
    "A(m,n) = \\cases{\n",
    "n+1 &amp;$\\htmltext{ if  }m=0$\\cr\n",
    "A(m-1,1) &amp;$\\htmltext{ if   }m&gt;0 \\htmltext{  and  } n=0$\\cr\n",
    "A(m-1,A(m,n-1)) &amp;$\\htmltext{ if   }m&gt;0 \\htmltext{  and  } n&gt;0$\\cr\n",
    "}$$\n",
    "</p>\n",
    "<p>\n",
    "For example $A(1,0) = 2$, $A(2,2) = 7$ and $A(3,4) = 125$.\n",
    "</p>\n",
    "<p>\n",
    "Find $\\displaystyle\\sum_{n=0}^6 A(n,n)$ and give your answer mod $14^8$.</p>"
   ],
   "metadata": {}
  },
  {
   "outputs": [],
   "cell_type": "code",
   "source": [
    "submit_answer(nothing; prob_num=282)"
   ],
   "metadata": {},
   "execution_count": null
  },
  {
   "cell_type": "markdown",
   "source": [
    "<h2>Problem 283: Integer sided triangles for which the  area/perimeter ratio is integral</h2>\n",
    "<p>\n",
    "Consider the triangle with sides 6, 8 and 10. It can be seen that the perimeter and the area are both equal to 24.\n",
    "So the area/perimeter ratio is equal to 1.<br />\n",
    "Consider also the triangle with sides 13, 14 and 15. The perimeter equals 42 while the area is equal to 84.\n",
    "So for this triangle the area/perimeter ratio is equal to 2.\n",
    "</p>\n",
    "<p>\n",
    "Find the sum of the perimeters of all integer sided triangles for which the area/perimeter ratios are equal to positive integers not exceeding 1000.\n",
    "</p>"
   ],
   "metadata": {}
  },
  {
   "outputs": [],
   "cell_type": "code",
   "source": [
    "submit_answer(nothing; prob_num=283)"
   ],
   "metadata": {},
   "execution_count": null
  },
  {
   "cell_type": "markdown",
   "source": [
    "<h2>Problem 284: Steady Squares</h2>\n",
    "<p>The 3-digit number 376 in the decimal numbering system is an example of numbers with the special property that its square ends with the same digits: 376<sup>2</sup> = 141376. Let's call a number with this property a steady square.</p>\n",
    "\n",
    "<p>Steady squares can also be observed in other numbering systems. In the base 14 numbering system, the 3-digit number c37 is also a steady square: c37<sup>2</sup> = aa0c37, and the sum of its digits is c+3+7=18 in the same numbering system. The letters a, b, c and d are used for the 10, 11, 12 and 13 digits respectively, in a manner similar to the hexadecimal numbering system.</p>\n",
    "\n",
    "<p>For 1 ≤ n ≤ 9, the sum of the digits of all the n-digit steady squares in the base 14 numbering system is 2d8 (582 decimal). Steady squares with leading 0's are not allowed.</p>\n",
    "\n",
    "<p>Find the sum of the digits of all the n-digit steady squares in the base 14 numbering system for<br />\n",
    "1 ≤ n ≤ 10000 (decimal) and give your answer in the base 14 system using lower case letters where necessary.</p>"
   ],
   "metadata": {}
  },
  {
   "outputs": [],
   "cell_type": "code",
   "source": [
    "submit_answer(nothing; prob_num=284)"
   ],
   "metadata": {},
   "execution_count": null
  },
  {
   "cell_type": "markdown",
   "source": [
    "<h2>Problem 285: Pythagorean odds</h2>\n",
    "<p>Albert chooses a positive integer <var>k</var>, then two real numbers <var>a</var>, <var>b</var> are randomly chosen in the interval [0,1] with uniform distribution.<br />\n",
    "The square root of the sum (<var>k</var>·<var>a</var>+1)<sup>2</sup> + (<var>k</var>·<var>b</var>+1)<sup>2</sup> is then computed and rounded to the nearest integer. If the result is equal to <var>k</var>, he scores <var>k</var> points; otherwise he scores nothing.</p>\n",
    "\n",
    "<p>For example, if <var>k</var> = 6, <var>a</var> = 0.2 and <var>b</var> = 0.85, then (<var>k</var>·<var>a</var>+1)<sup>2</sup> + (<var>k</var>·<var>b</var>+1)<sup>2</sup> = 42.05.<br />\n",
    "The square root of 42.05 is 6.484... and when rounded to the nearest integer, it becomes 6.<br />\n",
    "This is equal to <var>k</var>, so he scores 6 points.</p>\n",
    "\n",
    "<p>It can be shown that if he plays 10 turns with <var>k</var> = 1, <var>k</var> = 2, ..., <var>k</var> = 10, the expected value of his total score, rounded to five decimal places, is 10.20914.</p>\n",
    "\n",
    "<p>If he plays 10<sup>5</sup> turns with <var>k</var> = 1, <var>k</var> = 2, <var>k</var> = 3, ..., <var>k</var> = 10<sup>5</sup>, what is the expected value of his total score, rounded to five decimal places?</p>"
   ],
   "metadata": {}
  },
  {
   "outputs": [],
   "cell_type": "code",
   "source": [
    "submit_answer(nothing; prob_num=285)"
   ],
   "metadata": {},
   "execution_count": null
  },
  {
   "cell_type": "markdown",
   "source": [
    "<h2>Problem 286: Scoring probabilities</h2>\n",
    "<p>Barbara is a mathematician and a basketball player. She has found that the probability of scoring a point when shooting from a distance <var>x</var> is exactly (1 - <sup><var>x</var></sup>/<sub><var>q</var></sub>), where <var>q</var> is a real constant greater than 50.</p>\n",
    "\n",
    "<p>During each practice run, she takes shots from distances <var>x</var> = 1, <var>x</var> = 2, ..., <var>x</var> = 50 and, according to her records, she has precisely a 2 % chance to score a total of exactly 20 points.</p>\n",
    "\n",
    "<p>Find <var>q</var> and give your answer rounded to 10 decimal places.</p>"
   ],
   "metadata": {}
  },
  {
   "outputs": [],
   "cell_type": "code",
   "source": [
    "submit_answer(nothing; prob_num=286)"
   ],
   "metadata": {},
   "execution_count": null
  },
  {
   "cell_type": "markdown",
   "source": [
    "<h2>Problem 287: Quadtree encoding (a simple compression algorithm)</h2>\n",
    "<p>The quadtree encoding allows us to describe a 2<sup><var>N</var></sup>×2<sup><var>N</var></sup>  black and white image as a sequence of bits (0 and 1). Those sequences are to be read from left to right like this:\n",
    "</p><ul><li>the first bit deals with the complete 2<sup><var>N</var></sup>×2<sup><var>N</var></sup> region;</li>\n",
    "<li>\"0\" denotes a split:\n",
    "<br />the current 2<sup><var>n</var></sup>×2<sup><var>n</var></sup> region is divided into 4 sub-regions of dimension 2<sup><var>n</var>-1</sup>×2<sup><var>n</var>-1</sup>,<br />\n",
    "the next bits contains the description of the top left, top right, bottom left and bottom right sub-regions - in that order;</li>\n",
    "<li>\"10\" indicates that the current region contains only black pixels;</li>\n",
    "<li>\"11\" indicates that the current region contains only white pixels.</li></ul><p>Consider the following 4×4 image (colored marks denote places where a split can occur):</p>\n",
    "\n",
    "<div class=\"center\"><img src=\"project/images/p287_quadtree.gif\" class=\"dark_img\" alt=\"p287_quadtree.gif\" /></div>\n",
    "\n",
    "<p>This image can be described by several sequences, for example :\n",
    "\"<span style=\"color:#ff0000;\">0</span><span class=\"blue strong\">0</span>10101010<span class=\"green strong\">0</span>1011111011<span class=\"orange strong\">0</span>10101010\", of length 30, or<br />\n",
    "\"<span style=\"color:#ff0000;\">0</span>10<span class=\"green strong\"><b>0</b></span>101111101110\", of length 16, which is the minimal sequence for this image.</p>\n",
    "\n",
    "<p>For a positive integer <var>N</var>, define <var>D<sub>N</sub></var> as the 2<sup><var>N</var></sup>×2<sup><var>N</var></sup> image with the following coloring scheme:\n",
    "</p><ul><li>the pixel with coordinates <var>x</var> = 0, <var>y</var> = 0 corresponds to the bottom left pixel,</li>\n",
    "<li>if (<var>x</var> - 2<sup><var>N</var>-1</sup>)<sup>2</sup> + (<var>y</var> - 2<sup><var>N</var>-1</sup>)<sup>2</sup> ≤ 2<sup>2<var>N</var>-2</sup> then the pixel is black,</li>\n",
    "<li>otherwise the pixel is white.</li></ul><p>What is the length of the minimal sequence describing <var>D</var><sub>24</sub> ?</p>"
   ],
   "metadata": {}
  },
  {
   "outputs": [],
   "cell_type": "code",
   "source": [
    "submit_answer(nothing; prob_num=287)"
   ],
   "metadata": {},
   "execution_count": null
  },
  {
   "cell_type": "markdown",
   "source": [
    "<h2>Problem 288: An enormous factorial</h2>\n",
    "<p>\n",
    "For any prime <var>p</var> the number N(<var>p</var>,<var>q</var>) is defined by\n",
    "N(<var>p</var>,<var>q</var>) = ∑<sub><var>n</var>=0 to <var>q</var></sub> T<sub><var>n</var></sub>*<var>p</var><sup><var>n</var></sup><br /> with T<sub><var>n</var></sub> generated by the following random number generator:</p>\n",
    "<p>\n",
    "S<sub>0</sub> = 290797<br />\n",
    "S<sub><var>n</var>+1</sub> = S<sub><var>n</var></sub><sup>2</sup> mod 50515093<br />\n",
    "T<sub><var>n</var></sub> = S<sub><var>n</var></sub> mod <var>p</var>\n",
    "</p>\n",
    "<p>\n",
    "Let Nfac(<var>p</var>,<var>q</var>) be the factorial of N(<var>p</var>,<var>q</var>).<br />\n",
    "Let NF(<var>p</var>,<var>q</var>) be the number of factors <var>p</var> in Nfac(<var>p</var>,<var>q</var>).\n",
    "</p>\n",
    "<p>\n",
    "You are given that NF(3,10000) mod 3<sup>20</sup>=624955285.\n",
    "</p>\n",
    "<p>\n",
    "Find NF(61,10<sup>7</sup>) mod 61<sup>10</sup></p>"
   ],
   "metadata": {}
  },
  {
   "outputs": [],
   "cell_type": "code",
   "source": [
    "submit_answer(nothing; prob_num=288)"
   ],
   "metadata": {},
   "execution_count": null
  },
  {
   "cell_type": "markdown",
   "source": [
    "<h2>Problem 289: Eulerian Cycles</h2>\n",
    "<p>Let C(<var>x</var>,<var>y</var>) be a circle passing through the points (<var>x</var>, <var>y</var>), (<var>x</var>, <var>y</var>+1), (<var>x</var>+1, <var>y</var>) and (<var>x</var>+1, <var>y</var>+1).</p>\n",
    "\n",
    "<p>For positive integers m and n, let E(<var>m</var>,<var>n</var>) be a configuration which consists of the <var>m</var>·<var>n</var> circles:<br />\n",
    "{ C(<var>x</var>,<var>y</var>): 0 ≤ <var>x</var> &lt; <var>m</var>, 0 ≤ <var>y</var> &lt; <var>n</var>, <var>x</var> and <var>y</var> are integers }</p>\n",
    "\n",
    "<p>An Eulerian cycle on E(<var>m</var>,<var>n</var>) is a closed path that passes through each arc exactly once.<br />\n",
    "Many such paths are possible on E(<var>m</var>,<var>n</var>), but we are only interested in those which are not self-crossing:\n",
    "A non-crossing path just touches itself at lattice points, but it never crosses itself.</p>\n",
    "\n",
    "<p>The image below shows E(3,3) and an example of an Eulerian non-crossing path.<br /></p><div align=\"center\"><img src=\"project/images/p289_euler.gif\" alt=\"p289_euler.gif\" /></div>\n",
    "\n",
    "<p>Let L(<var>m</var>,<var>n</var>) be the number of Eulerian non-crossing paths on E(<var>m</var>,<var>n</var>).<br />\n",
    "For example, L(1,2) = 2, L(2,2) = 37 and L(3,3) = 104290.</p>\n",
    "\n",
    "<p>Find L(6,10) mod 10<sup>10</sup>.</p>"
   ],
   "metadata": {}
  },
  {
   "outputs": [],
   "cell_type": "code",
   "source": [
    "submit_answer(nothing; prob_num=289)"
   ],
   "metadata": {},
   "execution_count": null
  },
  {
   "cell_type": "markdown",
   "source": [
    "<h2>Problem 290: Digital Signature</h2>\n",
    "<p>\n",
    "How many integers 0 ≤ <var>n</var> &lt; 10<sup>18</sup> have the property that the sum of the digits of <var>n</var> equals the sum of digits of 137<var>n</var>?\n",
    "</p>"
   ],
   "metadata": {}
  },
  {
   "outputs": [],
   "cell_type": "code",
   "source": [
    "submit_answer(nothing; prob_num=290)"
   ],
   "metadata": {},
   "execution_count": null
  },
  {
   "cell_type": "markdown",
   "source": [
    "<h2>Problem 291: Panaitopol Primes</h2>\n",
    "<p>\n",
    "A prime number $p$ is called a Panaitopol prime if $p = \\dfrac{x^4 - y^4}{x^3 + y^3}$ for some positive integers $x$ and $y$.</p>\n",
    "<p>\n",
    "Find how many Panaitopol primes are less than 5×10<sup>15</sup>.\n",
    "</p>"
   ],
   "metadata": {}
  },
  {
   "outputs": [],
   "cell_type": "code",
   "source": [
    "submit_answer(nothing; prob_num=291)"
   ],
   "metadata": {},
   "execution_count": null
  },
  {
   "cell_type": "markdown",
   "source": [
    "<h2>Problem 292: Pythagorean Polygons</h2>\n",
    "<p>We shall define a <i>pythagorean polygon</i>  to be a <b>convex polygon</b> with the following properties:<br /></p><ul><li>there are at least three vertices,</li>\n",
    "<li>no three vertices are aligned,</li>\n",
    "<li>each vertex has <b>integer coordinates</b>,</li>\n",
    "<li>each edge has <b>integer length</b>.</li></ul><p>For a given integer <var>n</var>, define P(<var>n</var>) as the number of distinct pythagorean polygons for which the perimeter is ≤ <var>n</var>.<br />\n",
    "Pythagorean polygons should be considered distinct as long as none is a translation of another.</p>\n",
    "\n",
    "<p>You are given that P(4) = 1, P(30) = 3655 and P(60) = 891045.<br />\n",
    "Find P(120).</p>"
   ],
   "metadata": {}
  },
  {
   "outputs": [],
   "cell_type": "code",
   "source": [
    "submit_answer(nothing; prob_num=292)"
   ],
   "metadata": {},
   "execution_count": null
  },
  {
   "cell_type": "markdown",
   "source": [
    "<h2>Problem 293: Pseudo-Fortunate Numbers</h2>\n",
    "<p>\n",
    "An even positive integer N will be called admissible, if it is a power of 2 or its distinct prime factors are consecutive primes.<br />\n",
    "The first twelve admissible numbers are 2,4,6,8,12,16,18,24,30,32,36,48.\n",
    "</p>\n",
    "<p>\n",
    "If N is admissible, the smallest integer M &gt; 1 such that N+M is prime, will be called the pseudo-Fortunate number for N.\n",
    "</p>\n",
    "<p>\n",
    "For example, N=630 is admissible since it is even and its distinct prime factors are the consecutive primes 2,3,5 and 7.<br />\n",
    "The next prime number after 631 is 641; hence, the pseudo-Fortunate number for 630 is M=11.<br />\n",
    "It can also be seen that the pseudo-Fortunate number for 16 is 3.\n",
    "</p>\n",
    "<p>\n",
    "Find the sum of all distinct pseudo-Fortunate numbers for admissible numbers N less than 10<sup>9</sup>.\n",
    "</p>"
   ],
   "metadata": {}
  },
  {
   "outputs": [],
   "cell_type": "code",
   "source": [
    "submit_answer(nothing; prob_num=293)"
   ],
   "metadata": {},
   "execution_count": null
  },
  {
   "cell_type": "markdown",
   "source": [
    "<h2>Problem 294: Sum of digits - experience #23</h2>\n",
    "<p>\n",
    "For a positive integer k, define d(k) as the sum of the digits of k in its usual decimal representation.\n",
    "Thus d(42) = 4+2 = 6.\n",
    "</p>\n",
    "<p>\n",
    "For a positive integer n, define S(n) as the number of positive integers k &lt; 10<sup>n</sup> with the following properties :\n",
    "</p><ul><li>k is divisible by 23 and\n",
    "</li><li>d(k) = 23.\n",
    "</li></ul>\n",
    "You are given that S(9) = 263626 and S(42) = 6377168878570056.\n",
    "\n",
    "<p>\n",
    "Find S(11<sup>12</sup>) and give your answer mod 10<sup>9</sup>.\n",
    "</p>"
   ],
   "metadata": {}
  },
  {
   "outputs": [],
   "cell_type": "code",
   "source": [
    "submit_answer(nothing; prob_num=294)"
   ],
   "metadata": {},
   "execution_count": null
  },
  {
   "cell_type": "markdown",
   "source": [
    "<h2>Problem 295: Lenticular holes</h2>\n",
    "<p>We call the convex area enclosed by two circles a <i>lenticular hole</i> if:\n",
    "</p><ul><li>The centres of both circles are on lattice points.</li>\n",
    "<li>The two circles intersect at two distinct lattice points.</li>\n",
    "<li>The interior of the convex area enclosed by both circles does not contain any lattice points.\n",
    "</li>\n",
    "</ul><p>Consider the circles:<br />\n",
    "C<sub>0</sub>: <var>x</var><sup>2</sup>+<var>y</var><sup>2</sup>=25<br />\n",
    "C<sub>1</sub>: (<var>x</var>+4)<sup>2</sup>+(<var>y</var>-4)<sup>2</sup>=1<br />\n",
    "C<sub>2</sub>: (<var>x</var>-12)<sup>2</sup>+(<var>y</var>-4)<sup>2</sup>=65\n",
    "</p>\n",
    "<p>\n",
    "The circles C<sub>0</sub>, C<sub>1</sub> and C<sub>2</sub> are drawn in the picture below.</p>\n",
    "<div align=\"center\"><img src=\"project/images/p295_lenticular.gif\" alt=\"p295_lenticular.gif\" /></div>\n",
    "<p>\n",
    "C<sub>0</sub> and C<sub>1</sub> form a lenticular hole, as well as C<sub>0</sub> and C<sub>2</sub>.</p>\n",
    "<p>\n",
    "We call an ordered pair of positive real numbers (r<sub>1</sub>, r<sub>2</sub>) a <i>lenticular pair</i> if there exist two circles with radii r<sub>1</sub> and r<sub>2</sub> that form a lenticular hole.\n",
    "We can verify that (1, 5) and (5, √65) are the lenticular pairs of the example above.</p>\n",
    "<p>\n",
    "Let L(N) be the number of <b>distinct</b> lenticular pairs (r<sub>1</sub>, r<sub>2</sub>) for which 0 &lt; r<sub>1</sub> ≤ r<sub>2</sub> ≤ N.<br />\n",
    "We can verify that L(10) = 30 and L(100) = 3442.</p>\n",
    "<p>\n",
    "Find L(100 000).\n",
    "</p>"
   ],
   "metadata": {}
  },
  {
   "outputs": [],
   "cell_type": "code",
   "source": [
    "submit_answer(nothing; prob_num=295)"
   ],
   "metadata": {},
   "execution_count": null
  },
  {
   "cell_type": "markdown",
   "source": [
    "<h2>Problem 296: Angular Bisector and Tangent</h2>\n",
    "<p>\n",
    "Given is an integer sided triangle <var>ABC</var> with <var>BC</var> ≤ <var>AC</var> ≤ <var>AB</var>.<br /><var>k</var> is the angular bisector of angle <var>ACB</var>.<br /><var>m</var> is the tangent at <var>C</var> to the circumscribed circle of <var>ABC</var>.<br /><var>n</var> is a line parallel to <var>m</var> through <var>B</var>.<br />\n",
    "The intersection of <var>n</var> and <var>k</var> is called <var>E</var>.\n",
    "</p>\n",
    "<div align=\"center\"><img src=\"project/images/p296_bisector.gif\" class=\"dark_img\" alt=\"p296_bisector.gif\" /></div>\n",
    "<p>\n",
    "How many triangles <var>ABC</var> with a perimeter not exceeding 100 000 exist such that <var>BE</var> has integral length?\n",
    "</p>"
   ],
   "metadata": {}
  },
  {
   "outputs": [],
   "cell_type": "code",
   "source": [
    "submit_answer(nothing; prob_num=296)"
   ],
   "metadata": {},
   "execution_count": null
  },
  {
   "cell_type": "markdown",
   "source": [
    "<h2>Problem 297: Zeckendorf Representation</h2>\n",
    "<p>Each new term in the Fibonacci sequence is generated by adding the previous two terms.<br />\n",
    "Starting with 1 and 2, the first 10 terms will be: 1, 2, 3, 5, 8, 13, 21, 34, 55, 89.</p>\n",
    "\n",
    "<p>Every positive integer can be uniquely written as a sum of nonconsecutive terms of the Fibonacci sequence. For example, 100 = 3 + 8 + 89.<br />\n",
    "Such a sum is called the <b>Zeckendorf representation</b> of the number.</p>\n",
    "\n",
    "<p>For any integer <var>n</var>&gt;0, let <var>z</var>(<var>n</var>) be the number of terms in the Zeckendorf representation of <var>n</var>.<br />\n",
    "Thus, <var>z</var>(5) = 1, <var>z</var>(14) = 2, <var>z</var>(100) = 3 etc.<br />\n",
    "Also, for 0&lt;<var>n</var>&lt;10<sup>6</sup>, <span style=\"font-size:larger;\"><span style=\"font-size:larger;\">∑</span></span> <var>z</var>(<var>n</var>) = 7894453.</p>\n",
    "\n",
    "<p>Find <span style=\"font-size:larger;\"><span style=\"font-size:larger;\">∑</span></span> <var>z</var>(<var>n</var>) for 0&lt;<var>n</var>&lt;10<sup>17</sup>.</p>"
   ],
   "metadata": {}
  },
  {
   "outputs": [],
   "cell_type": "code",
   "source": [
    "submit_answer(nothing; prob_num=297)"
   ],
   "metadata": {},
   "execution_count": null
  },
  {
   "cell_type": "markdown",
   "source": [
    "<h2>Problem 298: Selective Amnesia</h2>\n",
    "<p>Larry and Robin play a memory game involving a sequence of random numbers between 1 and 10, inclusive, that are called out one at a time. Each player can remember up to 5 previous numbers. When the called number is in a player's memory, that player is awarded a point. If it's not, the player adds the called number to his memory, removing another number if his memory is full.</p>\n",
    "\n",
    "<p>Both players start with empty memories. Both players always add new missed numbers to their memory but use a different strategy in deciding which number to remove:<br />\n",
    "Larry's strategy is to remove the number that hasn't been called in the longest time.<br />\n",
    "Robin's strategy is to remove the number that's been in the memory the longest time.</p>\n",
    "\n",
    "<p>Example game:</p>\n",
    "<table class=\"grid center\">\n",
    "<tr>\n",
    "  <th>Turn</th>\n",
    "  <th>Called<br />number</th>\n",
    "  <th class=\"right\">Larry's<br />memory</th>\n",
    "  <th>Larry's<br />score</th>\n",
    "  <th class=\"right\">Robin's<br />memory</th>\n",
    "  <th>Robin's<br />score</th>\n",
    "</tr>\n",
    "<tr>\n",
    "  <td>1</td>\n",
    "  <td>1</td>\n",
    "  <td class=\"right\">1</td>\n",
    "  <td>0</td>\n",
    "  <td class=\"right\">1</td>\n",
    "  <td>0</td>\n",
    "</tr>\n",
    "<tr>\n",
    "  <td>2</td>\n",
    "  <td>2</td>\n",
    "  <td class=\"right\">1,2</td>\n",
    "  <td>0</td>\n",
    "  <td class=\"right\">1,2</td>\n",
    "  <td>0</td>\n",
    "</tr><tr><td>3</td>\n",
    "  <td>4</td>\n",
    "  <td class=\"right\">1,2,4</td>\n",
    "  <td>0</td>\n",
    "  <td class=\"right\">1,2,4</td>\n",
    "  <td>0</td>\n",
    "</tr>\n",
    "<tr>\n",
    "  <td>4</td>\n",
    "  <td>6</td>\n",
    "  <td class=\"right\">1,2,4,6</td>\n",
    "  <td>0</td>\n",
    "  <td class=\"right\">1,2,4,6</td>\n",
    "  <td>0</td>\n",
    "</tr>\n",
    "<tr>\n",
    "  <td>5</td>\n",
    "  <td>1</td>\n",
    "  <td class=\"right\">1,2,4,6</td>\n",
    "  <td>1</td>\n",
    "  <td class=\"right\">1,2,4,6</td>\n",
    "  <td>1</td>\n",
    "</tr>\n",
    "<tr>\n",
    "  <td>6</td>\n",
    "  <td>8</td>\n",
    "  <td class=\"right\">1,2,4,6,8</td>\n",
    "  <td>1</td>\n",
    "  <td class=\"right\">1,2,4,6,8</td>\n",
    "  <td>1</td>\n",
    "</tr>\n",
    "<tr>\n",
    "  <td>7</td>\n",
    "  <td>10</td>\n",
    "  <td class=\"right\">1,4,6,8,10</td>\n",
    "  <td>1</td>\n",
    "  <td class=\"right\">2,4,6,8,10</td>\n",
    "  <td>1</td>\n",
    "</tr>\n",
    "<tr>\n",
    "  <td>8</td>\n",
    "  <td>2</td>\n",
    "  <td class=\"right\">1,2,6,8,10</td>\n",
    "  <td>1</td>\n",
    "  <td class=\"right\">2,4,6,8,10</td>\n",
    "  <td>2</td>\n",
    "</tr>\n",
    "<tr>\n",
    "  <td>9</td>\n",
    "  <td>4</td>\n",
    "  <td class=\"right\">1,2,4,8,10</td>\n",
    "  <td>1</td>\n",
    "  <td class=\"right\">2,4,6,8,10</td>\n",
    "  <td>3</td>\n",
    "</tr>\n",
    "<tr>\n",
    "  <td>10</td>\n",
    "  <td>1</td>\n",
    "  <td class=\"right\">1,2,4,8,10</td>\n",
    "  <td>2</td>\n",
    "  <td class=\"right\">1,4,6,8,10</td>\n",
    "  <td>3</td>\n",
    "</tr>\n",
    "</table>\n",
    "\n",
    "<p>Denoting Larry's score by <var>L</var> and Robin's score by <var>R</var>, what is the expected value of |<var>L</var>-<var>R</var>| after 50 turns? Give your answer rounded to eight decimal places using the format x.xxxxxxxx .</p>"
   ],
   "metadata": {}
  },
  {
   "outputs": [],
   "cell_type": "code",
   "source": [
    "submit_answer(nothing; prob_num=298)"
   ],
   "metadata": {},
   "execution_count": null
  },
  {
   "cell_type": "markdown",
   "source": [
    "<h2>Problem 299: Three similar triangles</h2>\n",
    "<p>Four points with integer coordinates are selected:<br />A(<var>a</var>, 0), B(<var>b</var>, 0), C(0, <var>c</var>) and D(0, <var>d</var>),\n",
    "with 0 &lt; <var>a</var> &lt; <var>b</var> and 0 &lt; <var>c</var> &lt; <var>d</var>.<br />\n",
    "Point P, also with integer coordinates, is chosen on the line AC so that the three triangles ABP, CDP and BDP are all <dfn title=\"Have equal angles\">similar</dfn>.</p>\n",
    "<div align=\"center\"><img src=\"project/images/p299_ThreeSimTri.gif\" class=\"dark_img\" alt=\"p299_ThreeSimTri.gif\" /></div>\n",
    "<p>It is easy to prove that the three triangles can be similar, only if <var>a</var>=<var>c</var>.</p>\n",
    "\n",
    "<p>So, given that <var>a</var>=<var>c</var>, we are looking for triplets (<var>a</var>,<var>b</var>,<var>d</var>) such that at least one point P (with integer coordinates) exists on AC, making the three triangles ABP, CDP and BDP all similar.</p>\n",
    "\n",
    "<p>For example, if (<var>a</var>,<var>b</var>,<var>d</var>)=(2,3,4), it can be easily verified that point P(1,1) satisfies the above condition.\n",
    "Note that the triplets (2,3,4) and (2,4,3) are considered as distinct, although point P(1,1) is common for both.</p>\n",
    "\n",
    "<p>If <var>b</var>+<var>d</var> &lt; 100, there are 92 distinct triplets (<var>a</var>,<var>b</var>,<var>d</var>) such that point P exists.<br />\n",
    "If <var>b</var>+<var>d</var> &lt; 100 000, there are 320471 distinct triplets (<var>a</var>,<var>b</var>,<var>d</var>) such that point P exists.</p>\n",
    "<p>If <var>b</var>+<var>d</var> &lt; 100 000 000, how many distinct triplets (<var>a</var>,<var>b</var>,<var>d</var>) are there such that point P exists?</p>"
   ],
   "metadata": {}
  },
  {
   "outputs": [],
   "cell_type": "code",
   "source": [
    "submit_answer(nothing; prob_num=299)"
   ],
   "metadata": {},
   "execution_count": null
  },
  {
   "cell_type": "markdown",
   "source": [
    "<h2>Problem 300: Protein folding</h2>\n",
    "<p>In a very simplified form, we can consider proteins as strings consisting of hydrophobic (H) and polar (P) elements, e.g. HHPPHHHPHHPH. <br />\n",
    "For this problem, the orientation of a protein is important; e.g. HPP is considered distinct from PPH. Thus, there are 2<sup><var>n</var></sup> distinct proteins consisting of <var>n</var> elements.</p>\n",
    "\n",
    "<p>When one encounters these strings in nature, they are always folded in such a way that the number of H-H contact points is as large as possible, since this is energetically advantageous.<br />\n",
    "As a result, the H-elements tend to accumulate in the inner part, with the P-elements on the outside.<br />\n",
    "Natural proteins are folded in three dimensions of course, but we will only consider protein folding in <u>two dimensions</u>.</p>\n",
    "\n",
    "<p>The figure below shows two possible ways that our example protein could be folded (H-H contact points are shown with red dots).</p>\n",
    "\n",
    "<div align=\"center\"><img src=\"project/images/p300_protein.gif\" alt=\"p300_protein.gif\" /></div>\n",
    "\n",
    "<p>The folding on the left has only six H-H contact points, thus it would never occur naturally.<br />\n",
    "On the other hand, the folding on the right has nine H-H contact points, which is optimal for this string.</p>\n",
    "\n",
    "<p>Assuming that H and P elements are equally likely to occur in any position along the string, the average number of H-H contact points in an optimal folding of a random protein string of length 8 turns out to be 850 / 2<sup>8</sup>=3.3203125.</p>\n",
    "\n",
    "<p>What is the average number of H-H contact points in an optimal folding of a random protein string of length 15?<br />\n",
    "Give your answer using as many decimal places as necessary for an exact result.</p>"
   ],
   "metadata": {}
  },
  {
   "outputs": [],
   "cell_type": "code",
   "source": [
    "submit_answer(nothing; prob_num=300)"
   ],
   "metadata": {},
   "execution_count": null
  },
  {
   "cell_type": "markdown",
   "source": [
    "---\n",
    "\n",
    "*This notebook was generated using [Literate.jl](https://github.com/fredrikekre/Literate.jl).*"
   ],
   "metadata": {}
  }
 ],
 "nbformat_minor": 3,
 "metadata": {
  "language_info": {
   "file_extension": ".jl",
   "mimetype": "application/julia",
   "name": "julia",
   "version": "1.6.0-beta1.0"
  },
  "kernelspec": {
   "name": "julia-1.6",
   "display_name": "Julia 1.6.0-beta1.0",
   "language": "julia"
  }
 },
 "nbformat": 4
}
