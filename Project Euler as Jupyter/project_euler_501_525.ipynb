{
 "cells": [
  {
   "outputs": [],
   "cell_type": "code",
   "source": [
    "include((@__DIR__)*\"/shared.jl\");"
   ],
   "metadata": {},
   "execution_count": null
  },
  {
   "cell_type": "markdown",
   "source": [
    "<h2>Problem 501: Eight Divisors</h2>\n",
    "<p>The eight divisors of 24 are 1, 2, 3, 4, 6, 8, 12 and 24.\n",
    "The ten numbers not exceeding 100 having exactly eight divisors are 24, 30, 40, 42, 54, 56, 66, 70, 78 and 88.\n",
    "Let <var>f</var>(<var>n</var>) be the count of numbers not exceeding <var>n</var> with exactly eight divisors.<br />\n",
    "You are given <var>f</var>(100) = 10, <var>f</var>(1000) = 180 and <var>f</var>(10<sup>6</sup>) = 224427.<br />\n",
    "Find <var>f</var>(10<sup>12</sup>).</p>"
   ],
   "metadata": {}
  },
  {
   "outputs": [],
   "cell_type": "code",
   "source": [
    "submit_answer(nothing; prob_num=501)"
   ],
   "metadata": {},
   "execution_count": null
  },
  {
   "cell_type": "markdown",
   "source": [
    "<h2>Problem 502: Counting Castles</h2>\n",
    "<p>We define a <i>block</i> to be a rectangle with a height of 1 and an integer-valued length. Let a <i>castle</i> be a configuration of stacked blocks.</p>\n",
    "\n",
    "<p>Given a game grid that is <var>w</var> units wide and <var>h</var> units tall, a castle is generated according to the following rules:</p>\n",
    "\n",
    "\n",
    "<ol><li>Blocks can be placed on top of other blocks as long as nothing sticks out past the edges or hangs out over open space.</li>\n",
    "<li>All blocks are aligned/snapped to the grid.</li>\n",
    "<li>Any two neighboring blocks on the same row have at least one unit of space between them.</li>\n",
    "<li>The bottom row is occupied by a block of length <var>w</var>.</li>\n",
    "<li>The maximum achieved height of the entire castle is exactly <var>h</var>.</li>\n",
    "<li>The castle is made from an even number of blocks.</li>\n",
    "</ol><p>The following is a sample castle for <var>w</var>=8 and <var>h</var>=5:</p>\n",
    "\n",
    "<p align=\"center\"><img src=\"project/images/p502_castles.png\" alt=\"p502_castles.png\" /></p>\n",
    "\n",
    "<p>Let F(<var>w</var>,<var>h</var>) represent the number of valid castles, given grid parameters <var>w</var> and <var>h</var>.</p>\n",
    "\n",
    "<p>For example, F(4,2) = 10, F(13,10) = 3729050610636, F(10,13) = 37959702514, and F(100,100) mod 1 000 000 007 = 841913936.</p>\n",
    "\n",
    "<p>Find (F(10<sup>12</sup>,100) + F(10000,10000) + F(100,10<sup>12</sup>)) mod 1 000 000 007.</p>"
   ],
   "metadata": {}
  },
  {
   "outputs": [],
   "cell_type": "code",
   "source": [
    "submit_answer(nothing; prob_num=502)"
   ],
   "metadata": {},
   "execution_count": null
  },
  {
   "cell_type": "markdown",
   "source": [
    "<h2>Problem 503: Compromise or persist</h2>\n",
    "<p>Alice is playing a game with <var>n</var> cards numbered 1 to <var>n</var>.</p>\n",
    "\n",
    "<p>A game consists of iterations of the following steps.<br />\n",
    "(1) Alice picks one of the cards at random.<br />\n",
    "(2) Alice cannot see the number on it. Instead, Bob, one of her friends, sees the number and tells Alice how many previously-seen numbers are bigger than the number which he is seeing.<br />\n",
    "(3) Alice can end or continue the game. If she decides to end, the number becomes her score. If she decides to continue, the card is removed from the game and she returns to (1). If there is no card left, she is forced to end the game.<br /></p>\n",
    "\n",
    "<p>Let F(<var>n</var>) be the Alice's expected score if she takes the optimized strategy to <b>minimize</b> her score.</p>\n",
    "\n",
    "<p>For example, F(3) = 5/3. At the first iteration, she should continue the game. At the second iteration, she should end the game if Bob says that one previously-seen number is bigger than the number which he is seeing, otherwise she should continue the game.</p>\n",
    "\n",
    "<p>We can also verify that F(4) = 15/8 and F(10) ≈ 2.5579365079.</p>\n",
    "\n",
    "<p>Find F(10<sup>6</sup>). Give your answer rounded to 10 decimal places behind the decimal point.</p>"
   ],
   "metadata": {}
  },
  {
   "outputs": [],
   "cell_type": "code",
   "source": [
    "submit_answer(nothing; prob_num=503)"
   ],
   "metadata": {},
   "execution_count": null
  },
  {
   "cell_type": "markdown",
   "source": [
    "<h2>Problem 504: Square on the Inside</h2>\n",
    "<p>Let <var>ABCD</var> be a quadrilateral whose vertices are lattice points lying on the coordinate axes as follows:</p>\n",
    "\n",
    "<p><var>A</var>(<var>a</var>, 0), <var>B</var>(0, <var>b</var>), <var>C</var>(<var>−c</var>, 0), <var>D</var>(0, <var>−d</var>), where 1 ≤ <var>a</var>, <var>b</var>, <var>c</var>, <var>d</var> ≤ <var>m</var> and <var>a</var>, <var>b</var>, <var>c</var>, <var>d</var>, <var>m</var> are integers.</p>\n",
    "\n",
    "<p>It can be shown that for <var>m</var> = 4 there are exactly 256 valid ways to construct <var>ABCD</var>. Of these 256 quadrilaterals, 42 of them <u>strictly</u> contain a square number of lattice points.</p>\n",
    "\n",
    "<p>How many quadrilaterals <var>ABCD</var> strictly contain a square number of lattice points for <var>m</var> = 100?</p>"
   ],
   "metadata": {}
  },
  {
   "outputs": [],
   "cell_type": "code",
   "source": [
    "submit_answer(nothing; prob_num=504)"
   ],
   "metadata": {},
   "execution_count": null
  },
  {
   "cell_type": "markdown",
   "source": [
    "<h2>Problem 505: Bidirectional Recurrence</h2>\n",
    "<p>Let:</p>\n",
    "<p style=\"margin-left:32px;\">$\\begin{array}{ll} x(0)&amp;=0 \\\\ x(1)&amp;=1 \\\\ x(2k)&amp;=(3x(k)+2x(\\lfloor \\frac k 2 \\rfloor)) \\text{ mod } 2^{60} \\text{ for } k \\ge 1 \\text {, where } \\lfloor \\text { } \\rfloor \\text { is the floor function} \\\\ x(2k+1)&amp;=(2x(k)+3x(\\lfloor \\frac k 2 \\rfloor)) \\text{ mod } 2^{60} \\text{ for } k \\ge 1 \\\\ y_n(k)&amp;=\\left\\{{\\begin{array}{lc} x(k) &amp;&amp; \\text{if } k \\ge n \\\\ 2^{60} - 1 - max(y_n(2k),y_n(2k+1)) &amp;&amp; \\text{if } k &lt; n \\end{array}} \\right. \\\\ A(n)&amp;=y_n(1) \\end{array}$</p>\n",
    "<p>You are given:</p>\n",
    "<p style=\"margin-left:32px;\">$\\begin{array}{ll} x(2)&amp;=3 \\\\ x(3)&amp;=2 \\\\ x(4)&amp;=11 \\\\ y_4(4)&amp;=11 \\\\ y_4(3)&amp;=2^{60}-9\\\\ y_4(2)&amp;=2^{60}-12 \\\\ y_4(1)&amp;=A(4)=8 \\\\ A(10)&amp;=2^{60}-34\\\\ A(10^3)&amp;=101881 \\end{array}$</p>\n",
    "Find $A(10^{12})$."
   ],
   "metadata": {}
  },
  {
   "outputs": [],
   "cell_type": "code",
   "source": [
    "submit_answer(nothing; prob_num=505)"
   ],
   "metadata": {},
   "execution_count": null
  },
  {
   "cell_type": "markdown",
   "source": [
    "<h2>Problem 506: Clock sequence</h2>\n",
    "<p>Consider the infinite repeating sequence of digits:<br />\n",
    "1234321234321234321...</p>\n",
    "<p>Amazingly, you can break this sequence of digits into a sequence of integers such that the sum of the digits in the <var>n</var>'th value is <var>n</var>.</p>\n",
    "<p>The sequence goes as follows:<br />\n",
    "1, 2, 3, 4, 32, 123, 43, 2123, 432, 1234, 32123, ...</p>\n",
    "<p>Let <var>v<sub>n</sub></var> be the <var>n</var>'th value in this sequence. For example, <var>v</var><sub>2</sub> = 2, <var>v</var><sub>5</sub> = 32 and <var>v</var><sub>11</sub> = 32123.</p>\n",
    "<p>Let <var>S</var>(<var>n</var>) be <var>v</var><sub>1</sub> + <var>v</var><sub>2</sub> + ... + <var>v<sub>n</sub></var>. For example, <var>S</var>(11) = 36120, and <var>S</var>(1000) mod 123454321 = 18232686.</p>\n",
    "<p>Find <var>S</var>(10<sup>14</sup>) mod 123454321.</p>"
   ],
   "metadata": {}
  },
  {
   "outputs": [],
   "cell_type": "code",
   "source": [
    "submit_answer(nothing; prob_num=506)"
   ],
   "metadata": {},
   "execution_count": null
  },
  {
   "cell_type": "markdown",
   "source": [
    "<h2>Problem 507: Shortest Lattice Vector</h2>\n",
    "<p>\n",
    "Let $t_n$ be the <b>tribonacci numbers</b> defined as:<br />\n",
    "$t_0 = t_1 = 0$;<br />\n",
    "$t_2 = 1$;<br />\n",
    "$t_n = t_{n-1} + t_{n-2} + t_{n-3}$ for $n \\ge 3$<br />\n",
    "and let $r_n = t_n \\text{ mod } 10^7$.\n",
    "</p>\n",
    "<p>\n",
    "For each pair of Vectors $V_n=(v_1,v_2,v_3)$ and $W_n=(w_1,w_2,w_3)$ with $v_1=r_{12n-11}-r_{12n-10}, v_2=r_{12n-9}+r_{12n-8}, v_3=r_{12n-7} \\cdot r_{12n-6}$  and <br /> $w_1=r_{12n-5}-r_{12n-4}, w_2=r_{12n-3}+r_{12n-2}, w_3=r_{12n-1} \\cdot r_{12n}$\n",
    "<br />\n",
    "\n",
    "we define $S(n)$ as the minimal value of the manhattan length of the vector $D=k \\cdot V_n+l \\cdot W_n$ measured as $|k \\cdot v_1+l \\cdot w_1|+|k \\cdot v_2+l \\cdot w_2|+|k \\cdot v_3+l \\cdot w_3|$\n",
    " for any integers $k$ and $l$ with $(k,l)\\neq (0,0)$.\n",
    "</p><p>\n",
    "The first vector pair  is (-1, 3, 28), (-11, 125, 40826).<br />\n",
    "You are given that $S(1)=32$ and $\\sum_{n=1}^{10} S(n)=130762273722$.\n",
    "</p>\n",
    "<p>\n",
    "Find $\\sum_{n=1}^{20000000} S(n)$.\n",
    "</p>"
   ],
   "metadata": {}
  },
  {
   "outputs": [],
   "cell_type": "code",
   "source": [
    "submit_answer(nothing; prob_num=507)"
   ],
   "metadata": {},
   "execution_count": null
  },
  {
   "cell_type": "markdown",
   "source": [
    "<h2>Problem 508: Integers in base i-1</h2>\n",
    "<p>Consider the Gaussian integer i-1. A <b>base i-1 representation</b> of a Gaussian integer <var>a</var>+<var>b</var>i is a finite sequence of digits <var>d</var><sub><var>n</var>-1</sub><var>d</var><sub><var>n</var>-2</sub>...<var>d</var><sub>1</sub><var>d</var><sub>0</sub> such that:</p>\n",
    "\n",
    "<ul><li><var>a</var>+<var>b</var>i = <var>d</var><sub><var>n</var>-1</sub>(i-1)<sup><var>n</var>-1</sup> + <var>d</var><sub><var>n</var>-2</sub>(i-1)<sup><var>n</var>-2</sup> + ... + <var>d</var><sub>1</sub>(i-1) + <var>d</var><sub>0</sub></li>\n",
    "<li>Each <var>d</var><sub><var>k</var></sub> is in {0,1}</li>\n",
    "<li>There are no leading zeroes, i.e. <var>d</var><sub>n-1</sub> ≠ 0, unless <var>a</var>+<var>b</var>i is itself 0</li>\n",
    "</ul><p>Here are base i-1 representations of a few Gaussian integers:<br /><br />\n",
    "11+24i → 111010110001101<br />\n",
    "24-11i → 110010110011<br />\n",
    "8+0i → 111000000<br />\n",
    "-5+0i → 11001101<br />\n",
    "0+0i → 0</p>\n",
    "\n",
    "Remarkably, every Gaussian integer has a unique base i-1 representation!<br /><br />\n",
    "\n",
    "Define <var>f</var>(<var>a</var>+<var>b</var>i) as the number of 1s in the unique base i-1 representation of <var>a</var>+<var>b</var>i. For example, <var>f</var>(11+24i) = 9 and <var>f</var>(24-11i) = 7.<br /><br />\n",
    "\n",
    "Define <var>B</var>(<var>L</var>) as the sum of <var>f</var>(<var>a</var>+<var>b</var>i) for all integers <var>a</var>, <var>b</var> such that |<var>a</var>| ≤ <var>L</var> and |<var>b</var>| ≤ <var>L</var>. For example, <var>B</var>(500) = 10795060.<br /><br />\n",
    "\n",
    "Find <var>B</var>(10<sup>15</sup>) mod 1 000 000 007."
   ],
   "metadata": {}
  },
  {
   "outputs": [],
   "cell_type": "code",
   "source": [
    "submit_answer(nothing; prob_num=508)"
   ],
   "metadata": {},
   "execution_count": null
  },
  {
   "cell_type": "markdown",
   "source": [
    "<h2>Problem 509: Divisor Nim</h2>\n",
    "<p>\n",
    "Anton and Bertrand love to play three pile Nim.<br />\n",
    "However, after a lot of games of Nim they got bored and changed the rules somewhat.<br />\n",
    "They may only take a number of stones from a pile that is a <dfn title=\"a proper divisor of n is a divisor of n smaller than n\">proper divisor</dfn> of the number of stones present in the pile.<br /> E.g. if a pile at a certain moment contains 24 stones they may take only 1,2,3,4,6,8 or 12 stones from that pile.<br />\n",
    "So if a pile contains one stone they can't take the last stone from it as 1 isn't a proper divisor of 1.<br />\n",
    "The first player that can't make a valid move loses the game.<br />\n",
    "Of course both Anton and Bertrand play optimally.</p>\n",
    "<p>\n",
    "The triple (<var>a</var>,<var>b</var>,<var>c</var>) indicates the number of stones in the three piles.<br />\n",
    "Let <var>S</var>(<var>n</var>) be the number of winning positions for the next player for 1 ≤ <var>a</var>, <var>b</var>, <var>c</var> ≤ <var>n</var>.<br /><var>S</var>(10) = 692 and <var>S</var>(100) = 735494.</p>\n",
    "<p>\n",
    "Find <var>S</var>(123456787654321) modulo 1234567890.\n",
    "</p>"
   ],
   "metadata": {}
  },
  {
   "outputs": [],
   "cell_type": "code",
   "source": [
    "submit_answer(nothing; prob_num=509)"
   ],
   "metadata": {},
   "execution_count": null
  },
  {
   "cell_type": "markdown",
   "source": [
    "<h2>Problem 510: Tangent Circles</h2>\n",
    "<p>Circles A and B are tangent to each other and to line L at three distinct points.<br />\n",
    "Circle C is inside the space between A, B and L, and tangent to all three.<br />\n",
    "Let <var>r</var><sub>A</sub>, <var>r</var><sub>B</sub> and <var>r</var><sub>C</sub> be the radii of A, B and C respectively.<br /></p><div align=\"center\"><img src=\"project/images/p510_tangent_circles.png\" alt=\"p510_tangent_circles.png\" /></div>\n",
    "<p>Let <var>S</var>(<var>n</var>) = <span style=\"font-size:larger;\"><span style=\"font-size:larger;\">∑</span></span> <var>r</var><sub>A</sub> + <var>r</var><sub>B</sub> + <var>r</var><sub>C</sub>, for 0 &lt; <var>r</var><sub>A</sub> ≤ <var>r</var><sub>B</sub> ≤ <var>n</var> where <var>r</var><sub>A</sub>, <var>r</var><sub>B</sub> and <var>r</var><sub>C</sub> are integers.\n",
    "The only solution for 0 &lt; <var>r</var><sub>A</sub> ≤ <var>r</var><sub>B</sub> ≤ 5 is <var>r</var><sub>A</sub> = 4, <var>r</var><sub>B</sub> = 4 and <var>r</var><sub>C</sub> = 1, so <var>S</var>(5) = 4 + 4 + 1 = 9.\n",
    "You are also given <var>S</var>(100) = 3072.</p>\n",
    "<p>Find <var>S</var>(10<sup>9</sup>).</p>"
   ],
   "metadata": {}
  },
  {
   "outputs": [],
   "cell_type": "code",
   "source": [
    "submit_answer(nothing; prob_num=510)"
   ],
   "metadata": {},
   "execution_count": null
  },
  {
   "cell_type": "markdown",
   "source": [
    "<h2>Problem 511: Sequences with nice divisibility properties</h2>\n",
    "<p>Let <var>Seq</var>(<var>n</var>,<var>k</var>) be the number of positive-integer sequences {<var>a<sub>i</sub></var>}<sub>1≤i≤<var>n</var></sub> of length <var>n</var> such that:</p>\n",
    "<ul style=\"list-style-type:disc;\"><li><var>n</var> is divisible by <var>a<sub>i</sub></var> for 1 ≤ <var>i</var> ≤ <var>n</var>, and</li>\n",
    "  <li><var>n</var> + <var>a</var><sub>1</sub> + <var>a</var><sub>2</sub> + ... + <var>a<sub>n</sub></var> is divisible by <var>k</var>.</li>\n",
    "</ul><p>Examples:</p>\n",
    "<p><var>Seq</var>(3,4) = 4, and the 4 sequences are:<br />\n",
    "{1, 1, 3}<br />\n",
    "{1, 3, 1}<br />\n",
    "{3, 1, 1}<br />\n",
    "{3, 3, 3}</p>\n",
    "<p><var>Seq</var>(4,11) = 8, and the 8 sequences are:<br />\n",
    "{1, 1, 1, 4}<br />\n",
    "{1, 1, 4, 1}<br />\n",
    "{1, 4, 1, 1}<br />\n",
    "{4, 1, 1, 1}<br />\n",
    "{2, 2, 2, 1}<br />\n",
    "{2, 2, 1, 2}<br />\n",
    "{2, 1, 2, 2}<br />\n",
    "{1, 2, 2, 2}</p>\n",
    "<p>The last nine digits of <var>Seq</var>(1111,24) are 840643584.</p>\n",
    "<p>Find the last nine digits of <var>Seq</var>(1234567898765,4321).</p>"
   ],
   "metadata": {}
  },
  {
   "outputs": [],
   "cell_type": "code",
   "source": [
    "submit_answer(nothing; prob_num=511)"
   ],
   "metadata": {},
   "execution_count": null
  },
  {
   "cell_type": "markdown",
   "source": [
    "<h2>Problem 512: Sums of totients of powers</h2>\n",
    "<p>Let $\\varphi(n)$ be Euler's totient function.</p><p>\n",
    "Let $f(n)=(\\sum_{i=1}^{n}\\varphi(n^i)) \\text{ mod } (n+1)$.</p><p>\n",
    "Let $g(n)=\\sum_{i=1}^{n} f(i)$.</p><p>\n",
    "$g(100)=2007$.\n",
    "</p>\n",
    "<p>\n",
    "Find $g(5 \\times 10^8)$.\n",
    "</p>"
   ],
   "metadata": {}
  },
  {
   "outputs": [],
   "cell_type": "code",
   "source": [
    "submit_answer(nothing; prob_num=512)"
   ],
   "metadata": {},
   "execution_count": null
  },
  {
   "cell_type": "markdown",
   "source": [
    "<h2>Problem 513: Integral median</h2>\n",
    "<p>\n",
    "ABC is an integral sided triangle with sides a≤b≤c.<br />\n",
    "m<sub>c</sub> is the median connecting C and the midpoint of AB. <br />\n",
    "F(n) is the number of such triangles with  c≤n for which m<sub>c</sub> has integral length as well.<br />\n",
    "F(10)=3 and F(50)=165.</p>\n",
    "<p>\n",
    "Find F(100000).\n",
    "</p>"
   ],
   "metadata": {}
  },
  {
   "outputs": [],
   "cell_type": "code",
   "source": [
    "submit_answer(nothing; prob_num=513)"
   ],
   "metadata": {},
   "execution_count": null
  },
  {
   "cell_type": "markdown",
   "source": [
    "<h2>Problem 514: Geoboard Shapes</h2>\n",
    "<p>A <b>geoboard</b> (of order <var>N</var>) is a square board with equally-spaced pins protruding from the surface, representing an integer point lattice for coordinates 0 ≤ <var>x</var>,<var>y</var> ≤ <var>N</var>.</p>\n",
    "\n",
    "<p>John begins with a pinless geoboard. Each position on the board is a hole that can be filled with a pin. John decides to generate a random integer between 1 and <var>N</var>+1 (inclusive) for each hole in the geoboard. If the random integer is equal to 1 for a given hole, then a pin is placed in that hole.</p>\n",
    "\n",
    "<p>After John is finished generating numbers for all (<var>N</var>+1)<sup>2</sup> holes and placing any/all corresponding pins, he wraps a tight rubberband around the entire group of pins protruding from the board. Let <var>S</var> represent the shape that is formed. <var>S</var> can also be defined as the smallest convex shape that contains all the pins.</p>\n",
    "\n",
    "<div align=\"center\"><img src=\"project/images/p514_geoboard.png\" alt=\"p514_geoboard.png\" /></div>\n",
    "\n",
    "<p>The above image depicts a sample layout for <var>N</var> = 4. The green markers indicate positions where pins have been placed, and the blue lines collectively represent the rubberband. For this particular arrangement, <var>S</var> has an area of 6. If there are fewer than three pins on the board (or if all pins are collinear), <var>S</var> can be assumed to have zero area.</p>\n",
    "\n",
    "<p>Let E(<var>N</var>) be the expected area of <var>S</var> given a geoboard of order <var>N</var>. For example, E(1) = 0.18750, E(2) = 0.94335, and E(10) = 55.03013 when rounded to five decimal places each.</p>\n",
    "\n",
    "<p>Calculate E(100) rounded to five decimal places.</p>"
   ],
   "metadata": {}
  },
  {
   "outputs": [],
   "cell_type": "code",
   "source": [
    "submit_answer(nothing; prob_num=514)"
   ],
   "metadata": {},
   "execution_count": null
  },
  {
   "cell_type": "markdown",
   "source": [
    "<h2>Problem 515: Dissonant Numbers</h2>\n",
    "<p>Let <var>d</var>(<var>p</var>,<var>n</var>,0) be the multiplicative inverse of <var>n</var> modulo prime <var>p</var>, defined as <var>n</var> × <var>d</var>(<var>p</var>,<var>n</var>,0) = 1 mod <var>p</var>.<br />\n",
    "Let <var>d</var>(<var>p</var>,<var>n</var>,<var>k</var>) = $\\sum_{i=1}^n$<var>d</var>(<var>p</var>,<var>i</var>,<var>k</var>−1) for <var>k</var> ≥ 1.<br />\n",
    "Let <var>D</var>(<var>a</var>,<var>b</var>,<var>k</var>) = $\\sum$(<var>d</var>(<var>p</var>,<var>p</var>-1,<var>k</var>) mod <var>p</var>) for all primes <var>a</var> ≤ <var>p</var> &lt; <var>a</var> + <var>b</var>.</p>\n",
    "<p>You are given:</p>\n",
    "<ul><li><var>D</var>(101,1,10) = 45</li>\n",
    "<li><var>D</var>(10<sup>3</sup>,10<sup>2</sup>,10<sup>2</sup>) = 8334</li>\n",
    "<li><var>D</var>(10<sup>6</sup>,10<sup>3</sup>,10<sup>3</sup>) = 38162302</li></ul><p>Find <var>D</var>(10<sup>9</sup>,10<sup>5</sup>,10<sup>5</sup>).</p>"
   ],
   "metadata": {}
  },
  {
   "outputs": [],
   "cell_type": "code",
   "source": [
    "submit_answer(nothing; prob_num=515)"
   ],
   "metadata": {},
   "execution_count": null
  },
  {
   "cell_type": "markdown",
   "source": [
    "<h2>Problem 516: 5-smooth totients</h2>\n",
    "<p>\n",
    "5-smooth numbers are numbers whose largest prime factor doesn't exceed 5.<br />\n",
    "5-smooth numbers are also called Hamming numbers.<br />\n",
    "Let S(L) be the sum of the numbers n not exceeding L such that Euler's totient function φ(n) is a Hamming number.<br />\n",
    "S(100)=3728.\n",
    "</p>\n",
    "<p>\n",
    "Find S(10<sup>12</sup>). Give your answer modulo 2<sup>32</sup>.\n",
    "</p>"
   ],
   "metadata": {}
  },
  {
   "outputs": [],
   "cell_type": "code",
   "source": [
    "submit_answer(nothing; prob_num=516)"
   ],
   "metadata": {},
   "execution_count": null
  },
  {
   "cell_type": "markdown",
   "source": [
    "<h2>Problem 517: A real recursion</h2>\n",
    "<p>\n",
    "For every real number $a \\gt 1$ is given the sequence $g_a$ by:<br />\n",
    "$g_{a}(x)=1$ for $x \\lt a$<br />\n",
    "$g_{a}(x)=g_{a}(x-1)+g_a(x-a)$ for $x \\ge a$<br />\n",
    "\n",
    "$G(n)=g_{\\sqrt {n}}(n)$<br />\n",
    "$G(90)=7564511$.</p>\n",
    "<p>\n",
    "Find $\\sum G(p)$ for $p$ prime and $10000000 \\lt p \\lt 10010000$<br />\n",
    "Give your answer modulo 1000000007.\n",
    "</p>"
   ],
   "metadata": {}
  },
  {
   "outputs": [],
   "cell_type": "code",
   "source": [
    "submit_answer(nothing; prob_num=517)"
   ],
   "metadata": {},
   "execution_count": null
  },
  {
   "cell_type": "markdown",
   "source": [
    "<h2>Problem 518: Prime triples and geometric sequences</h2>\n",
    "<p>Let S(<var>n</var>) = Σ <var>a</var>+<var>b</var>+<var>c</var> over all triples (<var>a</var>,<var>b</var>,<var>c</var>) such that:</p>\n",
    "\n",
    "<ul style=\"list-style-type:disc;\"><li><var>a</var>, <var>b</var>, and <var>c</var> are prime numbers.</li>\n",
    "<li><var>a</var> &lt; <var>b</var> &lt; <var>c</var> &lt; <var>n</var>.</li>\n",
    "<li><var>a</var>+1, <var>b</var>+1, and <var>c</var>+1 form a <b>geometric sequence</b>.</li>\n",
    "</ul><p>For example, S(100) = 1035 with the following triples: </p>\n",
    "\n",
    "<p>(2, 5, 11), (2, 11, 47), (5, 11, 23), (5, 17, 53), (7, 11, 17), (7, 23, 71), (11, 23, 47), (17, 23, 31), (17, 41, 97), (31, 47, 71), (71, 83, 97)</p>\n",
    "\n",
    "<p>Find S(10<sup>8</sup>).</p>"
   ],
   "metadata": {}
  },
  {
   "outputs": [],
   "cell_type": "code",
   "source": [
    "submit_answer(nothing; prob_num=518)"
   ],
   "metadata": {},
   "execution_count": null
  },
  {
   "cell_type": "markdown",
   "source": [
    "<h2>Problem 519: Tricoloured Coin Fountains</h2>\n",
    "<p>An arrangement of coins in one or more rows with the bottom row being a block without gaps and every coin in a higher row touching exactly two coins in the row below is called a <b>fountain</b> of coins. Let <var>f</var>(<var>n</var>) be the number of possible fountains with <var>n</var> coins. For 4 coins there are three possible arrangements:</p>\n",
    "<div align=\"center\"><img src=\"project/images/p519_coin_fountain.png\" alt=\"p519_coin_fountain.png\" /></div>\n",
    "<p>Therefore <var>f</var>(4) = 3 while <var>f</var>(10) = 78.</p>\n",
    "<p>Let <var>T</var>(<var>n</var>) be the number of all possible colourings with three colours for all <var>f</var>(<var>n</var>) different fountains with <var>n</var> coins, given the condition that no two touching coins have the same colour. Below you see the possible colourings for one of the three valid fountains for 4 coins:</p>\n",
    "<div align=\"center\"><img src=\"project/images/p519_tricolored_coin_fountain.png\" alt=\"p519_tricolored_coin_fountain.png\" /></div>\n",
    "<p>You are given that <var>T</var>(4) = 48 and <var>T</var>(10) = 17760.</p>\n",
    "<p>Find the last 9 digits of <var>T</var>(20000).</p>"
   ],
   "metadata": {}
  },
  {
   "outputs": [],
   "cell_type": "code",
   "source": [
    "submit_answer(nothing; prob_num=519)"
   ],
   "metadata": {},
   "execution_count": null
  },
  {
   "cell_type": "markdown",
   "source": [
    "<h2>Problem 520: Simbers</h2>\n",
    "<p>We define a <i>simber</i> to be a positive integer in which any odd digit, if present, occurs an odd number of times, and any even digit, if present, occurs an even number of times.</p>\n",
    "\n",
    "<p>For example, 141221242 is a 9-digit simber because it has three 1's, four 2's and two 4's. </p>\n",
    "\n",
    "<p>Let Q(<var>n</var>) be the count of all simbers with at most <var>n</var> digits.</p>\n",
    "\n",
    "<p>You are given Q(7) = 287975 and Q(100) mod 1 000 000 123 = 123864868.</p>\n",
    "\n",
    "<p>Find (<span style=\"font-size:larger;\"><span style=\"font-size:larger;\">∑</span></span><sub>1≤<var>u</var>≤39</sub> Q(2<sup><var>u</var></sup>)) mod 1 000 000 123.</p>"
   ],
   "metadata": {}
  },
  {
   "outputs": [],
   "cell_type": "code",
   "source": [
    "submit_answer(nothing; prob_num=520)"
   ],
   "metadata": {},
   "execution_count": null
  },
  {
   "cell_type": "markdown",
   "source": [
    "<h2>Problem 521: Smallest prime factor</h2>\n",
    "<p>\n",
    "Let smpf(<var>n</var>) be the smallest prime factor of <var>n</var>.<br />\n",
    "smpf(91)=7 because 91=7×13 and smpf(45)=3 because 45=3×3×5.<br />\n",
    "Let S(<var>n</var>) be the sum of smpf(<var>i</var>) for 2 ≤ <var>i</var> ≤ <var>n</var>.<br />\n",
    "E.g. S(100)=1257.\n",
    "</p>\n",
    "\n",
    "<p>\n",
    "Find S(10<sup>12</sup>) mod 10<sup>9</sup>.\n",
    "</p>"
   ],
   "metadata": {}
  },
  {
   "outputs": [],
   "cell_type": "code",
   "source": [
    "submit_answer(nothing; prob_num=521)"
   ],
   "metadata": {},
   "execution_count": null
  },
  {
   "cell_type": "markdown",
   "source": [
    "<h2>Problem 522: Hilbert's Blackout</h2>\n",
    "<p>Despite the popularity of Hilbert's infinite hotel, Hilbert decided to try managing extremely large finite hotels, instead.</p>\n",
    "\n",
    "<p>To cut costs, Hilbert wished to power the new hotel with his own special generator. Each floor would send power to the floor above it, with the top floor sending power back down to the bottom floor. That way, Hilbert could have the generator placed on any given floor (as he likes having the option) and have electricity flow freely throughout the entire hotel.</p>\n",
    "\n",
    "<p>Unfortunately, the contractors misinterpreted the schematics when they built the hotel. They informed Hilbert that each floor sends power to another floor at random, instead. This may compromise Hilbert's freedom to have the generator placed anywhere, since blackouts could occur on certain floors.</p>\n",
    "\n",
    "<p>For example, consider a sample flow diagram for a three-story hotel:</p>\n",
    "\n",
    "<p align=\"center\"><img src=\"project/images/p522_hilberts_blackout.png\" alt=\"p522_hilberts_blackout.png\" /></p>\n",
    "\n",
    "<p>If the generator were placed on the first floor, then every floor would receive power. But if it were placed on the second or third floors instead, then there would be a blackout on the first floor. Note that while a given floor can <i>receive</i> power from many other floors at once, it can only <i>send</i> power to one other floor.</p>\n",
    "\n",
    "<p>To resolve the blackout concerns, Hilbert decided to have a minimal number of floors rewired. To rewire a floor is to change the floor it sends power to. In the sample diagram above, all possible blackouts can be avoided by rewiring the second floor to send power to the first floor instead of the third floor.</p>\n",
    "\n",
    "<p>Let F(<var>n</var>) be the sum of the minimum number of floor rewirings needed over all possible power-flow arrangements in a hotel of <var>n</var> floors. For example, F(3) = 6, F(8) = 16276736, and F(100) mod 135707531 = 84326147.</p>\n",
    "\n",
    "<p>Find F(12344321) mod 135707531.</p>"
   ],
   "metadata": {}
  },
  {
   "outputs": [],
   "cell_type": "code",
   "source": [
    "submit_answer(nothing; prob_num=522)"
   ],
   "metadata": {},
   "execution_count": null
  },
  {
   "cell_type": "markdown",
   "source": [
    "<h2>Problem 523: First Sort I</h2>\n",
    "<p>Consider the following algorithm for sorting a list:</p>\n",
    "<ul style=\"list-style-type:none;\"><li>1. Starting from the beginning of the list, check each pair of adjacent elements in turn.</li>\n",
    "<li>2. If the elements are out of order:\n",
    "<ul style=\"list-style-type:none;\"><li>a. Move the smallest element of the pair at the beginning of the list.</li>\n",
    "<li>b. Restart the process from step 1.</li></ul></li>\n",
    "<li>3. If all pairs are in order, stop.</li></ul>\n",
    "<p>For example, the list { 4 1 3 2 } is sorted as follows:</p>\n",
    "<ul style=\"list-style-type:none;\"><li><u>4 1</u> 3 2  (4 and 1 are out of order so move 1 to the front of the list)</li>\n",
    "<li>1 <u>4 3</u> 2  (4 and 3 are out of order so move 3 to the front of the list)</li>\n",
    "<li><u>3 1</u> 4 2  (3 and 1 are out of order so move 1 to the front of the list)</li>\n",
    "<li>1 3 <u>4 2</u>  (4 and 2 are out of order so move 2 to the front of the list)</li>\n",
    "<li><u>2 1</u> 3 4  (2 and 1 are out of order so move 1 to the front of the list)</li>\n",
    "<li>1 2 3 4  (The list is now sorted)</li></ul>\n",
    "\n",
    "<p>Let <var>F</var>(<var>L</var>) be the number of times step 2a is executed to sort list <var>L</var>. For example, <var>F</var>({ 4 1 3 2 }) = 5.</p>\n",
    "\n",
    "<p>Let <var>E</var>(<var>n</var>) be the <b>expected value</b> of <var>F</var>(<var>P</var>) over all permutations <var>P</var> of the integers {1, 2, ..., <var>n</var>}.<br />\n",
    "You are given <var>E</var>(4) = 3.25 and <var>E</var>(10) = 115.725.</p>\n",
    "\n",
    "<p>Find <var>E</var>(30). Give your answer rounded to two digits after the decimal point.</p>"
   ],
   "metadata": {}
  },
  {
   "outputs": [],
   "cell_type": "code",
   "source": [
    "submit_answer(nothing; prob_num=523)"
   ],
   "metadata": {},
   "execution_count": null
  },
  {
   "cell_type": "markdown",
   "source": [
    "<h2>Problem 524: First Sort II</h2>\n",
    "<p>Consider the following algorithm for sorting a list:</p>\n",
    "<ul style=\"list-style-type:none;\"><li>1. Starting from the beginning of the list, check each pair of adjacent elements in turn.</li>\n",
    "<li>2. If the elements are out of order:\n",
    "<ul style=\"list-style-type:none;\"><li>a. Move the smallest element of the pair at the beginning of the list.</li>\n",
    "<li>b. Restart the process from step 1.</li></ul></li>\n",
    "<li>3. If all pairs are in order, stop.</li></ul>\n",
    "<p>For example, the list { 4 1 3 2 } is sorted as follows:</p>\n",
    "<ul style=\"list-style-type:none;\"><li><u>4 1</u> 3 2  (4 and 1 are out of order so move 1 to the front of the list)</li>\n",
    "<li>1 <u>4 3</u> 2  (4 and 3 are out of order so move 3 to the front of the list)</li>\n",
    "<li><u>3 1</u> 4 2  (3 and 1 are out of order so move 1 to the front of the list)</li>\n",
    "<li>1 3 <u>4 2</u>  (4 and 2 are out of order so move 2 to the front of the list)</li>\n",
    "<li><u>2 1</u> 3 4  (2 and 1 are out of order so move 1 to the front of the list)</li>\n",
    "<li>1 2 3 4  (The list is now sorted)</li></ul>\n",
    "\n",
    "<p>Let <var>F</var>(<var>L</var>) be the number of times step 2a is executed to sort list <var>L</var>. For example, <var>F</var>({ 4 1 3 2 }) = 5.</p>\n",
    "\n",
    "<p>We can list all permutations <var>P</var> of the integers {1, 2, ..., <var>n</var>} in <b>lexicographical order</b>, and assign to each permutation an index <var>I</var><sub><var>n</var></sub>(<var>P</var>) from 1 to <var>n</var>! corresponding to its position in the list.\n",
    "\n",
    "</p><p>Let <var>Q</var>(<var>n</var>, <var>k</var>) = min(<var>I</var><sub><var>n</var></sub>(<var>P</var>)) for <var>F</var>(<var>P</var>) = <var>k</var>, the index of the first permutation requiring exactly <var>k</var> steps to sort with First Sort. If there is no permutation for which <var>F</var>(<var>P</var>) = <var>k</var>, then <var>Q</var>(<var>n</var>, <var>k</var>) is undefined.</p>\n",
    "\n",
    "<p>For <var>n</var> = 4 we have:</p>\n",
    "\n",
    "<p></p><table border=\"1\" style=\"text-align:left;\">\n",
    "<tr><th><var>P</var></th><th><var>I</var><sub>4</sub>(<var>P</var>)</th><th><var>F</var>(<var>P</var>)</th><th></th></tr>\n",
    "<tr><td>{1, 2, 3, 4}</td><td>1</td><td>0</td><td>Q(4, 0) = 1</td></tr>\n",
    "<tr><td>{1, 2, 4, 3}</td><td>2</td><td>4</td><td>Q(4, 4) = 2</td></tr>\n",
    "<tr><td>{1, 3, 2, 4}</td><td>3</td><td>2</td><td>Q(4, 2) = 3</td></tr>\n",
    "<tr><td>{1, 3, 4, 2}</td><td>4</td><td>2</td><td></td></tr>\n",
    "<tr><td>{1, 4, 2, 3}</td><td>5</td><td>6</td><td>Q(4, 6) = 5</td></tr>\n",
    "<tr><td>{1, 4, 3, 2}</td><td>6</td><td>4</td><td></td></tr>\n",
    "<tr><td>{2, 1, 3, 4}</td><td>7</td><td>1</td><td>Q(4, 1) = 7</td></tr>\n",
    "<tr><td>{2, 1, 4, 3}</td><td>8</td><td>5</td><td>Q(4, 5) = 8</td></tr>\n",
    "<tr><td>{2, 3, 1, 4}</td><td>9</td><td>1</td><td></td></tr>\n",
    "<tr><td>{2, 3, 4, 1}</td><td>10</td><td>1</td><td></td></tr>\n",
    "<tr><td>{2, 4, 1, 3}</td><td>11</td><td>5</td><td></td></tr>\n",
    "<tr><td>{2, 4, 3, 1}</td><td>12</td><td>3</td><td>Q(4, 3) = 12</td></tr>\n",
    "<tr><td>{3, 1, 2, 4}</td><td>13</td><td>3</td><td></td></tr>\n",
    "<tr><td>{3, 1, 4, 2}</td><td>14</td><td>3</td><td></td></tr>\n",
    "<tr><td>{3, 2, 1, 4}</td><td>15</td><td>2</td><td></td></tr>\n",
    "<tr><td>{3, 2, 4, 1}</td><td>16</td><td>2</td><td></td></tr>\n",
    "<tr><td>{3, 4, 1, 2}</td><td>17</td><td>3</td><td></td></tr>\n",
    "<tr><td>{3, 4, 2, 1}</td><td>18</td><td>2</td><td></td></tr>\n",
    "<tr><td>{4, 1, 2, 3}</td><td>19</td><td>7</td><td>Q(4, 7) = 19</td></tr>\n",
    "<tr><td>{4, 1, 3, 2}</td><td>20</td><td>5</td><td></td></tr>\n",
    "<tr><td>{4, 2, 1, 3}</td><td>21</td><td>6</td><td></td></tr>\n",
    "<tr><td>{4, 2, 3, 1}</td><td>22</td><td>4</td><td></td></tr>\n",
    "<tr><td>{4, 3, 1, 2}</td><td>23</td><td>4</td><td></td></tr>\n",
    "<tr><td>{4, 3, 2, 1}</td><td>24</td><td>3</td><td></td></tr>\n",
    "</table>\n",
    "\n",
    "<p>Let <var>R</var>(<var>k</var>) = min(<var>Q</var>(<var>n</var>, <var>k</var>)) over all <var>n</var> for which <var>Q</var>(<var>n</var>, <var>k</var>) is defined.</p>\n",
    "\n",
    "<p>Find <var>R</var>(12<sup>12</sup>).</p>"
   ],
   "metadata": {}
  },
  {
   "outputs": [],
   "cell_type": "code",
   "source": [
    "submit_answer(nothing; prob_num=524)"
   ],
   "metadata": {},
   "execution_count": null
  },
  {
   "cell_type": "markdown",
   "source": [
    "<h2>Problem 525: Rolling Ellipse</h2>\n",
    "<p>An ellipse <var>E</var>(<var>a</var>, <var>b</var>) is given at its initial position by equation:<br />\n",
    "$\\frac {x^2} {a^2} + \\frac {(y - b)^2} {b^2} = 1$</p>\n",
    "\n",
    "<p>The ellipse rolls without slipping along the <var>x</var> axis for one complete turn. Interestingly, the length of the curve generated by a focus is independent from the size of the minor axis:<br />\n",
    "$F(a,b) =  2 \\pi \\text{ } max(a,b)$</p>\n",
    "\n",
    "<div align=\"center\"><img src=\"project/images/p525-rolling-ellipse-1.gif\" alt=\"p525-rolling-ellipse-1.gif\" /></div>\n",
    "\n",
    "<p>This is not true for the curve generated by the ellipse center. Let <var>C</var>(<var>a</var>,<var>b</var>) be the length of the curve generated by the center of the ellipse as it rolls without slipping for one turn.</p>\n",
    "\n",
    "<div align=\"center\"><img src=\"project/images/p525-rolling-ellipse-2.gif\" alt=\"p525-rolling-ellipse-2.gif\" /></div>\n",
    "\n",
    "<p>You are given <var>C</var>(2, 4) ~ 21.38816906.</p>\n",
    "\n",
    "<p>Find <var>C</var>(1, 4) + <var>C</var>(3, 4). Give your answer rounded to 8 digits behind the decimal point in the form <i>ab.cdefghij</i>.</p>"
   ],
   "metadata": {}
  },
  {
   "outputs": [],
   "cell_type": "code",
   "source": [
    "submit_answer(nothing; prob_num=525)"
   ],
   "metadata": {},
   "execution_count": null
  },
  {
   "cell_type": "markdown",
   "source": [
    "---\n",
    "\n",
    "*This notebook was generated using [Literate.jl](https://github.com/fredrikekre/Literate.jl).*"
   ],
   "metadata": {}
  }
 ],
 "nbformat_minor": 3,
 "metadata": {
  "language_info": {
   "file_extension": ".jl",
   "mimetype": "application/julia",
   "name": "julia",
   "version": "1.6.0-beta1.0"
  },
  "kernelspec": {
   "name": "julia-1.6",
   "display_name": "Julia 1.6.0-beta1.0",
   "language": "julia"
  }
 },
 "nbformat": 4
}
