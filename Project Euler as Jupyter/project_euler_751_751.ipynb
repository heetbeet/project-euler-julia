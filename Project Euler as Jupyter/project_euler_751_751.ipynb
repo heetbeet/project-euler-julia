{
 "cells": [
  {
   "outputs": [],
   "cell_type": "code",
   "source": [
    "include((@__DIR__)*\"/shared.jl\");"
   ],
   "metadata": {},
   "execution_count": null
  },
  {
   "cell_type": "markdown",
   "source": [
    "<h2>Problem 751: Concatenation Coincidence</h2>\n",
    "<p>A non-decreasing sequence of integers $a_n$ can be generated from any positive real value $\\theta$ by the following procedure:\n",
    "\\begin{align}\n",
    "\\begin{split}\n",
    "b_1 &amp;= \\theta \\\\\n",
    "b_n &amp;= \\left\\lfloor b_{n-1} \\right\\rfloor \\left(b_{n-1} - \\left\\lfloor b_{n-1} \\right\\rfloor + 1\\right)~~~\\forall ~ n \\geq 2 \\\\\n",
    "a_n &amp;= \\left\\lfloor b_{n} \\right\\rfloor\n",
    "\\end{split}\n",
    "\\end{align}\n",
    "Where $\\left\\lfloor . \\right\\rfloor$ is the floor function.</p>\n",
    "\n",
    "<p>For example, $\\theta=2.956938891377988...$ generates the Fibonacci sequence: $2, 3, 5, 8, 13, 21, 34, 55, 89, ...$</p>\n",
    "\n",
    "<p>The <i>concatenation</i> of a sequence of positive integers $a_n$ is a real value denoted $\\tau$ constructed by concatenating the elements of the sequence after the decimal point, starting at $a_1$: $a_1.a_2a_3a_4...$</p>\n",
    "\n",
    "<p>For example, the Fibonacci sequence constructed from $\\theta=2.956938891377988...$ yields the concatenation $\\tau=2.3581321345589...$ Clearly, $\\tau \\neq \\theta$ for this value of $\\theta$.</p>\n",
    "\n",
    "<p>Find the only value of $\\theta$ for which the generated sequence starts at $a_1=2$ and the concatenation of the generated sequence equals the original value: $\\tau = \\theta$. Give your answer rounded to 24 places after the decimal point.</p>"
   ],
   "metadata": {}
  },
  {
   "outputs": [],
   "cell_type": "code",
   "source": [
    "submit_answer(nothing; prob_num=751)"
   ],
   "metadata": {},
   "execution_count": null
  },
  {
   "cell_type": "markdown",
   "source": [
    "---\n",
    "\n",
    "*This notebook was generated using [Literate.jl](https://github.com/fredrikekre/Literate.jl).*"
   ],
   "metadata": {}
  }
 ],
 "nbformat_minor": 3,
 "metadata": {
  "language_info": {
   "file_extension": ".jl",
   "mimetype": "application/julia",
   "name": "julia",
   "version": "1.6.0-beta1.0"
  },
  "kernelspec": {
   "name": "julia-1.6",
   "display_name": "Julia 1.6.0-beta1.0",
   "language": "julia"
  }
 },
 "nbformat": 4
}
