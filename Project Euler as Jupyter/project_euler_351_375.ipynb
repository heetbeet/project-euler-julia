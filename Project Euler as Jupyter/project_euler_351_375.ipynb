{
 "cells": [
  {
   "outputs": [],
   "cell_type": "code",
   "source": [
    "include((@__DIR__)*\"/shared.jl\");"
   ],
   "metadata": {},
   "execution_count": null
  },
  {
   "cell_type": "markdown",
   "source": [
    "<h2>Problem 351: Hexagonal orchards</h2>\n",
    "<p>A <i>hexagonal orchard</i> of order <var>n</var> is a triangular lattice made up of points within a regular hexagon with side <var>n</var>. The following is an example of a hexagonal orchard of order 5:\n",
    "</p>\n",
    "\n",
    "<div align=\"center\">\n",
    "<img src=\"project/images/p351_hexorchard.png\" class=\"dark_img\" alt=\"p351_hexorchard.png\" /><br /></div>\n",
    "\n",
    "<p>\n",
    "Highlighted in green are the points which are hidden from the center by a point closer to it. It can be seen that for a hexagonal orchard of order 5, 30 points are hidden from the center.\n",
    "</p>\n",
    "\n",
    "<p>\n",
    "Let H(<var>n</var>) be the number of points hidden from the center in a hexagonal orchard of order <var>n</var>.\n",
    "</p>\n",
    "\n",
    "<p>\n",
    "H(5) = 30. H(10) = 138. H(1 000) = 1177848.\n",
    "</p>\n",
    "\n",
    "<p>\n",
    "Find H(100 000 000).\n",
    "</p>"
   ],
   "metadata": {}
  },
  {
   "outputs": [],
   "cell_type": "code",
   "source": [
    "submit_answer(nothing; prob_num=351)"
   ],
   "metadata": {},
   "execution_count": null
  },
  {
   "cell_type": "markdown",
   "source": [
    "<h2>Problem 352: Blood tests</h2>\n",
    "<p>\n",
    "Each one of the 25 sheep in a flock must be tested for a rare virus, known to affect 2% of the sheep population.\n",
    "An accurate and extremely sensitive PCR test exists for blood samples, producing a clear positive / negative result, but it is very time-consuming and expensive.\n",
    "</p>\n",
    "\n",
    "<p>\n",
    "Because of the high cost, the vet-in-charge suggests that instead of performing 25 separate tests, the following procedure can be used instead:<br /><br />\n",
    "The sheep are split into 5 groups of 5 sheep in each group.\n",
    "For each group, the 5 samples are mixed together and a single test is performed. Then,\n",
    "</p><ul><li>If the result is negative, all the sheep in that group are deemed to be virus-free.</li>\n",
    "<li>If the result is positive, 5 additional tests will be performed (a separate test for each animal) to determine the affected individual(s).</li>\n",
    "</ul><p>\n",
    "Since the probability of infection for any specific animal is only 0.02, the first test (on the pooled samples) for each group will be:\n",
    "</p><ul><li>Negative (and no more tests needed) with probability 0.98<sup>5</sup> = 0.9039207968.</li>\n",
    "<li>Positive (5 additional tests needed) with probability 1 - 0.9039207968 = 0.0960792032.</li>\n",
    "</ul><p>\n",
    "Thus, the expected number of tests for each group is 1 + 0.0960792032 × 5 = 1.480396016.<br />\n",
    "Consequently, all 5 groups can be screened using an average of only 1.480396016 × 5 = <b>7.40198008</b> tests, which represents a huge saving of more than 70% !\n",
    "</p>\n",
    "\n",
    "<p>\n",
    "Although the scheme we have just described seems to be very efficient, it can still be improved considerably (always assuming that the test is sufficiently sensitive and that there are no adverse effects caused by mixing different samples). E.g.:\n",
    "</p><ul><li>We may start by running a test on a mixture of all the 25 samples. It can be verified that in about 60.35% of the cases this test will be negative, thus no more tests will be needed. Further testing will only be required for the remaining 39.65% of the cases.</li>\n",
    "<li>If we know that at least one animal in a group of 5 is infected and the first 4 individual tests come out negative, there is no need to run a test on the fifth animal (we know that it must be infected).</li>\n",
    "<li>We can try a different number of groups / different number of animals in each group, adjusting those numbers at each level so that the total expected number of tests will be minimised.</li>\n",
    "</ul><p>\n",
    "To simplify the very wide range of possibilities, there is one restriction we place when devising the most cost-efficient testing scheme: whenever we start with a mixed sample, all the sheep contributing to that sample must be fully screened (i.e. a verdict of infected / virus-free must be reached for all of them) before we start examining any other animals.\n",
    "</p>\n",
    "For the current example, it turns out that the most cost-efficient testing scheme (we'll call it the <i>optimal strategy</i>) requires an average of just <b>4.155452</b> tests!\n",
    "\n",
    "\n",
    "<p>\n",
    "Using the optimal strategy, let T(<var>s</var>,<var>p</var>) represent the average number of tests needed to screen a flock of <var>s</var> sheep for a virus having probability <var>p</var> to be present in any individual.<br />\n",
    "Thus, rounded to six decimal places, T(25, 0.02) = 4.155452 and T(25, 0.10) = 12.702124.\n",
    "</p>\n",
    "\n",
    "<p>\n",
    "Find <span style=\"font-size:larger;\"><span style=\"font-size:larger;\">∑</span></span> T(10000, p) for p=0.01, 0.02, 0.03, ... 0.50.<br />\n",
    "Give your answer rounded to six decimal places.\n",
    "</p>"
   ],
   "metadata": {}
  },
  {
   "outputs": [],
   "cell_type": "code",
   "source": [
    "submit_answer(nothing; prob_num=352)"
   ],
   "metadata": {},
   "execution_count": null
  },
  {
   "cell_type": "markdown",
   "source": [
    "<h2>Problem 353: Risky moon</h2>\n",
    "<p>\n",
    "A moon could be described by the sphere $C(r)$ with centre $(0,0,0)$ and radius $r$.\n",
    "</p>\n",
    "\n",
    "<p>\n",
    "There are stations on the moon at the points on the surface of $C(r)$ with integer coordinates. The station at $(0,0,r)$ is called North Pole station, the station at $(0,0,-r)$ is called South Pole station.\n",
    "</p>\n",
    "\n",
    "<p>\n",
    "All stations are connected with each other via the shortest road on the great arc through the stations. A journey between two stations is risky. If <var>d</var> is the length of the road between two stations, $\\left(\\frac{d}{\\pi r}\\right)^2$ is a measure for the risk of the journey (let us call it the risk of the road). If the journey includes more than two stations, the risk of the journey is the sum of risks of the used roads.\n",
    "</p>\n",
    "\n",
    "<p>\n",
    "A direct journey from  the North Pole station to the South Pole station has the length $\\pi r$ and risk 1. The journey from the North Pole station to the South Pole station via $(0,r,0)$ has the same length, but a smaller risk:</p>\n",
    "\\[\n",
    "\\left(\\frac{\\frac{1}{2}\\pi r}{\\pi r}\\right)^2+\\left(\\frac{\\frac{1}{2}\\pi r}{\\pi r}\\right)^2=0.5\n",
    "\\]\n",
    "\n",
    "<p>\n",
    "The minimal risk of a journey from the North Pole station to the South Pole station on $C(r)$ is $M(r)$.\n",
    "</p>\n",
    "\n",
    "<p>\n",
    "You are given that $M(7)=0.1784943998$  rounded to 10 digits behind the decimal point.\n",
    "</p>\n",
    "\n",
    "<p>\n",
    "Find $\\displaystyle{\\sum_{n=1}^{15}M(2^n-1)}$.\n",
    "</p>\n",
    "\n",
    "<p>\n",
    "Give your answer rounded to 10 digits behind the decimal point in the form a.bcdefghijk.\n",
    "</p>"
   ],
   "metadata": {}
  },
  {
   "outputs": [],
   "cell_type": "code",
   "source": [
    "submit_answer(nothing; prob_num=353)"
   ],
   "metadata": {},
   "execution_count": null
  },
  {
   "cell_type": "markdown",
   "source": [
    "<h2>Problem 354: Distances in a bee's honeycomb </h2>\n",
    "<p>Consider a honey bee's honeycomb where each cell is a perfect regular hexagon with side length $1$.</p>\n",
    "\n",
    "<div align=\"center\">\n",
    "<img src=\"project/images/p354_bee_honeycomb.png\" alt=\"p354_bee_honeycomb.png\" /></div>\n",
    "\n",
    "\n",
    "<p>\n",
    "One particular cell is occupied by the queen bee.<br />\n",
    "For a positive real number $L$, let $\\text{B}(L)$ count the cells with distance $L$ from the queen bee cell (all distances are measured from centre to centre); you may assume that the honeycomb is large enough to accommodate for any distance we wish to consider. <br />\n",
    "For example, $\\text{B}(\\sqrt 3)=6$, $\\text{B}(\\sqrt {21}) = 12$ and $\\text{B}(111\\,111\\,111) = 54$.</p>\n",
    "\n",
    "<p>Find the number of $L \\le 5 \\times 10^{11}$ such that $\\text{B}(L) = 450$.</p>"
   ],
   "metadata": {}
  },
  {
   "outputs": [],
   "cell_type": "code",
   "source": [
    "submit_answer(nothing; prob_num=354)"
   ],
   "metadata": {},
   "execution_count": null
  },
  {
   "cell_type": "markdown",
   "source": [
    "<h2>Problem 355: Maximal coprime subset</h2>\n",
    "<p>\n",
    "Define Co(<var>n</var>) to be the maximal possible sum of a set of mutually co-prime elements from {1, 2, ..., <var>n</var>}.<br /> For example Co(10) is 30 and hits that maximum on the subset {1, 5, 7, 8, 9}.\n",
    "</p>\n",
    "\n",
    "<p>\n",
    "You are given that Co(30) = 193 and Co(100) = 1356.\n",
    "</p>\n",
    "\n",
    "<p>Find Co(200000).\n",
    "</p>"
   ],
   "metadata": {}
  },
  {
   "outputs": [],
   "cell_type": "code",
   "source": [
    "submit_answer(nothing; prob_num=355)"
   ],
   "metadata": {},
   "execution_count": null
  },
  {
   "cell_type": "markdown",
   "source": [
    "<h2>Problem 356: Largest roots of cubic polynomials</h2>\n",
    "<p>\n",
    "Let <var>a</var><sub><var>n</var></sub> be the largest real root of a polynomial <var>g</var>(x) = x<sup>3</sup> - 2<sup><var>n</var></sup>·x<sup>2</sup> + <var>n</var>.<br />\n",
    "For example, <var>a</var><sub>2</sub> = 3.86619826...</p>\n",
    "\n",
    "<p>\n",
    "Find the last eight digits of $\\sum \\limits_{i = 1}^{30} {\\left \\lfloor a_i^{987654321} \\right \\rfloor}$.</p>\n",
    "\n",
    "<p>\n",
    "<u><i>Note</i></u>: $\\lfloor a \\rfloor$ represents the floor function.</p>"
   ],
   "metadata": {}
  },
  {
   "outputs": [],
   "cell_type": "code",
   "source": [
    "submit_answer(nothing; prob_num=356)"
   ],
   "metadata": {},
   "execution_count": null
  },
  {
   "cell_type": "markdown",
   "source": [
    "<h2>Problem 357: Prime generating integers</h2>\n",
    "<p>\n",
    "Consider the divisors of 30: 1,2,3,5,6,10,15,30.<br />\n",
    "It can be seen that for every divisor <var>d</var> of 30, <var>d</var>+30/<var>d</var> is prime.\n",
    "</p>\n",
    "<p>\n",
    "Find the sum of all positive integers <var>n</var> not exceeding 100 000 000<br />such that\n",
    "for every divisor <var>d</var> of <var>n</var>, <var>d</var>+<var>n</var>/<var>d</var> is prime.\n",
    "</p>"
   ],
   "metadata": {}
  },
  {
   "outputs": [],
   "cell_type": "code",
   "source": [
    "submit_answer(nothing; prob_num=357)"
   ],
   "metadata": {},
   "execution_count": null
  },
  {
   "cell_type": "markdown",
   "source": [
    "<h2>Problem 358: Cyclic numbers</h2>\n",
    "<p>A <b>cyclic number</b> with <var>n</var> digits has a very interesting property:<br />\n",
    "When it is multiplied by 1, 2, 3, 4, ... <var>n</var>, all the products have exactly the same digits, in the same order, but rotated in a circular fashion!\n",
    "</p>\n",
    "\n",
    "<p>\n",
    "The smallest cyclic number is the 6-digit number 142857 :<br />\n",
    "142857 × 1 = 142857<br />\n",
    "142857 × 2 = 285714<br />\n",
    "142857 × 3 = 428571<br />\n",
    "142857 × 4 = 571428<br />\n",
    "142857 × 5 = 714285<br />\n",
    "142857 × 6 = 857142\n",
    "</p>\n",
    "\n",
    "<p>\n",
    "The next cyclic number is 0588235294117647 with 16 digits :<br />\n",
    "0588235294117647 × 1 = 0588235294117647<br />\n",
    "0588235294117647 × 2 = 1176470588235294<br />\n",
    "0588235294117647 × 3 = 1764705882352941<br />\n",
    "...<br />\n",
    "0588235294117647 × 16 = 9411764705882352\n",
    "</p>\n",
    "\n",
    "<p>\n",
    "Note that for cyclic numbers, leading zeros are important.\n",
    "</p>\n",
    "\n",
    "<p>\n",
    "There is only one cyclic number for which, the eleven leftmost digits are 00000000137 and the five rightmost digits are 56789 (i.e., it has the form 00000000137...56789 with an unknown number of digits in the middle). Find the sum of all its digits.\n",
    "</p>"
   ],
   "metadata": {}
  },
  {
   "outputs": [],
   "cell_type": "code",
   "source": [
    "submit_answer(nothing; prob_num=358)"
   ],
   "metadata": {},
   "execution_count": null
  },
  {
   "cell_type": "markdown",
   "source": [
    "<h2>Problem 359: Hilbert's New Hotel</h2>\n",
    "<p>\n",
    "An infinite number of people (numbered 1, 2, 3, etc.) are lined up to get a room at Hilbert's newest infinite hotel. The hotel contains an infinite number of floors (numbered 1, 2, 3, etc.), and each floor contains an infinite number of rooms (numbered 1, 2, 3, etc.).\n",
    "</p>\n",
    "\n",
    "<p>\n",
    "Initially the hotel is empty. Hilbert declares a rule on how the <var>n</var><sup>th</sup> person is assigned a room: person <var>n</var> gets the first vacant room in the lowest numbered floor satisfying either of the following:\n",
    "</p><ul><li>the floor is empty</li>\n",
    "<li>the floor is not empty, and if the latest person taking a room in that floor is person <var>m</var>, then <var>m</var> + <var>n</var> is a perfect square</li>\n",
    "</ul><p>\n",
    "Person 1 gets room 1 in floor 1 since floor 1 is empty.\n",
    "<br />Person 2 does not get room 2 in floor 1 since 1 + 2 = 3 is not a perfect square.\n",
    "<br />Person 2 instead gets room 1 in floor 2 since floor 2 is empty.\n",
    "<br />Person 3 gets room 2 in floor 1 since 1 + 3 = 4 is a perfect square.\n",
    "</p>\n",
    "\n",
    "<p>\n",
    "Eventually, every person in the line gets a room in the hotel.\n",
    "</p>\n",
    "\n",
    "<p>\n",
    "Define P(<var>f</var>, <var>r</var>) to be <var>n</var> if person <var>n</var> occupies room <var>r</var> in floor <var>f</var>, and 0 if no person occupies the room. Here are a few examples:\n",
    "<br />P(1, 1) = 1\n",
    "<br />P(1, 2) = 3\n",
    "<br />P(2, 1) = 2\n",
    "<br />P(10, 20) = 440\n",
    "<br />P(25, 75) = 4863\n",
    "<br />P(99, 100) = 19454\n",
    "</p>\n",
    "\n",
    "<p>\n",
    "Find the sum of all P(<var>f</var>, <var>r</var>) for all positive <var>f</var> and <var>r</var> such that <var>f</var> × <var>r</var> = 71328803586048 and give the last 8 digits as your answer.\n",
    "</p>"
   ],
   "metadata": {}
  },
  {
   "outputs": [],
   "cell_type": "code",
   "source": [
    "submit_answer(nothing; prob_num=359)"
   ],
   "metadata": {},
   "execution_count": null
  },
  {
   "cell_type": "markdown",
   "source": [
    "<h2>Problem 360: Scary Sphere</h2>\n",
    "<p>\n",
    "Given two points (x<sub>1</sub>,y<sub>1</sub>,z<sub>1</sub>) and (x<sub>2</sub>,y<sub>2</sub>,z<sub>2</sub>) in three dimensional space, the <b>Manhattan distance</b>  between those points is defined as <br /> |x<sub>1</sub>-x<sub>2</sub>|+|y<sub>1</sub>-y<sub>2</sub>|+|z<sub>1</sub>-z<sub>2</sub>|.\n",
    "</p>\n",
    "<p>\n",
    "Let C(<var>r</var>) be a sphere with radius <var>r</var> and center in the origin O(0,0,0).<br />\n",
    "Let I(<var>r</var>) be the set of all points with integer coordinates on the surface of C(<var>r</var>).<br />\n",
    "Let S(<var>r</var>) be the sum of the Manhattan distances of all elements of I(<var>r</var>) to the origin O.\n",
    "</p>\n",
    "<p>\n",
    "E.g. S(45)=34518.\n",
    "</p>\n",
    "<p>\n",
    "Find S(10<sup>10</sup>).\n",
    "</p>"
   ],
   "metadata": {}
  },
  {
   "outputs": [],
   "cell_type": "code",
   "source": [
    "submit_answer(nothing; prob_num=360)"
   ],
   "metadata": {},
   "execution_count": null
  },
  {
   "cell_type": "markdown",
   "source": [
    "<h2>Problem 361: Subsequence of Thue-Morse sequence</h2>\n",
    "<p>The <b>Thue-Morse sequence</b> {T<sub><var>n</var></sub>} is a binary sequence satisfying:</p>\n",
    "<ul><li>T<sub>0</sub> = 0</li>\n",
    "<li>T<sub>2<var>n</var></sub> = T<sub><var>n</var></sub></li>\n",
    "<li>T<sub>2<var>n</var>+1</sub> = 1 - T<sub><var>n</var></sub></li>\n",
    "</ul><p>\n",
    "The first several terms of {T<sub><var>n</var></sub>} are given as follows:<br />\n",
    "01101001<span style=\"color:#FF0000;\">10010</span>1101001011001101001....\n",
    "</p>\n",
    "\n",
    "<p>\n",
    "We define {A<sub><var>n</var></sub>} as the sorted sequence of integers such that the binary expression of each element appears as a subsequence in {T<sub><var>n</var></sub>}.<br />\n",
    "For example, the decimal number 18 is expressed as 10010 in binary. 10010 appears in {T<sub><var>n</var></sub>} (T<sub>8</sub> to T<sub>12</sub>), so 18 is an element of {A<sub><var>n</var></sub>}.<br />\n",
    "The decimal number 14 is expressed as 1110 in binary. 1110 never appears in {T<sub><var>n</var></sub>}, so 14 is not an element of {A<sub><var>n</var></sub>}.\n",
    "</p>\n",
    "\n",
    "<p>\n",
    "The first several terms of A<sub><var>n</var></sub> are given as follows:<br /></p><div align=\"center\">\n",
    "<table cellspacing=\"1\" cellpadding=\"5\" border=\"0\" align=\"center\"><tr><td align=\"left\"><var>n</var></td><td>0</td><td>1</td><td>2</td><td>3</td><td>4</td><td>5</td><td>6</td><td>7</td><td>8</td><td>9</td><td>10</td><td>11</td><td>12</td><td>…</td></tr><tr><td>A<sub><var>n</var></sub></td><td>0</td><td>1</td><td>2</td><td>3</td><td>4</td><td>5</td><td>6</td><td>9</td><td>10</td><td>11</td><td>12</td><td>13</td><td>18</td><td>…</td></tr></table></div>\n",
    "\n",
    "\n",
    "<p>\n",
    "We can also verify that A<sub>100</sub> = 3251 and A<sub>1000</sub> = 80852364498.\n",
    "</p>\n",
    "\n",
    "<p>\n",
    "Find the last 9 digits of $\\sum \\limits_{k = 1}^{18} {A_{10^k}}$.\n",
    "</p>"
   ],
   "metadata": {}
  },
  {
   "outputs": [],
   "cell_type": "code",
   "source": [
    "submit_answer(nothing; prob_num=361)"
   ],
   "metadata": {},
   "execution_count": null
  },
  {
   "cell_type": "markdown",
   "source": [
    "<h2>Problem 362: Squarefree factors</h2>\n",
    "<p>\n",
    "Consider the number 54.<br />\n",
    "54 can be factored in 7 distinct ways into one or more factors larger than 1:<br />\n",
    "54, 2×27, 3×18, 6×9, 3×3×6, 2×3×9 and 2×3×3×3.<br />\n",
    "If we require that the factors are all squarefree only two ways remain: 3×3×6 and 2×3×3×3.\n",
    "</p>\n",
    "<p>\n",
    "Let's call Fsf(<var>n</var>) the number of ways <var>n</var> can be factored into one or more squarefree factors larger than 1, so\n",
    "Fsf(54)=2.\n",
    "</p>\n",
    "<p>\n",
    "Let S(<var>n</var>) be <span style=\"font-size:larger;\"><span style=\"font-size:larger;\">∑</span></span> Fsf(<var>k</var>) for <var>k</var>=2 to <var>n</var>.\n",
    "</p>\n",
    "<p>\n",
    "S(100)=193.\n",
    "</p>\n",
    "<p>\n",
    "Find S(10 000 000 000).\n",
    "</p>"
   ],
   "metadata": {}
  },
  {
   "outputs": [],
   "cell_type": "code",
   "source": [
    "submit_answer(nothing; prob_num=362)"
   ],
   "metadata": {},
   "execution_count": null
  },
  {
   "cell_type": "markdown",
   "source": [
    "<h2>Problem 363: Bézier Curves</h2>\n",
    "<p>A cubic Bézier curve is defined by four points: $P_0, P_1, P_2,$ and $P_3$.</p>\n",
    "\n",
    "<div class=\"float_right\"><img src=\"project/images/p363_bezier.png\" class=\"dark_img\" alt=\"p363_bezier.png\" /></div>\n",
    "\n",
    "<p>The curve is constructed as follows:</p>\n",
    "\n",
    "<p>On the segments $P_0 P_1$, $P_1 P_2$, and $P_2 P_3$ the points $Q_0, Q_1,$ and $Q_2$ are drawn such that $\\dfrac{P_0 Q_0}{P_0 P_1} = \\dfrac{P_1 Q_1}{P_1 P_2} = \\dfrac{P_2 Q_2}{P_2 P_3} = t$, with $t$ in $[0, 1]$.</p>\n",
    "\n",
    "<p>On the segments $Q_0 Q_1$ and $Q_1 Q_2$ the points $R_0$ and $R_1$ are drawn such that<br />\n",
    "$\\dfrac{Q_0 R_0}{Q_0 Q_1} = \\dfrac{Q_1 R_1}{Q_1 Q_2} = t$ for the same value of $t$.</p>\n",
    "\n",
    "<p>On the segment $R_0 R_1$ the point $B$ is drawn such that $\\dfrac{R_0 B}{R_0 R_1} = t$ for the same value of $t$.</p>\n",
    "\n",
    "<p>The Bézier curve defined by the points $P_0, P_1, P_2, P_3$ is the locus of $B$ as $Q_0$ takes all possible positions on the segment $P_0 P_1$.<br />\n",
    "(Please note that for all points the value of $t$ is the same.)</p>\n",
    "\n",
    "\n",
    "\n",
    "<p>From the construction it is clear that the Bézier curve will be tangent to the segments $P_0 P_1$ in $P_0$ and $P_2 P_3$ in $P_3$.</p>\n",
    "\n",
    "<p>A cubic Bézier curve with $P_0 = (1, 0), P_1 = (1, v), P_2 = (v, 1),$ and $P_3 = (0, 1)$ is used to approximate a quarter circle.<br />\n",
    "The value $v \\gt 0$ is chosen such that the area enclosed by the lines $O P_0, OP_3$ and the curve is equal to $\\dfrac{\\pi}{4}$ (the area of the quarter circle).</p>\n",
    "\n",
    "<p>By how many percent does the length of the curve differ from the length of the quarter circle?<br />\n",
    "That is, if $L$ is the length of the curve, calculate $100 \\times \\dfrac{L - \\frac{\\pi}{2}}{\\frac{\\pi}{2}}$<br />\n",
    "Give your answer rounded to 10 digits behind the decimal point.</p>"
   ],
   "metadata": {}
  },
  {
   "outputs": [],
   "cell_type": "code",
   "source": [
    "submit_answer(nothing; prob_num=363)"
   ],
   "metadata": {},
   "execution_count": null
  },
  {
   "cell_type": "markdown",
   "source": [
    "<h2>Problem 364: Comfortable distance</h2>\n",
    "<p>\n",
    "There are <var>N</var> seats in a row. <var>N</var> people come after each other to fill the seats according to the following rules:\n",
    "</p><ol type=\"1\"><li>If there is any seat whose adjacent seat(s) are not occupied take such a seat.</li>\n",
    "<li>If there is no such seat and there is any seat for which only one adjacent seat is occupied take such a seat.</li>\n",
    "<li>Otherwise take one of the remaining available seats. </li>\n",
    "</ol>\n",
    "Let T(<var>N</var>) be the number of possibilities that <var>N</var> seats are occupied by <var>N</var> people with the given rules.<br /> The following figure shows T(4)=8.\n",
    "\n",
    "\n",
    "<div align=\"center\">\n",
    "<img src=\"project/images/p364_comf_dist.gif\" class=\"dark_img\" alt=\"p364_comf_dist.gif\" /></div>\n",
    "\n",
    "<p>We can verify that T(10) = 61632 and T(1 000) mod 100 000 007 = 47255094.</p>\n",
    "<p>Find T(1 000 000) mod 100 000 007.</p>"
   ],
   "metadata": {}
  },
  {
   "outputs": [],
   "cell_type": "code",
   "source": [
    "submit_answer(nothing; prob_num=364)"
   ],
   "metadata": {},
   "execution_count": null
  },
  {
   "cell_type": "markdown",
   "source": [
    "<h2>Problem 365: A huge binomial coefficient</h2>\n",
    "<p>\n",
    "The binomial coefficient $\\displaystyle{\\binom{10^{18}}{10^9}}$ is a number with more than 9 billion ($9\\times 10^9$) digits.\n",
    "</p>\n",
    "<p>\n",
    "Let $M(n,k,m)$ denote the binomial coefficient $\\displaystyle{\\binom{n}{k}}$ modulo $m$.\n",
    "</p>\n",
    "<p>\n",
    "Calculate $\\displaystyle{\\sum M(10^{18},10^9,p\\cdot q\\cdot r)}$ for $1000\\lt p\\lt q\\lt r\\lt 5000$ and $p$,$q$,$r$ prime.\n",
    "</p>"
   ],
   "metadata": {}
  },
  {
   "outputs": [],
   "cell_type": "code",
   "source": [
    "submit_answer(nothing; prob_num=365)"
   ],
   "metadata": {},
   "execution_count": null
  },
  {
   "cell_type": "markdown",
   "source": [
    "<h2>Problem 366: Stone Game III</h2>\n",
    "<p>\n",
    "Two players, Anton and Bernhard, are playing the following game.<br />\n",
    "There is one pile of n stones.<br />\n",
    "The first player may remove any positive number of stones, but not the whole pile.<br />\n",
    "Thereafter, each player may remove at most twice the number of stones his opponent took on the previous move.<br />\n",
    "The player who removes the last stone wins.\n",
    "</p>\n",
    "<p>\n",
    "E.g. n=5<br />\n",
    "If the first player takes anything more than one stone the next player will be able to take all remaining stones.<br />\n",
    "If the first player takes one stone, leaving four, his opponent will take also one stone, leaving three stones.<br />\n",
    "The first player cannot take all three because he may take at most 2x1=2 stones. So let's say he takes also one stone, leaving 2. The second player can take the two remaining stones and wins.<br />\n",
    "So 5 is a losing position for the first player.<br />\n",
    "For some winning positions there is more than one possible move for the first player.<br />\n",
    "E.g. when n=17 the first player can remove one or four stones.\n",
    "</p>\n",
    "<p>\n",
    "Let M(n) be the maximum number of stones the first player can take from a winning position <i>at his first turn</i> and M(n)=0 for any other position.\n",
    "</p>\n",
    "<p>\n",
    "<span style=\"font-size:larger;\"><span style=\"font-size:larger;\">∑</span></span> M(n) for n≤100 is 728.\n",
    "</p>\n",
    "<p>\n",
    "Find  <span style=\"font-size:larger;\"><span style=\"font-size:larger;\">∑</span></span> M(n) for n≤10<sup>18</sup>.\n",
    "Give your answer modulo 10<sup>8</sup>.\n",
    "</p>"
   ],
   "metadata": {}
  },
  {
   "outputs": [],
   "cell_type": "code",
   "source": [
    "submit_answer(nothing; prob_num=366)"
   ],
   "metadata": {},
   "execution_count": null
  },
  {
   "cell_type": "markdown",
   "source": [
    "<h2>Problem 367: Bozo sort</h2>\n",
    "<p>\n",
    "<b>Bozo sort</b>, not to be confused with the slightly less efficient <b>bogo sort</b>, consists out of checking if the input sequence is sorted and if not swapping randomly two elements. This is repeated until eventually the sequence is sorted.\n",
    "</p>\n",
    "<p>\n",
    "If we consider all permutations of the first 4 natural numbers as input the expectation value of the number of swaps, averaged over all 4! input sequences is 24.75.<br />\n",
    "The already sorted sequence takes 0 steps.\n",
    "</p>\n",
    "<p>\n",
    "In this problem we consider the following variant on bozo sort.<br />\n",
    "If the sequence is not in order we pick three elements at random and shuffle these three elements randomly.<br />\n",
    "All 3!=6 permutations of those three elements are equally likely. <br />\n",
    "The already sorted sequence will take 0 steps.<br />\n",
    "If we consider all permutations of the first 4 natural numbers as input the expectation value of the number of shuffles, averaged over all 4! input sequences is 27.5. <br />\n",
    "Consider as input sequences the permutations of the first 11 natural numbers.<br />\n",
    "Averaged over all 11! input sequences, what is the expected number of shuffles this sorting algorithm will perform?\n",
    "</p>\n",
    "<p>\n",
    "Give your answer rounded to the nearest integer.\n",
    "</p>"
   ],
   "metadata": {}
  },
  {
   "outputs": [],
   "cell_type": "code",
   "source": [
    "submit_answer(nothing; prob_num=367)"
   ],
   "metadata": {},
   "execution_count": null
  },
  {
   "cell_type": "markdown",
   "source": [
    "<h2>Problem 368: A Kempner-like series</h2>\n",
    "<p>The <b> harmonic series </b> $1 + \\dfrac{1}{2} + \\dfrac{1}{3} + \\dfrac{1}{4} + ...$ is well known to be divergent.</p>\n",
    "\n",
    "<p>If we however omit from this series every term where the denominator has a 9 in it, the series remarkably enough converges to approximately 22.9206766193.<br />\n",
    "This modified harmonic series is called the <b>Kempner</b> series.</p>\n",
    "\n",
    "<p>Let us now consider another modified harmonic series by omitting from the harmonic series every term where the denominator has 3 or more equal consecutive digits.\n",
    "One can verify that out of the first 1200 terms of the harmonic series, only 20 terms will be omitted.<br />\n",
    "These 20 omitted terms are:</p>\n",
    "<p>$$\\dfrac{1}{111}, \\dfrac{1}{222}, \\dfrac{1}{333}, \\dfrac{1}{444}, \\dfrac{1}{555}, \\dfrac{1}{666}, \\dfrac{1}{777}, \\dfrac{1}{888}, \\dfrac{1}{999}, \\dfrac{1}{1000}, \\dfrac{1}{1110},$$\n",
    "$$\\dfrac{1}{1111}, \\dfrac{1}{1112}, \\dfrac{1}{1113}, \\dfrac{1}{1114}, \\dfrac{1}{1115}, \\dfrac{1}{1116}, \\dfrac{1}{1117}, \\dfrac{1}{1118}, \\dfrac{1}{1119}$$</p>\n",
    "\n",
    "<p>This series converges as well.</p>\n",
    "\n",
    "<p>Find the value the series converges to.<br />\n",
    "Give your answer rounded to 10 digits behind the decimal point.</p>"
   ],
   "metadata": {}
  },
  {
   "outputs": [],
   "cell_type": "code",
   "source": [
    "submit_answer(nothing; prob_num=368)"
   ],
   "metadata": {},
   "execution_count": null
  },
  {
   "cell_type": "markdown",
   "source": [
    "<h2>Problem 369: Badugi</h2>\n",
    "<p>In a standard 52 card deck of playing cards, a set of 4 cards is a <b>Badugi</b> if it contains 4 cards with no pairs and no two cards of the same suit.</p>\n",
    "\n",
    "<p>Let f(<var>n</var>) be the number of ways to choose <var>n</var> cards with a 4 card subset that is a Badugi.  For example, there are 2598960 ways to choose five cards from a standard 52 card deck, of which 514800 contain a 4 card subset that is a Badugi, so f(5) = 514800.</p>\n",
    "\n",
    "<p>Find <span style=\"font-size:larger;\"><span style=\"font-size:larger;\">∑</span></span> f(<var>n</var>)  for 4 ≤ <var>n</var> ≤ 13.</p>"
   ],
   "metadata": {}
  },
  {
   "outputs": [],
   "cell_type": "code",
   "source": [
    "submit_answer(nothing; prob_num=369)"
   ],
   "metadata": {},
   "execution_count": null
  },
  {
   "cell_type": "markdown",
   "source": [
    "<h2>Problem 370: Geometric triangles</h2>\n",
    "<p>Let us define a <i>geometric triangle</i> as an integer sided triangle with sides <var>a</var> ≤ <var>b</var> ≤ <var>c</var> so that its sides form a <b>geometric progression</b>, i.e. <var>b<sup>2</sup></var> = <var>a</var> · <var>c</var> . </p>\n",
    "\n",
    "<p>An example of such a geometric triangle is the triangle with sides <var>a</var> = 144, <var>b</var> = 156 and <var>c</var> = 169.</p>\n",
    "\n",
    "<p>There are 861805 geometric triangles with perimeter ≤ 10<sup>6</sup> .</p>\n",
    "\n",
    "<p>How many geometric triangles exist with perimeter ≤ 2.5·10<sup>13</sup> ?</p>"
   ],
   "metadata": {}
  },
  {
   "outputs": [],
   "cell_type": "code",
   "source": [
    "submit_answer(nothing; prob_num=370)"
   ],
   "metadata": {},
   "execution_count": null
  },
  {
   "cell_type": "markdown",
   "source": [
    "<h2>Problem 371: Licence plates</h2>\n",
    "<p>\n",
    "Oregon licence plates consist of three letters followed by a three digit number (each digit can be from [0..9]).<br />\n",
    "While driving to work Seth plays the following game:<br />\n",
    "Whenever the numbers of two licence plates seen on his trip add to 1000 that's a win.\n",
    "</p>\n",
    "<p>\n",
    "E.g. MIC-012 and HAN-988 is a win and RYU-500 and SET-500 too (as long as he sees them in the same trip).\n",
    "</p><p>\n",
    "</p><p>\n",
    "Find the expected number of plates he needs to see for a win.<br />\n",
    "Give your answer rounded to 8 decimal places behind the decimal point.\n",
    "</p>\n",
    "<p style=\"font-size:88%;\">\n",
    "<b>Note:</b> We assume that each licence plate seen is equally likely to have any three digit number on it.\n",
    "</p>"
   ],
   "metadata": {}
  },
  {
   "outputs": [],
   "cell_type": "code",
   "source": [
    "submit_answer(nothing; prob_num=371)"
   ],
   "metadata": {},
   "execution_count": null
  },
  {
   "cell_type": "markdown",
   "source": [
    "<h2>Problem 372: Pencils of rays</h2>\n",
    "<p>\n",
    "Let $R(M, N)$ be the number of lattice points $(x, y)$ which satisfy $M\\!\\lt\\!x\\!\\le\\!N$, $M\\!\\lt\\!y\\!\\le\\!N$ and $\\large\\left\\lfloor\\!\\frac{y^2}{x^2}\\!\\right\\rfloor$ is odd.<br />\n",
    "We can verify that $R(0, 100) = 3019$ and $R(100, 10000) = 29750422$.<br />\n",
    "Find $R(2\\cdot10^6, 10^9)$.\n",
    "</p>\n",
    "\n",
    "<p>\n",
    "<u><i>Note</i></u>: $\\lfloor x\\rfloor$ represents the floor function.</p>"
   ],
   "metadata": {}
  },
  {
   "outputs": [],
   "cell_type": "code",
   "source": [
    "submit_answer(nothing; prob_num=372)"
   ],
   "metadata": {},
   "execution_count": null
  },
  {
   "cell_type": "markdown",
   "source": [
    "<h2>Problem 373: Circumscribed Circles</h2>\n",
    "<p>\n",
    "Every triangle has a circumscribed circle that goes through the three vertices.\n",
    "Consider all integer sided triangles for which the radius of the circumscribed circle is integral as well.\n",
    "</p>\n",
    "<p>\n",
    "Let S(<var>n</var>) be the sum of the radii of the circumscribed circles of all such triangles for which the radius does not exceed <var>n</var>.\n",
    "</p>\n",
    "<p>S(100)=4950 and S(1200)=1653605.\n",
    "</p>\n",
    "<p>\n",
    "Find S(10<sup>7</sup>).\n",
    "</p>"
   ],
   "metadata": {}
  },
  {
   "outputs": [],
   "cell_type": "code",
   "source": [
    "submit_answer(nothing; prob_num=373)"
   ],
   "metadata": {},
   "execution_count": null
  },
  {
   "cell_type": "markdown",
   "source": [
    "<h2>Problem 374: Maximum Integer Partition Product</h2>\n",
    "<p>An integer partition of a number <var>n</var> is a way of writing <var>n</var> as a sum of positive integers.</p>\n",
    "\n",
    "<p>Partitions that differ only in the order of their summands are considered the same.\n",
    "A partition of <var>n</var> into <b>distinct parts</b> is a partition of <var>n</var> in which every part occurs at most once.</p>\n",
    "\n",
    "<p>The partitions of 5 into distinct parts are:\n",
    "<br />5, 4+1 and 3+2.</p>\n",
    "\n",
    "<p>Let f(<var>n</var>) be the maximum product of the parts of any such partition of <var>n</var> into distinct parts and let m(<var>n</var>) be the number of elements of any such partition of <var>n</var> with that product.</p>\n",
    "\n",
    "<p>So f(5)=6 and m(5)=2.</p>\n",
    "\n",
    "<p>For <var>n</var>=10 the partition with the largest product is 10=2+3+5, which gives f(10)=30 and m(10)=3.\n",
    "<br />And their product, f(10)·m(10) = 30·3 = 90</p>\n",
    "\n",
    "<p>It can be verified that\n",
    "<br /><span style=\"font-size:larger;\"><span style=\"font-size:larger;\">∑</span></span> f(<var>n</var>)·m(<var>n</var>) for 1 ≤ <var>n</var> ≤ 100 = 1683550844462.</p>\n",
    "\n",
    "<p>Find <span style=\"font-size:larger;\"><span style=\"font-size:larger;\">∑</span></span> f(<var>n</var>)·m(<var>n</var>) for 1 ≤ <var>n</var> ≤ 10<sup>14</sup>.\n",
    "<br />Give your answer modulo 982451653, the 50 millionth prime.</p>"
   ],
   "metadata": {}
  },
  {
   "outputs": [],
   "cell_type": "code",
   "source": [
    "submit_answer(nothing; prob_num=374)"
   ],
   "metadata": {},
   "execution_count": null
  },
  {
   "cell_type": "markdown",
   "source": [
    "<h2>Problem 375: Minimum of subsequences</h2>\n",
    "<p>Let $S_n$ be an integer sequence produced with the following pseudo-random number generator:</p>\n",
    "\\[\n",
    "\\begin{equation}\n",
    "\\begin{split}\n",
    "S_0 &amp; = 290797 \\\\\n",
    "S_{n+1} &amp; = S_n^2 \\bmod 50515093\n",
    "\\end{split}\n",
    "\\end{equation}\n",
    "\\]\n",
    "\n",
    "<p>\n",
    "Let $A(i, j)$ be the minimum of the numbers $S_i, S_{i+1}, \\ldots, S_j$ for $i\\le j$.<br />\n",
    "Let $M(N) = \\sum A(i, j)$ for $1 \\le i \\le j \\le N$.<br />\n",
    "We can verify that $M(10) = 432256955$ and $M(10\\,000) = 3264567774119$.</p>\n",
    "\n",
    "<p>\n",
    "Find $M(2\\,000\\,000\\,000)$.\n",
    "</p>"
   ],
   "metadata": {}
  },
  {
   "outputs": [],
   "cell_type": "code",
   "source": [
    "submit_answer(nothing; prob_num=375)"
   ],
   "metadata": {},
   "execution_count": null
  },
  {
   "cell_type": "markdown",
   "source": [
    "---\n",
    "\n",
    "*This notebook was generated using [Literate.jl](https://github.com/fredrikekre/Literate.jl).*"
   ],
   "metadata": {}
  }
 ],
 "nbformat_minor": 3,
 "metadata": {
  "language_info": {
   "file_extension": ".jl",
   "mimetype": "application/julia",
   "name": "julia",
   "version": "1.6.0-beta1.0"
  },
  "kernelspec": {
   "name": "julia-1.6",
   "display_name": "Julia 1.6.0-beta1.0",
   "language": "julia"
  }
 },
 "nbformat": 4
}
